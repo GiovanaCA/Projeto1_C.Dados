{
 "cells": [
  {
   "cell_type": "markdown",
   "metadata": {},
   "source": [
    "# Projeto 1 - Ciência dos Dados"
   ]
  },
  {
   "cell_type": "markdown",
   "metadata": {},
   "source": [
    "Nome: Guilherme Martins\r\n",
    "\r\n",
    "Nome: Giovana Cassoni"
   ]
  },
  {
   "cell_type": "markdown",
   "metadata": {},
   "source": [
    "Atenção: Serão permitidos grupos de três pessoas, mas com uma rubrica mais exigente. Grupos deste tamanho precisarão fazer um questionário de avaliação de trabalho em equipe"
   ]
  },
  {
   "cell_type": "markdown",
   "metadata": {},
   "source": [
    "___\n",
    "Carregando algumas bibliotecas:"
   ]
  },
  {
   "cell_type": "code",
   "execution_count": 184,
   "metadata": {},
   "outputs": [],
   "source": [
    "%matplotlib inline\r\n",
    "import pandas as pd\r\n",
    "import matplotlib.pyplot as plt\r\n",
    "import numpy as np\r\n",
    "import os"
   ]
  },
  {
   "cell_type": "code",
   "execution_count": 185,
   "metadata": {
    "scrolled": false
   },
   "outputs": [
    {
     "name": "stdout",
     "output_type": "stream",
     "text": [
      "Esperamos trabalhar no diretório\n",
      "/Users/giovanaandrade/Documents/Insper/Ciência dos Dados/Projeto 1/Projeto1_C.Dados-2\n"
     ]
    }
   ],
   "source": [
    "print('Esperamos trabalhar no diretório')\r\n",
    "print(os.getcwd())"
   ]
  },
  {
   "cell_type": "markdown",
   "metadata": {},
   "source": [
    "Carregando a base de dados com os tweets classificados como relevantes e não relevantes:"
   ]
  },
  {
   "cell_type": "code",
   "execution_count": 186,
   "metadata": {},
   "outputs": [],
   "source": [
    "filename = 'Air Fryer.xlsx'"
   ]
  },
  {
   "cell_type": "code",
   "execution_count": 187,
   "metadata": {},
   "outputs": [
    {
     "data": {
      "text/html": "<div>\n<style scoped>\n    .dataframe tbody tr th:only-of-type {\n        vertical-align: middle;\n    }\n\n    .dataframe tbody tr th {\n        vertical-align: top;\n    }\n\n    .dataframe thead th {\n        text-align: right;\n    }\n</style>\n<table border=\"1\" class=\"dataframe\">\n  <thead>\n    <tr style=\"text-align: right;\">\n      <th></th>\n      <th>Treinamento</th>\n      <th>Relevância</th>\n    </tr>\n  </thead>\n  <tbody>\n    <tr>\n      <th>0</th>\n      <td>air fryer pra canhoto</td>\n      <td>1</td>\n    </tr>\n    <tr>\n      <th>1</th>\n      <td>@vanessapeitos @daizenbvc o franky conseguiria...</td>\n      <td>0</td>\n    </tr>\n    <tr>\n      <th>2</th>\n      <td>adoro poder aplicar meus conhecimentos de enge...</td>\n      <td>1</td>\n    </tr>\n    <tr>\n      <th>3</th>\n      <td>@leilodecornohu1 \"amigo estamos falando de buc...</td>\n      <td>0</td>\n    </tr>\n    <tr>\n      <th>4</th>\n      <td>se eu n mandar isso aqui na dm de alguma esqui...</td>\n      <td>0</td>\n    </tr>\n  </tbody>\n</table>\n</div>",
      "text/plain": "                                         Treinamento  Relevância\n0                              air fryer pra canhoto           1\n1  @vanessapeitos @daizenbvc o franky conseguiria...           0\n2  adoro poder aplicar meus conhecimentos de enge...           1\n3  @leilodecornohu1 \"amigo estamos falando de buc...           0\n4  se eu n mandar isso aqui na dm de alguma esqui...           0"
     },
     "execution_count": 187,
     "metadata": {},
     "output_type": "execute_result"
    }
   ],
   "source": [
    "train = pd.read_excel(filename)\r\n",
    "train.head(5)"
   ]
  },
  {
   "cell_type": "code",
   "execution_count": 188,
   "metadata": {},
   "outputs": [
    {
     "data": {
      "text/html": "<div>\n<style scoped>\n    .dataframe tbody tr th:only-of-type {\n        vertical-align: middle;\n    }\n\n    .dataframe tbody tr th {\n        vertical-align: top;\n    }\n\n    .dataframe thead th {\n        text-align: right;\n    }\n</style>\n<table border=\"1\" class=\"dataframe\">\n  <thead>\n    <tr style=\"text-align: right;\">\n      <th></th>\n      <th>Teste</th>\n      <th>Relevância</th>\n    </tr>\n  </thead>\n  <tbody>\n    <tr>\n      <th>0</th>\n      <td>@poetatulio @tatyene_mendes isso é uma xota ou...</td>\n      <td>0</td>\n    </tr>\n    <tr>\n      <th>1</th>\n      <td>comprei uma air fryer p minha mãe, o bagulho caro</td>\n      <td>0</td>\n    </tr>\n    <tr>\n      <th>2</th>\n      <td>usando air fryer como se não houvesse o amanhã</td>\n      <td>1</td>\n    </tr>\n    <tr>\n      <th>3</th>\n      <td>minha mãe comprou uma air fryer e já ama mais ...</td>\n      <td>1</td>\n    </tr>\n    <tr>\n      <th>4</th>\n      <td>repita comigo: churrasco na air fryer não existe!</td>\n      <td>0</td>\n    </tr>\n  </tbody>\n</table>\n</div>",
      "text/plain": "                                               Teste  Relevância\n0  @poetatulio @tatyene_mendes isso é uma xota ou...           0\n1  comprei uma air fryer p minha mãe, o bagulho caro           0\n2     usando air fryer como se não houvesse o amanhã           1\n3  minha mãe comprou uma air fryer e já ama mais ...           1\n4  repita comigo: churrasco na air fryer não existe!           0"
     },
     "execution_count": 188,
     "metadata": {},
     "output_type": "execute_result"
    }
   ],
   "source": [
    "test = pd.read_excel(filename, sheet_name = 'Teste')\r\n",
    "test.head(5)"
   ]
  },
  {
   "cell_type": "markdown",
   "metadata": {},
   "source": [
    "___\n",
    "## Classificador automático de sentimento\n"
   ]
  },
  {
   "cell_type": "markdown",
   "metadata": {},
   "source": [
    "Faça aqui uma descrição do seu produto e o que considerou como relevante ou não relevante na classificação dos tweets.\n",
    "\n",
    "ESCREVA AQUI..."
   ]
  },
  {
   "cell_type": "markdown",
   "metadata": {},
   "source": [
    "___\n",
    "### Montando um Classificador Naive-Bayes\n",
    "\n",
    "Considerando apenas as mensagens da planilha Treinamento, ensine  seu classificador."
   ]
  },
  {
   "cell_type": "code",
   "execution_count": 189,
   "metadata": {},
   "outputs": [],
   "source": [
    "import re \r\n",
    "\r\n",
    "def cleanup(text):\r\n",
    "    punctuation = '[@!-.:?;]'\r\n",
    "    pattern = re.compile(punctuation)\r\n",
    "    text_subbed = re.sub(pattern, '', text)\r\n",
    "    return text_subbed"
   ]
  },
  {
   "cell_type": "code",
   "execution_count": 190,
   "metadata": {},
   "outputs": [],
   "source": [
    "def cleanup2(text):\r\n",
    "    paragrafo = '\\n'\r\n",
    "    pattern = re.compile(paragrafo)\r\n",
    "    text_subbed = re.sub(pattern, ' ', text)\r\n",
    "    return text_subbed"
   ]
  },
  {
   "cell_type": "code",
   "execution_count": 191,
   "metadata": {},
   "outputs": [],
   "source": [
    "def cleanup3(text):\r\n",
    "    punctuation = '\\/'\r\n",
    "    pattern = re.compile(punctuation)\r\n",
    "    text_subbed = re.sub(pattern, ' ', text)\r\n",
    "    return text_subbed"
   ]
  },
  {
   "cell_type": "code",
   "execution_count": 192,
   "metadata": {},
   "outputs": [],
   "source": [
    "trainR = train.loc[train['Relevância'] == 1,:]\r\n",
    "trainN = train.loc[train['Relevância'] == 0,:]"
   ]
  },
  {
   "cell_type": "code",
   "execution_count": 193,
   "metadata": {},
   "outputs": [],
   "source": [
    "trainR = trainR.Treinamento.apply(str)\r\n",
    "trainR = trainR.to_list()"
   ]
  },
  {
   "cell_type": "code",
   "execution_count": 194,
   "metadata": {},
   "outputs": [],
   "source": [
    "trainN = trainN.Treinamento.apply(str)\r\n",
    "trainN = trainN.to_list()"
   ]
  },
  {
   "cell_type": "code",
   "execution_count": 195,
   "metadata": {},
   "outputs": [],
   "source": [
    "stringR = \" \"\r\n",
    "for i in trainR:\r\n",
    "    stringR = stringR + i + ' '\r\n",
    "stringR = stringR.lower()\r\n",
    "stringR = stringR.replace('air fryer', 'PRODUTO ')\r\n",
    "stringR = cleanup3(cleanup2(cleanup(stringR)))\r\n",
    "palavrasR = stringR.split()"
   ]
  },
  {
   "cell_type": "code",
   "execution_count": 196,
   "metadata": {},
   "outputs": [],
   "source": [
    "stringN = \" \"\r\n",
    "for i in trainN:\r\n",
    "    stringN = stringN + i + ' '\r\n",
    "stringN = stringN.lower()\r\n",
    "stringN = stringN.replace('air fryer', 'PRODUTO ')\r\n",
    "stringN = cleanup3(cleanup2(cleanup(stringN)))\r\n",
    "palavrasN = stringN.split()"
   ]
  },
  {
   "cell_type": "code",
   "execution_count": 197,
   "metadata": {},
   "outputs": [
    {
     "data": {
      "text/plain": "0          PRODUTO\n1              pra\n2          canhoto\n3            adoro\n4            poder\n5          aplicar\n6             meus\n7    conhecimentos\n8               de\n9       engenharia\ndtype: object"
     },
     "execution_count": 197,
     "metadata": {},
     "output_type": "execute_result"
    }
   ],
   "source": [
    "serie_tweets_relevantes = pd.Series(palavrasR)\r\n",
    "serie_tweets_relevantes.head(10)"
   ]
  },
  {
   "cell_type": "code",
   "execution_count": 198,
   "metadata": {},
   "outputs": [
    {
     "data": {
      "text/plain": "0    vanessapeitos\n1        daizenbvc\n2                o\n3           franky\n4      conseguiria\n5          colocar\n6              uma\n7       fritadeira\n8          PRODUTO\n9               no\ndtype: object"
     },
     "execution_count": 198,
     "metadata": {},
     "output_type": "execute_result"
    }
   ],
   "source": [
    "serie_tweets_nao_relevantes = pd.Series(palavrasN)\r\n",
    "serie_tweets_nao_relevantes.head(10)"
   ]
  },
  {
   "cell_type": "code",
   "execution_count": 199,
   "metadata": {},
   "outputs": [
    {
     "data": {
      "text/plain": "PRODUTO       174\nde             96\numa            72\ne              71\nna             61\n             ... \nano             1\nparte           1\nvendo           1\nttbemerguy      1\nmuitooo         1\nLength: 1020, dtype: int64"
     },
     "execution_count": 199,
     "metadata": {},
     "output_type": "execute_result"
    }
   ],
   "source": [
    "tabela_tweets_relevantes = serie_tweets_relevantes.value_counts()\r\n",
    "tabela_tweets_relevantes"
   ]
  },
  {
   "cell_type": "code",
   "execution_count": 200,
   "metadata": {},
   "outputs": [
    {
     "data": {
      "text/plain": "PRODUTO      129\nde            69\numa           57\na             55\nque           46\n            ... \nutiliza        1\nhorizonte      1\nadaptada       1\nvamos          1\nvale           1\nLength: 857, dtype: int64"
     },
     "execution_count": 200,
     "metadata": {},
     "output_type": "execute_result"
    }
   ],
   "source": [
    "tabela_tweets_nao_relevantes = serie_tweets_nao_relevantes.value_counts()\r\n",
    "tabela_tweets_nao_relevantes"
   ]
  },
  {
   "cell_type": "code",
   "execution_count": 201,
   "metadata": {},
   "outputs": [
    {
     "data": {
      "text/plain": "PRODUTO       0.064877\nde            0.035794\numa           0.026846\ne             0.026473\nna            0.022744\n                ...   \nano           0.000373\nparte         0.000373\nvendo         0.000373\nttbemerguy    0.000373\nmuitooo       0.000373\nLength: 1020, dtype: float64"
     },
     "execution_count": 201,
     "metadata": {},
     "output_type": "execute_result"
    }
   ],
   "source": [
    "tabela_tweets_relevantes_relativa = serie_tweets_relevantes.value_counts(True)\r\n",
    "tabela_tweets_relevantes_relativa"
   ]
  },
  {
   "cell_type": "code",
   "execution_count": 202,
   "metadata": {},
   "outputs": [
    {
     "data": {
      "text/plain": "PRODUTO      0.060450\nde           0.032334\numa          0.026710\na            0.025773\nque          0.021556\n               ...   \nutiliza      0.000469\nhorizonte    0.000469\nadaptada     0.000469\nvamos        0.000469\nvale         0.000469\nLength: 857, dtype: float64"
     },
     "execution_count": 202,
     "metadata": {},
     "output_type": "execute_result"
    }
   ],
   "source": [
    "tabela_tweets_nao_relevantes_relativa = serie_tweets_nao_relevantes.value_counts(True)\r\n",
    "tabela_tweets_nao_relevantes_relativa"
   ]
  },
  {
   "cell_type": "code",
   "execution_count": 203,
   "metadata": {},
   "outputs": [],
   "source": [
    "train = train.Treinamento.apply(str)\r\n",
    "train = train.to_list()"
   ]
  },
  {
   "cell_type": "code",
   "execution_count": 204,
   "metadata": {},
   "outputs": [
    {
     "data": {
      "text/plain": "[['air fryer pra canhoto'],\n ['@vanessapeitos @daizenbvc o franky conseguiria colocar uma fritadeira air fryer no pau'],\n ['adoro poder aplicar meus conhecimentos de engenharia eletrica (acabei de arrumar a air fryer)'],\n ['@leilodecornohu1 \"amigo estamos falando de buceta, não de uma air fryer \" kkkkkkk'],\n ['se eu n mandar isso aqui na dm de alguma esquisita ainda hoje eu sou uma air fryer https://t.co/f2fjtqqhbi'],\n ['@nataliabridi viu que a mesma mulher colocava ate chocolate na 🐸 ate ele derreter pro amado poder descer? hahahahaha\\né a buceta air fryer'],\n ['fui fazer um bolinho na air fryer, esborrou\\nganhei bolinho de biscoitinhos de chocolate'],\n ['descobri que batata doce na air fryer é ruim'],\n ['@renataabritto a mulher era uma air fryer, uma air fryer'],\n ['eu queria uma air fryer'],\n ['a fritadeira elétrica nell fit é um eletroportátil que não pode faltar na sua cozinha. o produto proporciona uma alimentação mais saudável, pois não utiliza óleo/air fryer em seu processo de cozimento. #lojasmso  https://t.co/sjmgstxzsg https://t.co/oned5cyrkr'],\n ['minha air fryer chegou 😍'],\n ['@gabivbm tudo é um nojo kkkkkkkkkkkk a candidíase vem braba! isso não é uma buh seta é uma air fryer'],\n ['a buceta da mina é uma air fryer https://t.co/obydcezgmh'],\n ['acha que a bct é air fryer https://t.co/bxpijbq1lh'],\n ['@arthrmirand @didonamaria @eulariis_ @karlaecomk @silvarion_ @thatagabyx @kamayconc parece aquele dia q tu fritou minha linguiça na tua... air fryer'],\n ['eu sou tão desastrosa na cozinha q consigo queimar batata na air fryer'],\n ['passando mal de levs com o ventinho quente batendo em mim como uma simulação da air fryer'],\n ['tô chegando com a air fryer na amoricana'],\n ['eu, você e uma air fryer'],\n ['consegui fazer coração na air fryer que momento senhores !'],\n ['como é bom ter a air fryer de volta \\U0001f972'],\n ['@ch3coohipster hahaha, o vasinho que está na mesa é de vidro transparente. hehe\\nquero ver seu bolo. não faço ideia como fazer na air fryer.'],\n ['churrasco de air fryer c o veio'],\n ['@lipxsccp o pior é q esse mlk tem uma air fryer'],\n ['hoje eu fiz queijo coalho e tomate seco na air fryer. https://t.co/0qjctf5rre'],\n ['é, amigas. ela não para.\\neis o veggie burguer de berinjela. 🍆\\nair fryer, te quiero. \\n\\n*ficou parecendo um cookie, pq ficou pequeno, o pobi. https://t.co/edvpdtb1oz'],\n ['se a air fryer frita tudo igualmente pq eu tenho que mexer'],\n ['eu pensei que nanda tava fazendo comida mas ela está fazendo um pote de argila na air fryer'],\n ['@jovannaaaaa2 eu juro q li air fryer e ia logo pedir uma pra mim tbm'],\n ['minha mãe cismou que queria uma air fryer, e hoje comprei uma pra ela e estou indo levar. ela vai ficar toda boba k k 🥰❤️'],\n ['vamo come pão de alho pronto já lek só colocar na air fryer https://t.co/gmahhtqhjh'],\n ['estou me sentindo dentro de uma air fryer https://t.co/okzz6soode'],\n ['@g0st0s4 ah gente dsclp mas brocolis na air fryer é 01 delicia'],\n ['minha mãe me mandando um tanto de receita vegana de air fryer pq ela sabe q além de vegano eu sou preguiçoso'],\n ['@kcalmyl daí ela só fazia uma porção, tipo do tamanho da palma da mão, e assava no micro-ondas se não me engano, mas se tu tiver forno ou air fryer... se tu já tiver feito cookie antes vai saber o ponto da massa, já que não tem as medidas'],\n ['air fryer tá diferente https://t.co/qjo5l5pr9w'],\n ['@sovaateai @renatobacon tava vendo a galera emocionada nos rt dele, geral achando que é só pegar a maquina da mae fazer umas caneca e devolver depois hahaha mas não deixa de ser uma opçao. \\nna verdade existe uma prensa 3d topperson que é basicamente uma air fryer, o pricipio é o mesmo só tem uns ajustes https://t.co/pmtjacv0cm'],\n ['@3eyyezzz batata doce na air fryer é putaria!!'],\n ['agora a economia decola. mas assim, não avisa ora paulo guedes que ele da um jeito de acabar com o mercado de caneca na air fryer. https://t.co/8fds5kmtrj'],\n ['como me conquistar pela boca:\\n\\nbolo: banana \\ndoce: fini\\nsorvete: nozes, frutas vermelhas \\nsuco: maracujá \\nfruta: morango, melão e manga\\ncarne: frango\\nbatata: doce cozida ou na air fryer \\nágua: gelada\\npizza: não gosto https://t.co/ko7zueghqg'],\n ['fazeno batata frita na air fryer querem?'],\n ['air fryer é a maior invenção da humanidade, parabéns aos envolvidos'],\n ['promoção sou barato: fritadeira elétrica air fryer com 49% off\\nde r$601,70 por r$306,45\\n\\nhttps://t.co/mthmskmnsx\\n\\n#ganhedevolta #vemcomoganhe #cashback #cupom #cupons #desconto #cupomdedesconto #oferta #promoção'],\n ['@stark_romanof mas pq c vai colocar pote na air fryer?'],\n ['eu querendo comprar uma air fryer e um microondas e mãe tentando me convencer a comprar um celular descente'],\n ['a daiane vive pela ong arca de noé e está com uma rifa emergencial pois precisa de 4k para pagar algumas dividas e conseguir comprar mais alimentos para os bichinhos acolhidos.  a rifa vale uma air fryer https://t.co/qgvf4pdyeq vamos ajudar divulgando? @naoinviabilize @alesie'],\n ['batata doce na air fryer é a melhor coisa do mundo'],\n ['dei uma air fryer de presente pra minha mãe e to aqui bem assim 🥰🥰🥰'],\n ['@adrianaramossi não é uma air fryer... 😂😂😂😂 https://t.co/kynfohbo5v'],\n ['minha air fryer chegou! a felicidade do jovem senhor que mora sozinho está completa.'],\n ['@luizagiubertib presta atenção na receita: cozinha palitinho até amolecer - tira e tempera com azeite e temperos - air fryer - come com catchup'],\n ['ficou pronto\\na air fryer foi minha melhor compra desse mês e tenho dito!!!'],\n ['fiz uma abobrinha empanada agora\\nconsiderações finais:\\nna air fryer fica melhor \\ntinha q cortar mais fininho\\nn vale o trabalho \\n\\nmas fico bao'],\n ['status: energia caiu por sobrecarga de ac. me sentindo numa air fryer'],\n ['eu te amo brócolis de air fryer eu te amo'],\n ['segunda foi salgadinho + bolo, ontem foi açaí de cupuaçu, batata frita na air fryer, hoje foi batata de marechal deus me ajude'],\n ['quebrei minha air fryer'],\n ['a gente vê pra onde a idade tá levando a gente quando compra air fryer e panela de pressão elétrica ao invés de comprar joguinhos novos 🤡🤡🤡'],\n ['o que eu como num dia/noite \"fit\"\\n\\n2,5 litros de agua\\num pote desses de salada\\nalface\\ntomate\\numa pera e uma maçã\\npera\\nmaçã\\nmeio limão\\nmistura muito bem\\nsuco natural de laranja\\nbatata feito na air fryer\\ntangerina\\n+2,5 lts de água\\nsnickers\\ntortuguita\\nkitkat\\noutro kitkat\\noutro snick'],\n ['@sandymello uma camisa de time aqui, uma air fryer ali… e assim vamos'],\n ['simmm, aff! quero minha air fryer kkkkkkk https://t.co/1vzx8pfsz8'],\n ['estou muito triste: faz 3 dias que o botão do timer da minha air fryer estragou'],\n ['@barbieluthor é tao bom . so nao gostei do kibe na air fryer :/'],\n ['é isso mesmo que eu entendi goiânia tá na air fryer??'],\n ['qnd chego do treino me sinto um puta lariqueiro, pego tudo q vejo na geladeira e taco na air fryer, cato as coisas do armário e como tudo junto, comida nd a ver c nd'],\n ['@danielnud7 melhor investimento depois da air fryer'],\n ['bom dia a todes em especial para vc que acordou dentro de um air fryer chamado distrito federal.'],\n ['queria uma air fryer pra poder fritar uma bananinha da terra'],\n ['@foimalzzz eu fui vacinar com uma máscara vergonhosa hoje porém com esse clima de air fryer era a melhor adaptada'],\n ['na última manifestação dos caminhoneiros ficamos 2 dias sem gás de cozinha em casa, usando só microondas e air fryer. fui até conferir se o gás ta cheio pq foi um inferno'],\n ['minha mãe vai me matar, acho que quebrei a prr do air fryer'],\n ['air fryer melhor invenção de uma cozinha'],\n ['faz tanto tempo que eu não transo que se uma air fryer der em cima de mim é capaz de eu gostar'],\n ['5kg de batata frita e 2kg de pão de queijo pra fazer na air fryer sou uma pessoa feliz https://t.co/haiyseeakl'],\n ['quem inventou a air fryer deveria ganhar um prêmio'],\n ['@nave1964 eu usei minha air fryer. 🤭'],\n ['fiz uma linguiça mineira com cebola roxa na air fryer, purê de batata, arroz e feijão fresquinho 😋'],\n ['nossa eu não sei fritar uma batata na air fryer 🤡'],\n ['batata frita na air fryer é horrível!!!'],\n ['@infzinha sério bh ta uma air fryer 24h por dia'],\n ['@guiguibuenoo fala nao, tropeirao gelado e pastel na air fryer'],\n ['nossa qui dor ouvir a air fryer ligada sabendo que são meus 12,50 de batata ali e nenhum vai vir p mim 😭'],\n ['@ippedrin1 ventinho gostoso, parece q eu to dentro de uma air fryer'],\n ['acho que eu vou fazer uma batatinha frita na air fryer hen'],\n ['pra q fogao pra q microondas pra q forno \\n\\na nova era eh a da air fryer'],\n ['air fryer demora muito'],\n ['vou fazer uns salgados de frango e batata doce pra fazer na air fryer amanhã.'],\n ['@jaysonshow tá calor até de noite! tô me sentindo numa air fryer kkkk'],\n ['eu tô muito master chef com essa air fryer, pqp. já lancei uma batata assada e agora tô fazendo o filé de frango!!!'],\n ['fazendo um bolo na air fryer torçam pra dar certo pf'],\n ['fiz bolinho de whey na air fryer e estou apaixonada'],\n ['vontade de passar o dia assim, parece que tô o dia todo dentro de uma air fryer https://t.co/mtocxoxhuu'],\n ['estou fazendo essa receita, mas sem pimenta e com 500g apenas.\\n\\nmas acho que não vai dar certo não.\\n\\ndeuses da air fryer, orem aí pelo meu torresmo.'],\n ['viciada em chuchu temperadinho na air fryer'],\n ['fiz um arroz, purê de batata e sobrecoxa de frango com mostarda na air fryer\\n\\naceitam'],\n ['@zoimiudo @rodolpho mano??????????\\ncaraca! eu to chocada!\\nmas deve ter muita gente aí né, pq não é possível, meu deus...\\naqui em casa a última vez que passou dos 100 foi quando descobri o pq, usava mto a air fryer. daí passei a consumir bem menos, e o resultado? a conta baixou bastante'],\n ['a capacidade de se queimar no air fryer…eu na cozinha = perigo ⚠️. agora tô com marca da queimadura, mas que pare por aí e amanhã o vermelho já saia, a dor não exista…'],\n ['@pwarkpalette mas a air fryer frita não refoga...'],\n ['quando bate um vento eu me sinto dentro de uma air fryer'],\n ['@grazie22lima parece que estamos dentro de uma air fryer'],\n ['@lucaspwbto kkkkkkkkkkkkk achei sacanagem pqp se isso tem quase 200m2 eu sou uma air fryer'],\n ['nesse calor, quando liga o ventilador vc está numa air fryer'],\n ['uma das primeiras vezes que saímos pra valer só eu e a menina, chamei pra ir em casa. fomos no mercado, comprei um torcida pimenta mexicana e pra janta perguntei se ela ia querer uma ou duas coxinhas de galinha na air fryer. namoramos há dois anos já https://t.co/lfbmqnzzvu'],\n ['em casa temos uma geladeira, uma tv q mal ligamos, 3 ventiladores e 2 computadores. não temos air fryer, panela/churrasqueira elétrica, chuveiro elétrico ou ar condicionado. esse mês vou pagar 380 reais de conta de luz...'],\n ['@paullohxcx a air fryer te olhando de longe....'],\n ['@gustavot4 me conta depois o drama da vida que é lavar a cesta da air fryer!! rsrsrs'],\n ['@aninhardgs1 dudao vai levar uma air fryer(???)'],\n ['@glaudemias a seita da air fryer está indo longe demais'],\n ['comprei minha air fryer finalmente🤩🤩🤩'],\n ['@giuhepperr fui tirar da air fryer e caiu uma casquinha c queijo no meu dedo'],\n ['fui fazer 6 pao de queijo na air fryer mas esqueci de limpar uns farelinho de bolinha de peixe frito e adivinha? o gosto do bgl ficou de peixe frito.'],\n ['preciso comprar uma air fryer to aqui pesquisando valores mais baratos dentro de parâmetros e lojas que compro.. (pois não compro em certos locais aí)'],\n ['queria uma air fryer'],\n ['@thatagabyx alho refogado?????? essa buc3t4 é uma air fryer?????'],\n ['@laisgcoelho @vvieiravitor eh claro q eu lavo a air fryer sua dissimulada mas mesmo assim fica com esse gosto caracteristico de air fryer'],\n ['@ricciardani óbvio ! o pacote irmã gêmea contém os seguintes itens:\\n- apelido especial\\n- 7 panos por dia para passar\\n- maconha na air fryer\\n- gerson levar um doce de vez em quando'],\n ['quem recomendou usar papel manteiga na air fryer eu quero que você se fodaaa deu tudo errado aqui 👍'],\n ['aqui em casa tudo é frito na air fryer, hoje é peixe, não gosto mto mas pelo menos minha mãe tem q fazer na panela kkkkkkkk'],\n ['belo horizonte voltou a ser uma air fryer'],\n ['@magazineluiza \\nolá! \\ncomprei uma air fryer da oster, pedido 1066570462047403.\\npedi 220v e recebi 110v.\\ne agora?'],\n ['@bikedebigode não aguento mais isso parece q tô vivendo dentro de uma air fryer'],\n ['o quadro \"mentindo para motoristas\" é uma das maiores invenções do ser humano. fica atrás do ar-condicionado e a air fryer.'],\n ['@robertochav3s usar a air fryer pra fazer batata frita até ela virar uma pedra'],\n ['@aka__tina sim (?) até vi um comentário de uma pessoa que perguntou se botava o alho cru ou refogado já kkkkkkkkk outro perguntou se ele achava que a b* era uma air fryer hahaahaha fiquei incrédula com tudo!'],\n ['querendo comprar uma air fryer original da polishop pois influenciada pela minha mãe e por uns amigos dizendo que ela é completamente diferente das genéricas'],\n ['to aqui  pesquisando preço da air fryer sem ter um real no bolso pra comprar'],\n ['burrice do dia to a uns 15 minutos esperando o queijinho assar na air fryer com ela fora da tomada'],\n ['@izzafps deixo a air fryer aquecer por uns 5min na temperatura maxima, depois deixo mais uns 10min aproximadamente a 180, mas depois de 5min da uma chacoalhada só e gg'],\n ['1º almocinho pós viagem dos meus pais já foram 5 nuggets e batata frita, tudo na air fryer\\n\\nsigam-me para mais dicas'],\n ['@lauramazzola14 amém q n tenha nenhuma calabresa dentro da air fryer kkkkkkkkkkkk'],\n ['@giggowhat depende se o bob esponja tem air fryer 🤔'],\n ['@sebbycatb0y 5 min pq minha air fryer é mt potente'],\n ['queria uma air fryer de presente'],\n ['bendita seja a air fryer! tô pedindo desculpas a ela por ter ignorado por tanto tempo.'],\n ['@deborarochap air fryer não gasta mto não.. isso é mito'],\n ['@sebbycatb0y eita joguei a caixa fora pq tinha acabado e o lixo passou, enfim vem 4 bolinhos assim congelados na caixa e vc tem a opção de fazer no forno, micro-ondas ou air fryer aí em cada um tem um tempo e temperatura de preparo   na air fryer era 8min e 180°c se n me engano mas coloquei +'],\n ['tá muito calor pqp, tô me sentindo dentro de uma air fryer phillips wallita'],\n ['fiz uma batata muito boa no air fryer krl'],\n ['preciso de uma air fryer para ontem,tô quase comprando ☺️'],\n ['@tamarutaco e refogue na air fryer pra ficar mais sequinha e saudável'],\n ['ansiosa esperando minha air fryer chegar'],\n ['@vvieiravitor mas e o gosto? tu nao acha q fica impregnado um gosto de air fryer nas comidas q fica tipo tudo o mesmo gosto ruim'],\n ['@barbieluthor falo com tranquilidade que a air fryer é uma das melhores invenções já feita'],\n ['@lipxsccp tem um vídeo que ele faz nuggets na air fryer kkkkkkkkk'],\n ['fui na cozinha ver se meus nugget da air fryer tava pronto, passou 20 minutos e eu não vi que o bagulho tava fora da tomada 😋😋😋😋'],\n ['simplesmente tô viciado em batata. pensei em fazer batata frita na air fryer mas não queria esperar, então peguei batata palha e tô aqui admirando como a batata é braba'],\n ['@beetljuiceeee eu desisti de levar a air fryer, morri com o mochilão'],\n ['fiz abacaxi com canela na air fryer que ficou bom demais, nossaaaa'],\n [\"'festival de prêmios tropical e mondial'! tem ferro de passar roupas, liquidificador turbo, fritadeira air fryer, batedeira planetária, caixa de som bluetooth, aspirador de pó vertical e cafeteira elétrica! 😍 se inscreve agora no nosso site https://t.co/7nnub2pxp3 https://t.co/rdzo46fw6g\"],\n ['lembrando aqui que quebrei o botão da minha air fryer, justo o do temporizador. tóxica demais'],\n ['odeio essa sensação de estar dentro de uma air fryer'],\n ['fico sozinha em casa por menos de 24hrs e o gás acaba comigo fazendo o jantar \\U0001f972 amém air fryer'],\n ['fiz pão de queijo na air fryer https://t.co/urcryl66co'],\n ['minha mãe vai comprar uma air fryer pra mim'],\n ['@joaomnnn @peballa2 tropa da air fryer fritando os frangos!!!!!!!!🤡🤡🤡🤡🤡🤡🤡🤡🤡🤡👿👿👿👿👿👿👿👿👿👿👿'],\n ['tenho 16 anos e tô feliz que a air fryer chegou, isso é normal? daqui a pouco eu tô cheirando confort no mercado kkkkkkkk'],\n ['entrei pra seita da air fryer'],\n ['@andingama bolinha de carne na air fryer. uns 15 minutinhos já fica show'],\n ['eu: passei a semana comendo errado tenho q parar de comer besteira\\neu tb: hm bolinha de queijo congelada 11 conto pra botar na air fryer pq não'],\n ['@vitoriaeh mano, carlos tinha uma função esse final de semana que era fazer linguiça na air fryer, o mlk cortou uns toletao e eu tive que cortar tudo de novo com dificuldade dps'],\n ['minha irmã pra mim pq eu fiquei braba com ela por manter amizade com pessoas que me prejudicaram: \"ai juh, tu é exagerada, tá reclamando por besteira.\"\\nagora já fazem 72hs que ela tá me ignorando pq eu não mostrei a foto de uma air fryer pra minha mãe qdo ela pediu.🙄'],\n ['preferia a era do gelo do que o aquecimento global quem abriu o portão do inferno pfv fechar n aguento mais a sensação termica de air fryer cuuuuuuu'],\n ['@irllaya @thiagorobertodc tá vendo eu nunca te critiquei air fryer, até caneca vc faz'],\n ['cismei que preciso montar um computador novo, ter uma air fryer e comprar uma planta https://t.co/rrl6nh6azk'],\n ['@mahagess adiciono uma air fryer por minha conta'],\n ['estou sem gás    vou jantar hambúrguer de soja  feito na air fryer  boa noite'],\n ['@1903eberhardt vou fazer diferente dessa mina, vou mandar a mina virar de costa pra mim e vou botar uma air fryer nela e fritar umas batatas'],\n ['@adalbertojr97 kkkkkkkkkkkk quem precisa de cama, air fryer, sofá tv'],\n ['comprar uma air fryer'],\n ['@talitabaena air fryer tbm adoro 🤩'],\n ['nem aquela sobre cozinhar crack numa air fryer?'],\n ['menines, sua vagina não foi feita para enfiar comida! é um órgão sexual, não uma air fryer https://t.co/rwdpcmmfpx'],\n ['eu quero uma air fryer e nem é meme ☹️ https://t.co/j0nlizt7rr'],\n ['meus amores.... fiz uns legumes na air fryer..... que sabor https://t.co/bhzljttnsb'],\n ['não existe comparador de air fryer, não? que nem aqueles de celular'],\n ['tô querendo comprar uma air fryer porém não faço de qual comprar'],\n ['@leticia_adr amigakkkkk eu acordei procurando acessorios se air fryer esse tweet sou eu'],\n ['eu me queimei com a air fryer 🤬'],\n ['air fryer eu te amo, faço tudo nela rapidinho e sem esforço mt bom'],\n ['2021 e nego não tem air fryer bicho'],\n ['@jose_barbero64 pão de air fryer ou pão na chapa? faça sua escolha'],\n ['se alguém duvidar do aquecimento global e das consequências das queimadas, manda vir pra goiás pra experimentar como é estar em uma air fryer'],\n ['@taahdinoa avisa que ela já deu air fryer pra todo mundo'],\n ['@dudovisck_ carai vai levar logo a air fryer kkkkkkkkkkkk'],\n ['alguém sabe se pode colocar papel alumínio na air fryer'],\n ['vivendo dentro de uma air fryer em reforma'],\n ['só queria ganhar uma air fryer \\n😪'],\n ['a pessoa que criou o air fryer subestimou de mais o brasileiro https://t.co/mkwdhlsgt4'],\n ['sentada de frente com a air fryer esperando ela terminar de fazer minha janta'],\n ['fui na havan pra comprar um aspirador que nem pra mim era e voltei de lá com o aspirador, uma air fryer, um liquidificador, uma batedeira, um espremedor de fruta e mais umas coisinhas 🙊🙊🙊🙊'],\n ['a air fryer junto com alfredo são meus melhores amigos do lar https://t.co/brjgko873h'],\n ['quase acabando o almoço e aí notei que tava faltando alguma coisa….. coloquei a batata pra fritar na air fryer e esqueci de ligar kkkkkkk'],\n ['nunca mais asso frango no forno pqp demora 3 séculos\\n\\nvai ser na air fryer mesmo fodasse'],\n ['@renatobacon @leilagermano a santa air fryer tem mais uma função'],\n ['tô começando a amar ela do msm jeito q amo air fryer'],\n ['minha air fryer queimou agora, quem vai me presentear com uma? kkkkk'],\n ['air fryer, conte comigo p tudo'],\n ['@sttiles hahaha única coisa “errada” que comi hj foi batata mas frita na air fryer'],\n ['tá achando que é air fryer, olho refogado é foda 🤣 https://t.co/8eojl1keso'],\n ['ganhei a air fryer que eu queria 🥰'],\n ['fiscal aqui do posto perguntou quem vai tomar astrazeneca e agora seis pessoas estão concorrendo a uma air fryer ???'],\n ['se vc quer comprar uma air fryer pq é preguiçoso, e facilita as coisas… não compre por que vc vai ficar com preguiça de lavar e vai virar um caos'],\n ['indo morar sozinha e levando basicamente minha cachorra, uma samambaia e uma air fryer'],\n ['desde que comprei a air fryer nunca mais passei fome, se não for pros 100kg é pq deus me ama'],\n ['goiânia tá dentro de uma air fryer'],\n ['coloquei o negócio na air fryer é só liguei o botão do tempo e ficou 40 min eu achando q tava cozinhando o troço, mas aí quando abri vi que não liguei o botão de graus 🤡 sua burra otaria'],\n ['@jocimanrique eu vi o recorte e pensei \"a joci decorou o bolo com flores?\"\\n\\nmeu bolo acabou de sair do forno (air fryer) https://t.co/cnmoiwpixj'],\n ['trago verdades: nada feito na air fryer fica bom'],\n ['@_claumend segunda-feira anote aí traz a air fryer'],\n ['promoção sou barato: fritadeira elétrica air fryer com 49% off\\nde r$601,70 por r$306,45\\n\\nhttps://t.co/yvafgpkki4\\n\\n#ganhedevolta #vemcomoganhe #cashback #cupom #cupons #desconto #cupomdedesconto #oferta #promoção'],\n ['@boboiola meu deus air fryer é simplesmente a maior maravilha do mundo moderno'],\n ['@kzzylmb amiga, minha mãe tá pensando em comprar aquela air fryer, porque aqui em catu o gás tá quase 100 reais. d:'],\n ['fui fazer filé de frango na air fryer e ficou com gostinho de frango grelhado hmm vou fazer smp agr 😋'],\n ['ganhei uma air fryer de aniversario dos meus pais a vida adulta é boa d+'],\n ['@abrantesluizz minha air fryer tem o mesmo gráfico nesse calor'],\n ['liguei a air fryer pra esquentar o salgado dai 5 minutos tava congelado, coloquei mais 10… abri congelado… dai eu me liguei que coloquei tempo mas esqueci da temperatura alguem por favor me apaga hoje'],\n ['disso a seita da air fryer não conta 😢 https://t.co/pnrfarqqk4'],\n ['corre e aproveite as ofertas do dia!!!\\n\\nclique aqui para comprar no meu site 👉 https://t.co/ccl3ncpnkk\\n\\nvem aproveitar!\\n\\nfritadeira elétrica air fryer mondial 4l\\n\\npor r$ 379,00 ou em 8x de r$ 47,38\\ncódigo: 023324700\\n\\n🚛 frete grátis, exceto região norte\\n\\nentrega para todo brasil https://t.co/mtduuso0xy'],\n ['- mãe, comprei uma air fryer\\n- perdeu de ganhar, pq eu já tinha decidido te dar uma de presente https://t.co/tj5q9pj50i'],\n ['batata na air fryer (rústica como o povo fala)  deu certo demais. @rainekenvirus tava no suporte.'],\n ['depois de um ano desejando uma air fryer, os dias de glória chegaram 🙏🙏🙏'],\n ['@ttbemerguy próxima meta depois da air fryer kkkk'],\n ['*boing *vou leva a air fryer pro quarto'],\n ['hj pra variar mto vegan cardápio arroz com abóbora feijao preto soja com talo de brocolis e batatinha rustica na air fryer suco de morango com maracujá pra dar aquele up go vegan'],\n ['@sebbycatb0y é de massa pronta, só coloquei na air fryer\\nvou pegar a caixa perae'],\n ['quem namora comigo ganha rodízio de mini pizza de air fryer depois do trabalho'],\n ['faz tempo que eu não sou tão fã de comida gordurosa etc e depois que fiz os furos isso piorou então agr eu tenho quase _nojo_ dessas coisas e às vzes é tudo que tem pra comer aqui em casa??? só hot pocket salgadinho de air fryer e coisa do tipo meu d'],\n ['no episódio de hoje aprendemos que frango na air fryer fica duro'],\n ['@thatgabyx só pode ser fakenews \\nninguém ama o suficiente pra refogar com alho refogado antes de uma mamada\\nsó falta dizer que frita a picanha nessa air fryer'],\n ['@natdafn se juntar pontos o suficiente pode trocar por uma air fryer'],\n ['qual é menos caro: fazer linguiça na air fryer e gastar energia ou fazer no forno e gastar gás?'],\n ['sim eu sei cozinhar..\\n\\nna air fryer'],\n ['acabo de ver uma air fryer de brinquedo na shopee'],\n ['esqueci o hamburger dentro da air fryer e aparentemente ocorreu uma reação química e ele virou carbono'],\n ['@lucascastoldi3 sim eu usava mas o mesmo que recomendou papel manteiga falou que papel alumínio diminui a “expectativa de vida” da air fryer 😡 aquele corno'],\n ['revolução industrial foi quando criaram a air fryer'],\n ['quero uma air fryer'],\n ['o ventilador parecendo uma air fryer'],\n ['gente eh sério tu bota frango e batata dentro da air fryer e tu tem um almoço pronto tipo não faz nem sentido sabe'],\n ['eu fiz batata pela primeira vez na air fryer e ficou horrivel, eu to comendo mesmo assim pq a energia tá cara e tb gastou batata'],\n ['bateu um vento aqui na janela, mas ele tava tão quente que eu achei que estava dentro de uma air fryer.'],\n ['feliz da vida que minha mãe comprou uma air fryer!'],\n ['@ojulcta já esquenta a air fryer ai'],\n ['air fryer top 5 invenções do ser humano'],\n ['@barbosasvitoria o segredo é borrifar um pouco de óleo no pastel quando colocar na air fryer, aí a casquinha fica tri boa'],\n ['sdds quando air fryer não existia e a batata frita era frita'],\n ['eu n tenho palavras suficientes para agradecer o vídeo do youtube que me ensinou a fazer ovo frito na air fryer 😩🙏 (160ºc por 7 min na mondial, é bom passar algo pro ovo n grudar na travessa, uso uma de cerâmica)'],\n ['a capacidade que só eu tenho de me queimar numa air fryer pqp'],\n ['nao sei se a air fryer que é alta, se é só eco do corredor no apartamento, ou se eu que tenho audição mais sensível do que eu pensei'],\n ['@jocimanrique o problema é o volume da air fryer. só cabe meia receita.\\nde resto, mesma receita e preaquece normal'],\n ['@qhelldocontra queremos imagens das receitas feitas nessa air fryer pra ontem !!'],\n ['#promoção #oferta \\n\\n💵 por: r$ 318,28 \\n🛒 link: https://t.co/sgekfmbx3u \\nfritadeira mondial sem óleo air fryer family preta iv - af-30i 3,5 litros https://t.co/x613rfsoap'],\n ['eu e o joão victor é um casal incrível pq ao invés de pagar 4.50 em 100g de pão de queijo na padaria… pagamos 4.50 em 300g de pão de queijo congelado no mercado e joguei na air fryer…\\n\\ncompramos 3 pacotes, quase 1kg de pão de queijo, enfim uma noite feliz 🥰🥰🥰🥰'],\n ['minha mãe comprou um aparelho pra cortar legumes e coisas assim e tô achando tudo muito tecnológico mas puta tbm pq qnd eu sair de casa eu vou ter q ter pq vou me acostumar \\ntipo a air fryer \\nnão vejo minha vida sem uma'],\n ['vou ali fritar uma linguicinha na air fryer'],\n ['@thaisassen kkkkkkkkkkkkk \"amiga, não é air fryer\\''],\n ['@whyanaclara aqui não tá muito diferente, andar de moto na rua deve ser tipo estar dentro de uma air fryer... 😊'],\n ['corre e aproveite as ofertas do dia!!!\\n\\nclique aqui para comprar no meu site 👉https://t.co/r5e5khaxfh\\n\\nvem aproveitar!\\n\\nfritadeira elétrica air fryer mondial 4l\\n\\npor r$ 379,00 ou em 8x de r$ 47,38\\n\\ncódigo: 023324700\\n\\n🚛 frete grátis, exceto região norte\\n\\nentrega para todo brasil https://t.co/dbi4hxqvem'],\n ['comprei uma air fryer aaaaaaaaaaaaaaaa'],\n ['receitas da @xxxmamona na air fryer!\\né isso que o brasil precisa!\\nnem existe mas já quero https://t.co/wuuszcyhs5'],\n ['@thatagabyx isso é uma buceta ou uma air fryer?'],\n ['não animo fazer essas coisas sozinha, mas vou fazer uma porção de batatas fritas com um queijinho e uma carninha by air fryer…'],\n ['não quer usar air fryer? prefere comer fritura besuntada de óleo? come, diabo! tô nem aí pro cê não.'],\n ['fiz uma berinjela com queijo e tomate cereja na air fryer, pqp ficou delicinha'],\n ['air fryer só é boa pq não suja o fogao, a melhor invenção pro vagabundo'],\n ['dicionário do meu pai:\\n\\nfree willy = air fryer'],\n ['a guria disse que faz strogonoff usando air fryer...'],\n ['\"compre uma air fryer pra fazer alimentos mais saudáveis\"\\ncafé da manhã: nuggests, batata frita, linguiça e uma coquinha gelada pra acompanhar.'],\n ['@thatagabyx alho refogado, é melhor socar alho na air fryer, enrolado no papel alumínio com azeite e sal grosso'],\n ['se ligar ao mesmo tempo a central de ar, uma air fryer e essa cafeteira dolce gusto, a sua casa se transforma no reator nuclear de chernobyl.'],\n ['air fryer é uma benção né? almocei mandioquinha e batata frita hoje e tô feliz demais.'],\n ['se a alfa romeu não renovar com o giovinazzi eu sou uma air fryer po'],\n ['@jonatan_pach ela te tocou pela air fryer amigo? 😪'],\n ['comprei uma air fryer nunca fui triste'],\n ['me alimentando só de coisas que dá pra fazer na air fryer'],\n ['queimei a linguica na air fryer😐'],\n ['fofinho mijou na cara com essa air fryer de 8 litros 😁😍'],\n ['fritadeira elétrica sem óleo/air fryer nell smart - preta 2,4l com timer\\n\\n✨por r$ 259,00\\n\\nps: magazineffaele é o próprio magazine luiza, tem esse nome porque sou uma parceira do magalu, mas é vendido e entregue por eles \\n\\nlink:https://t.co/6u8xllya0y https://t.co/fzoqvvwaga'],\n ['se a @xxxmamona comprar air fryer, eu e @lepintuiter compramos também'],\n ['@emellymota air fryer é vida, ainda mais com o gás valendo ouro kkkkk'],\n ['eu não quero comprar nada pra casa de baixo, vou comprar tudo novo pra casa nova mas tive que comprar minha air fryer agora 🥺🙌🏽✨🥳'],\n ['ai eu sou uma negação p fzr as coisa nessa air fryer se n queira fica cru que odio kkkkkkkk'],\n ['me queimei na air fryer'],\n ['@mandraberry com fé. porque eu só faço arroz, macarrão e coisas na air fryer :) e salada, melhor parte, amanda'],\n ['@lynconnteixeira “mas fritou no óleo ou na air fryer isso, moça?”'],\n ['tô muitooo empolgado com minha air fryer'],\n ['@silvarion_ @thatagabyx amigo estamos falando de buceta, não de uma air fryer. hahahahahhaha'],\n ['pow lembrei de um imporaten, a cesta da air fryer, chatinho tb'],\n ['tentando fazer torresmo na air fryer.\\n\\nacho que estou vivendo perigosamente.'],\n ['eu preciso parar de ser air fryer das ideia'],\n ['@joaovictor_bs juro q n lembro como era a vida sem air fryer'],\n ['eu feliz da vida pq comprei minha air fryer'],\n ['@carolzinhar010 compra uma air fryer'],\n ['se alguém sentir no coração e quiser me dar de presente um aspirador de pó, um liquidificador ou uma air fryer, estou aceitando'],\n ['@annaborgess air fryer eh foda simplesmente a maior invencao da historia'],\n ['e @chromavka que escolheria brócolis na air fryer \\ntem cabimento? https://t.co/5rv434c1xj'],\n ['estou morando em brasilia ou em uma air fryer'],\n ['queria agradecer ao ser humano que inventou a air fryer, pois otimizou tanto o meu tempo 🤧❤️'],\n ['air fryer filha da puta, prega os trem tudo vai toma no cu']]"
     },
     "execution_count": 204,
     "metadata": {},
     "output_type": "execute_result"
    }
   ],
   "source": [
    "lista_dos_tweets = []\r\n",
    "lista_tweet = []\r\n",
    "for tweet in train:\r\n",
    "  lista_tweet.append(tweet)\r\n",
    "  lista_dos_tweets.append(lista_tweet)\r\n",
    "  lista_tweet = []\r\n",
    "lista_dos_tweets"
   ]
  },
  {
   "cell_type": "code",
   "execution_count": 205,
   "metadata": {},
   "outputs": [],
   "source": [
    "string = \" \"\r\n",
    "for i in train:\r\n",
    "    string = string + i + ' '\r\n",
    "string = string.lower()\r\n",
    "string = string.replace('air fryer', 'PRODUTO ')\r\n",
    "string = cleanup3(cleanup2(cleanup(string)))\r\n",
    "palavras = string.split()"
   ]
  },
  {
   "cell_type": "code",
   "execution_count": 206,
   "metadata": {},
   "outputs": [
    {
     "data": {
      "text/plain": "[['PRODUTO', 'pra', 'canhoto'],\n ['vanessapeitos',\n  'daizenbvc',\n  'o',\n  'franky',\n  'conseguiria',\n  'colocar',\n  'uma',\n  'fritadeira',\n  'PRODUTO',\n  'no',\n  'pau'],\n ['adoro',\n  'poder',\n  'aplicar',\n  'meus',\n  'conhecimentos',\n  'de',\n  'engenharia',\n  'eletrica',\n  'acabei',\n  'de',\n  'arrumar',\n  'a',\n  'PRODUTO'],\n ['leilodecornohu1',\n  'amigo',\n  'estamos',\n  'falando',\n  'de',\n  'buceta',\n  'não',\n  'de',\n  'uma',\n  'PRODUTO',\n  'kkkkkkk'],\n ['se',\n  'eu',\n  'n',\n  'mandar',\n  'isso',\n  'aqui',\n  'na',\n  'dm',\n  'de',\n  'alguma',\n  'esquisita',\n  'ainda',\n  'hoje',\n  'eu',\n  'sou',\n  'uma',\n  'PRODUTO',\n  'https',\n  'tco',\n  'f2fjtqqhbi'],\n ['nataliabridi',\n  'viu',\n  'que',\n  'a',\n  'mesma',\n  'mulher',\n  'colocava',\n  'ate',\n  'chocolate',\n  'na',\n  '🐸',\n  'ate',\n  'ele',\n  'derreter',\n  'pro',\n  'amado',\n  'poder',\n  'descer',\n  'hahahahaha',\n  'é',\n  'a',\n  'buceta',\n  'PRODUTO'],\n ['fui',\n  'fazer',\n  'um',\n  'bolinho',\n  'na',\n  'PRODUTO',\n  'esborrou',\n  'ganhei',\n  'bolinho',\n  'de',\n  'biscoitinhos',\n  'de',\n  'chocolate'],\n ['descobri', 'que', 'batata', 'doce', 'na', 'PRODUTO', 'é', 'ruim'],\n ['renataabritto', 'a', 'mulher', 'era', 'uma', 'PRODUTO', 'uma', 'PRODUTO'],\n ['eu', 'queria', 'uma', 'PRODUTO'],\n ['a',\n  'fritadeira',\n  'elétrica',\n  'nell',\n  'fit',\n  'é',\n  'um',\n  'eletroportátil',\n  'que',\n  'não',\n  'pode',\n  'faltar',\n  'na',\n  'sua',\n  'cozinha',\n  'o',\n  'produto',\n  'proporciona',\n  'uma',\n  'alimentação',\n  'mais',\n  'saudável',\n  'pois',\n  'não',\n  'utiliza',\n  'óleo',\n  'PRODUTO',\n  'em',\n  'seu',\n  'processo',\n  'de',\n  'cozimento',\n  'lojasmso',\n  'https',\n  'tco',\n  'sjmgstxzsg',\n  'https',\n  'tco',\n  'oned5cyrkr'],\n ['minha', 'PRODUTO', 'chegou', '😍'],\n ['gabivbm',\n  'tudo',\n  'é',\n  'um',\n  'nojo',\n  'kkkkkkkkkkkk',\n  'a',\n  'candidíase',\n  'vem',\n  'braba',\n  'isso',\n  'não',\n  'é',\n  'uma',\n  'buh',\n  'seta',\n  'é',\n  'uma',\n  'PRODUTO'],\n ['a',\n  'buceta',\n  'da',\n  'mina',\n  'é',\n  'uma',\n  'PRODUTO',\n  'https',\n  'tco',\n  'obydcezgmh'],\n ['acha', 'que', 'a', 'bct', 'é', 'PRODUTO', 'https', 'tco', 'bxpijbq1lh'],\n ['arthrmirand',\n  'didonamaria',\n  'eulariis_',\n  'karlaecomk',\n  'silvarion_',\n  'thatagabyx',\n  'kamayconc',\n  'parece',\n  'aquele',\n  'dia',\n  'q',\n  'tu',\n  'fritou',\n  'minha',\n  'linguiça',\n  'na',\n  'tua',\n  'PRODUTO'],\n ['eu',\n  'sou',\n  'tão',\n  'desastrosa',\n  'na',\n  'cozinha',\n  'q',\n  'consigo',\n  'queimar',\n  'batata',\n  'na',\n  'PRODUTO'],\n ['passando',\n  'mal',\n  'de',\n  'levs',\n  'com',\n  'o',\n  'ventinho',\n  'quente',\n  'batendo',\n  'em',\n  'mim',\n  'como',\n  'uma',\n  'simulação',\n  'da',\n  'PRODUTO'],\n ['tô', 'chegando', 'com', 'a', 'PRODUTO', 'na', 'amoricana'],\n ['eu', 'você', 'e', 'uma', 'PRODUTO'],\n ['consegui',\n  'fazer',\n  'coração',\n  'na',\n  'PRODUTO',\n  'que',\n  'momento',\n  'senhores'],\n ['como', 'é', 'bom', 'ter', 'a', 'PRODUTO', 'de', 'volta', '\\U0001f972'],\n ['ch3coohipster',\n  'hahaha',\n  'o',\n  'vasinho',\n  'que',\n  'está',\n  'na',\n  'mesa',\n  'é',\n  'de',\n  'vidro',\n  'transparente',\n  'hehe',\n  'quero',\n  'ver',\n  'seu',\n  'bolo',\n  'não',\n  'faço',\n  'ideia',\n  'como',\n  'fazer',\n  'na',\n  'PRODUTO'],\n ['churrasco', 'de', 'PRODUTO', 'c', 'o', 'veio'],\n ['lipxsccp', 'o', 'pior', 'é', 'q', 'esse', 'mlk', 'tem', 'uma', 'PRODUTO'],\n ['hoje',\n  'eu',\n  'fiz',\n  'queijo',\n  'coalho',\n  'e',\n  'tomate',\n  'seco',\n  'na',\n  'PRODUTO',\n  'https',\n  'tco',\n  '0qjctf5rre'],\n ['é',\n  'amigas',\n  'ela',\n  'não',\n  'para',\n  'eis',\n  'o',\n  'veggie',\n  'burguer',\n  'de',\n  'berinjela',\n  '🍆',\n  'PRODUTO',\n  'te',\n  'quiero',\n  'ficou',\n  'parecendo',\n  'um',\n  'cookie',\n  'pq',\n  'ficou',\n  'pequeno',\n  'o',\n  'pobi',\n  'https',\n  'tco',\n  'edvpdtb1oz'],\n ['se',\n  'a',\n  'PRODUTO',\n  'frita',\n  'tudo',\n  'igualmente',\n  'pq',\n  'eu',\n  'tenho',\n  'que',\n  'mexer'],\n ['eu',\n  'pensei',\n  'que',\n  'nanda',\n  'tava',\n  'fazendo',\n  'comida',\n  'mas',\n  'ela',\n  'está',\n  'fazendo',\n  'um',\n  'pote',\n  'de',\n  'argila',\n  'na',\n  'PRODUTO'],\n ['jovannaaaaa2',\n  'eu',\n  'juro',\n  'q',\n  'li',\n  'PRODUTO',\n  'e',\n  'ia',\n  'logo',\n  'pedir',\n  'uma',\n  'pra',\n  'mim',\n  'tbm'],\n ['minha',\n  'mãe',\n  'cismou',\n  'que',\n  'queria',\n  'uma',\n  'PRODUTO',\n  'e',\n  'hoje',\n  'comprei',\n  'uma',\n  'pra',\n  'ela',\n  'e',\n  'estou',\n  'indo',\n  'levar',\n  'ela',\n  'vai',\n  'ficar',\n  'toda',\n  'boba',\n  'k',\n  'k',\n  '🥰❤️'],\n ['vamo',\n  'come',\n  'pão',\n  'de',\n  'alho',\n  'pronto',\n  'já',\n  'lek',\n  'só',\n  'colocar',\n  'na',\n  'PRODUTO',\n  'https',\n  'tco',\n  'gmahhtqhjh'],\n ['estou',\n  'me',\n  'sentindo',\n  'dentro',\n  'de',\n  'uma',\n  'PRODUTO',\n  'https',\n  'tco',\n  'okzz6soode'],\n ['g0st0s4',\n  'ah',\n  'gente',\n  'dsclp',\n  'mas',\n  'brocolis',\n  'na',\n  'PRODUTO',\n  'é',\n  '01',\n  'delicia'],\n ['minha',\n  'mãe',\n  'me',\n  'mandando',\n  'um',\n  'tanto',\n  'de',\n  'receita',\n  'vegana',\n  'de',\n  'PRODUTO',\n  'pq',\n  'ela',\n  'sabe',\n  'q',\n  'além',\n  'de',\n  'vegano',\n  'eu',\n  'sou',\n  'preguiçoso'],\n ['kcalmyl',\n  'daí',\n  'ela',\n  'só',\n  'fazia',\n  'uma',\n  'porção',\n  'tipo',\n  'do',\n  'tamanho',\n  'da',\n  'palma',\n  'da',\n  'mão',\n  'e',\n  'assava',\n  'no',\n  'microondas',\n  'se',\n  'não',\n  'me',\n  'engano',\n  'mas',\n  'se',\n  'tu',\n  'tiver',\n  'forno',\n  'ou',\n  'PRODUTO',\n  'se',\n  'tu',\n  'já',\n  'tiver',\n  'feito',\n  'cookie',\n  'antes',\n  'vai',\n  'saber',\n  'o',\n  'ponto',\n  'da',\n  'massa',\n  'já',\n  'que',\n  'não',\n  'tem',\n  'as',\n  'medidas'],\n ['PRODUTO', 'tá', 'diferente', 'https', 'tco', 'qjo5l5pr9w'],\n ['sovaateai',\n  'renatobacon',\n  'tava',\n  'vendo',\n  'a',\n  'galera',\n  'emocionada',\n  'nos',\n  'rt',\n  'dele',\n  'geral',\n  'achando',\n  'que',\n  'é',\n  'só',\n  'pegar',\n  'a',\n  'maquina',\n  'da',\n  'mae',\n  'fazer',\n  'umas',\n  'caneca',\n  'e',\n  'devolver',\n  'depois',\n  'hahaha',\n  'mas',\n  'não',\n  'deixa',\n  'de',\n  'ser',\n  'uma',\n  'opçao',\n  'na',\n  'verdade',\n  'existe',\n  'uma',\n  'prensa',\n  '3d',\n  'topperson',\n  'que',\n  'é',\n  'basicamente',\n  'uma',\n  'PRODUTO',\n  'o',\n  'pricipio',\n  'é',\n  'o',\n  'mesmo',\n  'só',\n  'tem',\n  'uns',\n  'ajustes',\n  'https',\n  'tco',\n  'pmtjacv0cm'],\n ['3eyyezzz', 'batata', 'doce', 'na', 'PRODUTO', 'é', 'putaria'],\n ['agora',\n  'a',\n  'economia',\n  'decola',\n  'mas',\n  'assim',\n  'não',\n  'avisa',\n  'ora',\n  'paulo',\n  'guedes',\n  'que',\n  'ele',\n  'da',\n  'um',\n  'jeito',\n  'de',\n  'acabar',\n  'com',\n  'o',\n  'mercado',\n  'de',\n  'caneca',\n  'na',\n  'PRODUTO',\n  'https',\n  'tco',\n  '8fds5kmtrj'],\n ['como',\n  'me',\n  'conquistar',\n  'pela',\n  'boca',\n  'bolo',\n  'banana',\n  'doce',\n  'fini',\n  'sorvete',\n  'nozes',\n  'frutas',\n  'vermelhas',\n  'suco',\n  'maracujá',\n  'fruta',\n  'morango',\n  'melão',\n  'e',\n  'manga',\n  'carne',\n  'frango',\n  'batata',\n  'doce',\n  'cozida',\n  'ou',\n  'na',\n  'PRODUTO',\n  'água',\n  'gelada',\n  'pizza',\n  'não',\n  'gosto',\n  'https',\n  'tco',\n  'ko7zueghqg'],\n ['fazeno', 'batata', 'frita', 'na', 'PRODUTO', 'querem'],\n ['PRODUTO',\n  'é',\n  'a',\n  'maior',\n  'invenção',\n  'da',\n  'humanidade',\n  'parabéns',\n  'aos',\n  'envolvidos'],\n ['promoção',\n  'sou',\n  'barato',\n  'fritadeira',\n  'elétrica',\n  'PRODUTO',\n  'com',\n  '49',\n  'off',\n  'de',\n  'r60170',\n  'por',\n  'r30645',\n  'https',\n  'tco',\n  'mthmskmnsx',\n  'ganhedevolta',\n  'vemcomoganhe',\n  'cashback',\n  'cupom',\n  'cupons',\n  'desconto',\n  'cupomdedesconto',\n  'oferta',\n  'promoção'],\n ['stark_romanof',\n  'mas',\n  'pq',\n  'c',\n  'vai',\n  'colocar',\n  'pote',\n  'na',\n  'PRODUTO'],\n ['eu',\n  'querendo',\n  'comprar',\n  'uma',\n  'PRODUTO',\n  'e',\n  'um',\n  'microondas',\n  'e',\n  'mãe',\n  'tentando',\n  'me',\n  'convencer',\n  'a',\n  'comprar',\n  'um',\n  'celular',\n  'descente'],\n ['a',\n  'daiane',\n  'vive',\n  'pela',\n  'ong',\n  'arca',\n  'de',\n  'noé',\n  'e',\n  'está',\n  'com',\n  'uma',\n  'rifa',\n  'emergencial',\n  'pois',\n  'precisa',\n  'de',\n  '4k',\n  'para',\n  'pagar',\n  'algumas',\n  'dividas',\n  'e',\n  'conseguir',\n  'comprar',\n  'mais',\n  'alimentos',\n  'para',\n  'os',\n  'bichinhos',\n  'acolhidos',\n  'a',\n  'rifa',\n  'vale',\n  'uma',\n  'PRODUTO',\n  'https',\n  'tco',\n  'qgvf4pdyeq',\n  'vamos',\n  'ajudar',\n  'divulgando',\n  'naoinviabilize',\n  'alesie'],\n ['batata',\n  'doce',\n  'na',\n  'PRODUTO',\n  'é',\n  'a',\n  'melhor',\n  'coisa',\n  'do',\n  'mundo'],\n ['dei',\n  'uma',\n  'PRODUTO',\n  'de',\n  'presente',\n  'pra',\n  'minha',\n  'mãe',\n  'e',\n  'to',\n  'aqui',\n  'bem',\n  'assim',\n  '🥰🥰🥰'],\n ['adrianaramossi',\n  'não',\n  'é',\n  'uma',\n  'PRODUTO',\n  '😂😂😂😂',\n  'https',\n  'tco',\n  'kynfohbo5v'],\n ['minha',\n  'PRODUTO',\n  'chegou',\n  'a',\n  'felicidade',\n  'do',\n  'jovem',\n  'senhor',\n  'que',\n  'mora',\n  'sozinho',\n  'está',\n  'completa'],\n ['luizagiubertib',\n  'presta',\n  'atenção',\n  'na',\n  'receita',\n  'cozinha',\n  'palitinho',\n  'até',\n  'amolecer',\n  'tira',\n  'e',\n  'tempera',\n  'com',\n  'azeite',\n  'e',\n  'temperos',\n  'PRODUTO',\n  'come',\n  'com',\n  'catchup'],\n ['ficou',\n  'pronto',\n  'a',\n  'PRODUTO',\n  'foi',\n  'minha',\n  'melhor',\n  'compra',\n  'desse',\n  'mês',\n  'e',\n  'tenho',\n  'dito'],\n ['fiz',\n  'uma',\n  'abobrinha',\n  'empanada',\n  'agora',\n  'considerações',\n  'finais',\n  'na',\n  'PRODUTO',\n  'fica',\n  'melhor',\n  'tinha',\n  'q',\n  'cortar',\n  'mais',\n  'fininho',\n  'n',\n  'vale',\n  'o',\n  'trabalho',\n  'mas',\n  'fico',\n  'bao'],\n ['status',\n  'energia',\n  'caiu',\n  'por',\n  'sobrecarga',\n  'de',\n  'ac',\n  'me',\n  'sentindo',\n  'numa',\n  'PRODUTO'],\n ['eu', 'te', 'amo', 'brócolis', 'de', 'PRODUTO', 'eu', 'te', 'amo'],\n ['segunda',\n  'foi',\n  'salgadinho',\n  'bolo',\n  'ontem',\n  'foi',\n  'açaí',\n  'de',\n  'cupuaçu',\n  'batata',\n  'frita',\n  'na',\n  'PRODUTO',\n  'hoje',\n  'foi',\n  'batata',\n  'de',\n  'marechal',\n  'deus',\n  'me',\n  'ajude'],\n ['quebrei', 'minha', 'PRODUTO'],\n ['a',\n  'gente',\n  'vê',\n  'pra',\n  'onde',\n  'a',\n  'idade',\n  'tá',\n  'levando',\n  'a',\n  'gente',\n  'quando',\n  'compra',\n  'PRODUTO',\n  'e',\n  'panela',\n  'de',\n  'pressão',\n  'elétrica',\n  'ao',\n  'invés',\n  'de',\n  'comprar',\n  'joguinhos',\n  'novos',\n  '🤡🤡🤡'],\n ['o',\n  'que',\n  'eu',\n  'como',\n  'num',\n  'dia',\n  'noite',\n  'fit',\n  '25',\n  'litros',\n  'de',\n  'agua',\n  'um',\n  'pote',\n  'desses',\n  'de',\n  'salada',\n  'alface',\n  'tomate',\n  'uma',\n  'pera',\n  'e',\n  'uma',\n  'maçã',\n  'pera',\n  'maçã',\n  'meio',\n  'limão',\n  'mistura',\n  'muito',\n  'bem',\n  'suco',\n  'natural',\n  'de',\n  'laranja',\n  'batata',\n  'feito',\n  'na',\n  'PRODUTO',\n  'tangerina',\n  '25',\n  'lts',\n  'de',\n  'água',\n  'snickers',\n  'tortuguita',\n  'kitkat',\n  'outro',\n  'kitkat',\n  'outro',\n  'snick'],\n ['sandymello',\n  'uma',\n  'camisa',\n  'de',\n  'time',\n  'aqui',\n  'uma',\n  'PRODUTO',\n  'ali…',\n  'e',\n  'assim',\n  'vamos'],\n ['simmm',\n  'aff',\n  'quero',\n  'minha',\n  'PRODUTO',\n  'kkkkkkk',\n  'https',\n  'tco',\n  '1vzx8pfsz8'],\n ['estou',\n  'muito',\n  'triste',\n  'faz',\n  '3',\n  'dias',\n  'que',\n  'o',\n  'botão',\n  'do',\n  'timer',\n  'da',\n  'minha',\n  'PRODUTO',\n  'estragou'],\n ['barbieluthor',\n  'é',\n  'tao',\n  'bom',\n  'so',\n  'nao',\n  'gostei',\n  'do',\n  'kibe',\n  'na',\n  'PRODUTO'],\n ['é',\n  'isso',\n  'mesmo',\n  'que',\n  'eu',\n  'entendi',\n  'goiânia',\n  'tá',\n  'na',\n  'PRODUTO'],\n ['qnd',\n  'chego',\n  'do',\n  'treino',\n  'me',\n  'sinto',\n  'um',\n  'puta',\n  'lariqueiro',\n  'pego',\n  'tudo',\n  'q',\n  'vejo',\n  'na',\n  'geladeira',\n  'e',\n  'taco',\n  'na',\n  'PRODUTO',\n  'cato',\n  'as',\n  'coisas',\n  'do',\n  'armário',\n  'e',\n  'como',\n  'tudo',\n  'junto',\n  'comida',\n  'nd',\n  'a',\n  'ver',\n  'c',\n  'nd'],\n ['danielnud7', 'melhor', 'investimento', 'depois', 'da', 'PRODUTO'],\n ['bom',\n  'dia',\n  'a',\n  'todes',\n  'em',\n  'especial',\n  'para',\n  'vc',\n  'que',\n  'acordou',\n  'dentro',\n  'de',\n  'um',\n  'PRODUTO',\n  'chamado',\n  'distrito',\n  'federal'],\n ['queria',\n  'uma',\n  'PRODUTO',\n  'pra',\n  'poder',\n  'fritar',\n  'uma',\n  'bananinha',\n  'da',\n  'terra'],\n ['foimalzzz',\n  'eu',\n  'fui',\n  'vacinar',\n  'com',\n  'uma',\n  'máscara',\n  'vergonhosa',\n  'hoje',\n  'porém',\n  'com',\n  'esse',\n  'clima',\n  'de',\n  'PRODUTO',\n  'era',\n  'a',\n  'melhor',\n  'adaptada'],\n ['na',\n  'última',\n  'manifestação',\n  'dos',\n  'caminhoneiros',\n  'ficamos',\n  '2',\n  'dias',\n  'sem',\n  'gás',\n  'de',\n  'cozinha',\n  'em',\n  'casa',\n  'usando',\n  'só',\n  'microondas',\n  'e',\n  'PRODUTO',\n  'fui',\n  'até',\n  'conferir',\n  'se',\n  'o',\n  'gás',\n  'ta',\n  'cheio',\n  'pq',\n  'foi',\n  'um',\n  'inferno'],\n ['minha',\n  'mãe',\n  'vai',\n  'me',\n  'matar',\n  'acho',\n  'que',\n  'quebrei',\n  'a',\n  'prr',\n  'do',\n  'PRODUTO'],\n ['PRODUTO', 'melhor', 'invenção', 'de', 'uma', 'cozinha'],\n ['faz',\n  'tanto',\n  'tempo',\n  'que',\n  'eu',\n  'não',\n  'transo',\n  'que',\n  'se',\n  'uma',\n  'PRODUTO',\n  'der',\n  'em',\n  'cima',\n  'de',\n  'mim',\n  'é',\n  'capaz',\n  'de',\n  'eu',\n  'gostar'],\n ['5kg',\n  'de',\n  'batata',\n  'frita',\n  'e',\n  '2kg',\n  'de',\n  'pão',\n  'de',\n  'queijo',\n  'pra',\n  'fazer',\n  'na',\n  'PRODUTO',\n  'sou',\n  'uma',\n  'pessoa',\n  'feliz',\n  'https',\n  'tco',\n  'haiyseeakl'],\n ['quem', 'inventou', 'a', 'PRODUTO', 'deveria', 'ganhar', 'um', 'prêmio'],\n ['nave1964', 'eu', 'usei', 'minha', 'PRODUTO', '🤭'],\n ['fiz',\n  'uma',\n  'linguiça',\n  'mineira',\n  'com',\n  'cebola',\n  'roxa',\n  'na',\n  'PRODUTO',\n  'purê',\n  'de',\n  'batata',\n  'arroz',\n  'e',\n  'feijão',\n  'fresquinho',\n  '😋'],\n ['nossa',\n  'eu',\n  'não',\n  'sei',\n  'fritar',\n  'uma',\n  'batata',\n  'na',\n  'PRODUTO',\n  '🤡'],\n ['batata', 'frita', 'na', 'PRODUTO', 'é', 'horrível'],\n ['infzinha', 'sério', 'bh', 'ta', 'uma', 'PRODUTO', '24h', 'por', 'dia'],\n ['guiguibuenoo',\n  'fala',\n  'nao',\n  'tropeirao',\n  'gelado',\n  'e',\n  'pastel',\n  'na',\n  'PRODUTO'],\n ['nossa',\n  'qui',\n  'dor',\n  'ouvir',\n  'a',\n  'PRODUTO',\n  'ligada',\n  'sabendo',\n  'que',\n  'são',\n  'meus',\n  '1250',\n  'de',\n  'batata',\n  'ali',\n  'e',\n  'nenhum',\n  'vai',\n  'vir',\n  'p',\n  'mim',\n  '😭'],\n ['ippedrin1',\n  'ventinho',\n  'gostoso',\n  'parece',\n  'q',\n  'eu',\n  'to',\n  'dentro',\n  'de',\n  'uma',\n  'PRODUTO'],\n ['acho',\n  'que',\n  'eu',\n  'vou',\n  'fazer',\n  'uma',\n  'batatinha',\n  'frita',\n  'na',\n  'PRODUTO',\n  'hen'],\n ['pra',\n  'q',\n  'fogao',\n  'pra',\n  'q',\n  'microondas',\n  'pra',\n  'q',\n  'forno',\n  'a',\n  'nova',\n  'era',\n  'eh',\n  'a',\n  'da',\n  'PRODUTO'],\n ['PRODUTO', 'demora', 'muito'],\n ['vou',\n  'fazer',\n  'uns',\n  'salgados',\n  'de',\n  'frango',\n  'e',\n  'batata',\n  'doce',\n  'pra',\n  'fazer',\n  'na',\n  'PRODUTO',\n  'amanhã'],\n ['jaysonshow',\n  'tá',\n  'calor',\n  'até',\n  'de',\n  'noite',\n  'tô',\n  'me',\n  'sentindo',\n  'numa',\n  'PRODUTO',\n  'kkkk'],\n ['eu',\n  'tô',\n  'muito',\n  'master',\n  'chef',\n  'com',\n  'essa',\n  'PRODUTO',\n  'pqp',\n  'já',\n  'lancei',\n  'uma',\n  'batata',\n  'assada',\n  'e',\n  'agora',\n  'tô',\n  'fazendo',\n  'o',\n  'filé',\n  'de',\n  'frango'],\n ['fazendo',\n  'um',\n  'bolo',\n  'na',\n  'PRODUTO',\n  'torçam',\n  'pra',\n  'dar',\n  'certo',\n  'pf'],\n ['fiz', 'bolinho', 'de', 'whey', 'na', 'PRODUTO', 'e', 'estou', 'apaixonada'],\n ['vontade',\n  'de',\n  'passar',\n  'o',\n  'dia',\n  'assim',\n  'parece',\n  'que',\n  'tô',\n  'o',\n  'dia',\n  'todo',\n  'dentro',\n  'de',\n  'uma',\n  'PRODUTO',\n  'https',\n  'tco',\n  'mtocxoxhuu'],\n ['estou',\n  'fazendo',\n  'essa',\n  'receita',\n  'mas',\n  'sem',\n  'pimenta',\n  'e',\n  'com',\n  '500g',\n  'apenas',\n  'mas',\n  'acho',\n  'que',\n  'não',\n  'vai',\n  'dar',\n  'certo',\n  'não',\n  'deuses',\n  'da',\n  'PRODUTO',\n  'orem',\n  'aí',\n  'pelo',\n  'meu',\n  'torresmo'],\n ['viciada', 'em', 'chuchu', 'temperadinho', 'na', 'PRODUTO'],\n ['fiz',\n  'um',\n  'arroz',\n  'purê',\n  'de',\n  'batata',\n  'e',\n  'sobrecoxa',\n  'de',\n  'frango',\n  'com',\n  'mostarda',\n  'na',\n  'PRODUTO',\n  'aceitam'],\n ['zoimiudo',\n  'rodolpho',\n  'mano',\n  'caraca',\n  'eu',\n  'to',\n  'chocada',\n  'mas',\n  'deve',\n  'ter',\n  'muita',\n  'gente',\n  'aí',\n  'né',\n  'pq',\n  'não',\n  'é',\n  'possível',\n  'meu',\n  'deus',\n  'aqui',\n  'em',\n  'casa',\n  'a',\n  'última',\n  'vez',\n  'que',\n  'passou',\n  'dos',\n  '100',\n  'foi',\n  'quando',\n  'descobri',\n  'o',\n  'pq',\n  'usava',\n  'mto',\n  'a',\n  'PRODUTO',\n  'daí',\n  'passei',\n  'a',\n  'consumir',\n  'bem',\n  'menos',\n  'e',\n  'o',\n  'resultado',\n  'a',\n  'conta',\n  'baixou',\n  'bastante'],\n ['a',\n  'capacidade',\n  'de',\n  'se',\n  'queimar',\n  'no',\n  'PRODUTO',\n  '…eu',\n  'na',\n  'cozinha',\n  '=',\n  'perigo',\n  '⚠️',\n  'agora',\n  'tô',\n  'com',\n  'marca',\n  'da',\n  'queimadura',\n  'mas',\n  'que',\n  'pare',\n  'por',\n  'aí',\n  'e',\n  'amanhã',\n  'o',\n  'vermelho',\n  'já',\n  'saia',\n  'a',\n  'dor',\n  'não',\n  'exista…'],\n ['pwarkpalette', 'mas', 'a', 'PRODUTO', 'frita', 'não', 'refoga'],\n ['quando',\n  'bate',\n  'um',\n  'vento',\n  'eu',\n  'me',\n  'sinto',\n  'dentro',\n  'de',\n  'uma',\n  'PRODUTO'],\n ['grazie22lima',\n  'parece',\n  'que',\n  'estamos',\n  'dentro',\n  'de',\n  'uma',\n  'PRODUTO'],\n ['lucaspwbto',\n  'kkkkkkkkkkkkk',\n  'achei',\n  'sacanagem',\n  'pqp',\n  'se',\n  'isso',\n  'tem',\n  'quase',\n  '200m2',\n  'eu',\n  'sou',\n  'uma',\n  'PRODUTO'],\n ['nesse',\n  'calor',\n  'quando',\n  'liga',\n  'o',\n  'ventilador',\n  'vc',\n  'está',\n  'numa',\n  'PRODUTO'],\n ['uma',\n  'das',\n  'primeiras',\n  'vezes',\n  'que',\n  'saímos',\n  'pra',\n  'valer',\n  'só',\n  'eu',\n  'e',\n  'a',\n  'menina',\n  'chamei',\n  'pra',\n  'ir',\n  'em',\n  'casa',\n  'fomos',\n  'no',\n  'mercado',\n  'comprei',\n  'um',\n  'torcida',\n  'pimenta',\n  'mexicana',\n  'e',\n  'pra',\n  'janta',\n  'perguntei',\n  'se',\n  'ela',\n  'ia',\n  'querer',\n  'uma',\n  'ou',\n  'duas',\n  'coxinhas',\n  'de',\n  'galinha',\n  'na',\n  'PRODUTO',\n  'namoramos',\n  'há',\n  'dois',\n  'anos',\n  'já',\n  'https',\n  'tco',\n  'lfbmqnzzvu'],\n ['em',\n  'casa',\n  'temos',\n  'uma',\n  'geladeira',\n  'uma',\n  'tv',\n  'q',\n  'mal',\n  'ligamos',\n  '3',\n  'ventiladores',\n  'e',\n  '2',\n  'computadores',\n  'não',\n  'temos',\n  'PRODUTO',\n  'panela',\n  'churrasqueira',\n  'elétrica',\n  'chuveiro',\n  'elétrico',\n  'ou',\n  'ar',\n  'condicionado',\n  'esse',\n  'mês',\n  'vou',\n  'pagar',\n  '380',\n  'reais',\n  'de',\n  'conta',\n  'de',\n  'luz'],\n ['paullohxcx', 'a', 'PRODUTO', 'te', 'olhando', 'de', 'longe'],\n ['gustavot4',\n  'me',\n  'conta',\n  'depois',\n  'o',\n  'drama',\n  'da',\n  'vida',\n  'que',\n  'é',\n  'lavar',\n  'a',\n  'cesta',\n  'da',\n  'PRODUTO',\n  'rsrsrs'],\n ['aninhardgs1', 'dudao', 'vai', 'levar', 'uma', 'PRODUTO'],\n ['glaudemias',\n  'a',\n  'seita',\n  'da',\n  'PRODUTO',\n  'está',\n  'indo',\n  'longe',\n  'demais'],\n ['comprei', 'minha', 'PRODUTO', 'finalmente🤩🤩🤩'],\n ['giuhepperr',\n  'fui',\n  'tirar',\n  'da',\n  'PRODUTO',\n  'e',\n  'caiu',\n  'uma',\n  'casquinha',\n  'c',\n  'queijo',\n  'no',\n  'meu',\n  'dedo'],\n ['fui',\n  'fazer',\n  '6',\n  'pao',\n  'de',\n  'queijo',\n  'na',\n  'PRODUTO',\n  'mas',\n  'esqueci',\n  'de',\n  'limpar',\n  'uns',\n  'farelinho',\n  'de',\n  'bolinha',\n  'de',\n  'peixe',\n  'frito',\n  'e',\n  'adivinha',\n  'o',\n  'gosto',\n  'do',\n  'bgl',\n  'ficou',\n  'de',\n  'peixe',\n  'frito'],\n ['preciso',\n  'comprar',\n  'uma',\n  'PRODUTO',\n  'to',\n  'aqui',\n  'pesquisando',\n  'valores',\n  'mais',\n  'baratos',\n  'dentro',\n  'de',\n  'parâmetros',\n  'e',\n  'lojas',\n  'que',\n  'compro',\n  'pois',\n  'não',\n  'compro',\n  'em',\n  'certos',\n  'locais',\n  'aí'],\n ['queria', 'uma', 'PRODUTO'],\n ['thatagabyx', 'alho', 'refogado', 'essa', 'buc3t4', 'é', 'uma', 'PRODUTO'],\n ['laisgcoelho',\n  'vvieiravitor',\n  'eh',\n  'claro',\n  'q',\n  'eu',\n  'lavo',\n  'a',\n  'PRODUTO',\n  'sua',\n  'dissimulada',\n  'mas',\n  'mesmo',\n  'assim',\n  'fica',\n  'com',\n  'esse',\n  'gosto',\n  'caracteristico',\n  'de',\n  'PRODUTO'],\n ['ricciardani',\n  'óbvio',\n  'o',\n  'pacote',\n  'irmã',\n  'gêmea',\n  'contém',\n  'os',\n  'seguintes',\n  'itens',\n  'apelido',\n  'especial',\n  '7',\n  'panos',\n  'por',\n  'dia',\n  'para',\n  'passar',\n  'maconha',\n  'na',\n  'PRODUTO',\n  'gerson',\n  'levar',\n  'um',\n  'doce',\n  'de',\n  'vez',\n  'em',\n  'quando'],\n ['quem',\n  'recomendou',\n  'usar',\n  'papel',\n  'manteiga',\n  'na',\n  'PRODUTO',\n  'eu',\n  'quero',\n  'que',\n  'você',\n  'se',\n  'fodaaa',\n  'deu',\n  'tudo',\n  'errado',\n  'aqui',\n  '👍'],\n ['aqui',\n  'em',\n  'casa',\n  'tudo',\n  'é',\n  'frito',\n  'na',\n  'PRODUTO',\n  'hoje',\n  'é',\n  'peixe',\n  'não',\n  'gosto',\n  'mto',\n  'mas',\n  'pelo',\n  'menos',\n  'minha',\n  'mãe',\n  'tem',\n  'q',\n  'fazer',\n  'na',\n  'panela',\n  'kkkkkkkk'],\n ['belo', 'horizonte', 'voltou', 'a', 'ser', 'uma', 'PRODUTO'],\n ['magazineluiza',\n  'olá',\n  'comprei',\n  'uma',\n  'PRODUTO',\n  'da',\n  'oster',\n  'pedido',\n  '1066570462047403',\n  'pedi',\n  '220v',\n  'e',\n  'recebi',\n  '110v',\n  'e',\n  'agora'],\n ['bikedebigode',\n  'não',\n  'aguento',\n  'mais',\n  'isso',\n  'parece',\n  'q',\n  'tô',\n  'vivendo',\n  'dentro',\n  'de',\n  'uma',\n  'PRODUTO'],\n ['o',\n  'quadro',\n  'mentindo',\n  'para',\n  'motoristas',\n  'é',\n  'uma',\n  'das',\n  'maiores',\n  'invenções',\n  'do',\n  'ser',\n  'humano',\n  'fica',\n  'atrás',\n  'do',\n  'arcondicionado',\n  'e',\n  'a',\n  'PRODUTO'],\n ['robertochav3s',\n  'usar',\n  'a',\n  'PRODUTO',\n  'pra',\n  'fazer',\n  'batata',\n  'frita',\n  'até',\n  'ela',\n  'virar',\n  'uma',\n  'pedra'],\n ['aka__tina',\n  'sim',\n  'até',\n  'vi',\n  'um',\n  'comentário',\n  'de',\n  'uma',\n  'pessoa',\n  'que',\n  'perguntou',\n  'se',\n  'botava',\n  'o',\n  'alho',\n  'cru',\n  'ou',\n  'refogado',\n  'já',\n  'kkkkkkkkk',\n  'outro',\n  'perguntou',\n  'se',\n  'ele',\n  'achava',\n  'que',\n  'a',\n  'b',\n  'era',\n  'uma',\n  'PRODUTO',\n  'hahaahaha',\n  'fiquei',\n  'incrédula',\n  'com',\n  'tudo'],\n ['querendo',\n  'comprar',\n  'uma',\n  'PRODUTO',\n  'original',\n  'da',\n  'polishop',\n  'pois',\n  'influenciada',\n  'pela',\n  'minha',\n  'mãe',\n  'e',\n  'por',\n  'uns',\n  'amigos',\n  'dizendo',\n  'que',\n  'ela',\n  'é',\n  'completamente',\n  'diferente',\n  'das',\n  'genéricas'],\n ['to',\n  'aqui',\n  'pesquisando',\n  'preço',\n  'da',\n  'PRODUTO',\n  'sem',\n  'ter',\n  'um',\n  'real',\n  'no',\n  'bolso',\n  'pra',\n  'comprar'],\n ['burrice',\n  'do',\n  'dia',\n  'to',\n  'a',\n  'uns',\n  '15',\n  'minutos',\n  'esperando',\n  'o',\n  'queijinho',\n  'assar',\n  'na',\n  'PRODUTO',\n  'com',\n  'ela',\n  'fora',\n  'da',\n  'tomada'],\n ['izzafps',\n  'deixo',\n  'a',\n  'PRODUTO',\n  'aquecer',\n  'por',\n  'uns',\n  '5min',\n  'na',\n  'temperatura',\n  'maxima',\n  'depois',\n  'deixo',\n  'mais',\n  'uns',\n  '10min',\n  'aproximadamente',\n  'a',\n  '180',\n  'mas',\n  'depois',\n  'de',\n  '5min',\n  'da',\n  'uma',\n  'chacoalhada',\n  'só',\n  'e',\n  'gg'],\n ['1º',\n  'almocinho',\n  'pós',\n  'viagem',\n  'dos',\n  'meus',\n  'pais',\n  'já',\n  'foram',\n  '5',\n  'nuggets',\n  'e',\n  'batata',\n  'frita',\n  'tudo',\n  'na',\n  'PRODUTO',\n  'sigamme',\n  'para',\n  'mais',\n  'dicas'],\n ['lauramazzola14',\n  'amém',\n  'q',\n  'n',\n  'tenha',\n  'nenhuma',\n  'calabresa',\n  'dentro',\n  'da',\n  'PRODUTO',\n  'kkkkkkkkkkkk'],\n ['giggowhat', 'depende', 'se', 'o', 'bob', 'esponja', 'tem', 'PRODUTO', '🤔'],\n ['sebbycatb0y', '5', 'min', 'pq', 'minha', 'PRODUTO', 'é', 'mt', 'potente'],\n ['queria', 'uma', 'PRODUTO', 'de', 'presente'],\n ['bendita',\n  'seja',\n  'a',\n  'PRODUTO',\n  'tô',\n  'pedindo',\n  'desculpas',\n  'a',\n  'ela',\n  'por',\n  'ter',\n  'ignorado',\n  'por',\n  'tanto',\n  'tempo'],\n ['deborarochap',\n  'PRODUTO',\n  'não',\n  'gasta',\n  'mto',\n  'não',\n  'isso',\n  'é',\n  'mito'],\n ['sebbycatb0y',\n  'eita',\n  'joguei',\n  'a',\n  'caixa',\n  'fora',\n  'pq',\n  'tinha',\n  'acabado',\n  'e',\n  'o',\n  'lixo',\n  'passou',\n  'enfim',\n  'vem',\n  '4',\n  'bolinhos',\n  'assim',\n  'congelados',\n  'na',\n  'caixa',\n  'e',\n  'vc',\n  'tem',\n  'a',\n  'opção',\n  'de',\n  'fazer',\n  'no',\n  'forno',\n  'microondas',\n  'ou',\n  'PRODUTO',\n  'aí',\n  'em',\n  'cada',\n  'um',\n  'tem',\n  'um',\n  'tempo',\n  'e',\n  'temperatura',\n  'de',\n  'preparo',\n  'na',\n  'PRODUTO',\n  'era',\n  '8min',\n  'e',\n  '180°c',\n  'se',\n  'n',\n  'me',\n  'engano',\n  'mas',\n  'coloquei'],\n ['tá',\n  'muito',\n  'calor',\n  'pqp',\n  'tô',\n  'me',\n  'sentindo',\n  'dentro',\n  'de',\n  'uma',\n  'PRODUTO',\n  'phillips',\n  'wallita'],\n ['fiz', 'uma', 'batata', 'muito', 'boa', 'no', 'PRODUTO', 'krl'],\n ['preciso',\n  'de',\n  'uma',\n  'PRODUTO',\n  'para',\n  'ontemtô',\n  'quase',\n  'comprando',\n  '☺️'],\n ['tamarutaco',\n  'e',\n  'refogue',\n  'na',\n  'PRODUTO',\n  'pra',\n  'ficar',\n  'mais',\n  'sequinha',\n  'e',\n  'saudável'],\n ['ansiosa', 'esperando', 'minha', 'PRODUTO', 'chegar'],\n ['vvieiravitor',\n  'mas',\n  'e',\n  'o',\n  'gosto',\n  'tu',\n  'nao',\n  'acha',\n  'q',\n  'fica',\n  'impregnado',\n  'um',\n  'gosto',\n  'de',\n  'PRODUTO',\n  'nas',\n  'comidas',\n  'q',\n  'fica',\n  'tipo',\n  'tudo',\n  'o',\n  'mesmo',\n  'gosto',\n  'ruim'],\n ['barbieluthor',\n  'falo',\n  'com',\n  'tranquilidade',\n  'que',\n  'a',\n  'PRODUTO',\n  'é',\n  'uma',\n  'das',\n  'melhores',\n  'invenções',\n  'já',\n  'feita'],\n ['lipxsccp',\n  'tem',\n  'um',\n  'vídeo',\n  'que',\n  'ele',\n  'faz',\n  'nuggets',\n  'na',\n  'PRODUTO',\n  'kkkkkkkkk'],\n ['fui',\n  'na',\n  'cozinha',\n  'ver',\n  'se',\n  'meus',\n  'nugget',\n  'da',\n  'PRODUTO',\n  'tava',\n  'pronto',\n  'passou',\n  '20',\n  'minutos',\n  'e',\n  'eu',\n  'não',\n  'vi',\n  'que',\n  'o',\n  'bagulho',\n  'tava',\n  'fora',\n  'da',\n  'tomada',\n  '😋😋😋😋'],\n ['simplesmente',\n  'tô',\n  'viciado',\n  'em',\n  'batata',\n  'pensei',\n  'em',\n  'fazer',\n  'batata',\n  'frita',\n  'na',\n  'PRODUTO',\n  'mas',\n  'não',\n  'queria',\n  'esperar',\n  'então',\n  'peguei',\n  'batata',\n  'palha',\n  'e',\n  'tô',\n  'aqui',\n  'admirando',\n  'como',\n  'a',\n  'batata',\n  'é',\n  'braba'],\n ['beetljuiceeee',\n  'eu',\n  'desisti',\n  'de',\n  'levar',\n  'a',\n  'PRODUTO',\n  'morri',\n  'com',\n  'o',\n  'mochilão'],\n ['fiz',\n  'abacaxi',\n  'com',\n  'canela',\n  'na',\n  'PRODUTO',\n  'que',\n  'ficou',\n  'bom',\n  'demais',\n  'nossaaaa'],\n ['festival',\n  'de',\n  'prêmios',\n  'tropical',\n  'e',\n  'mondial',\n  'tem',\n  'ferro',\n  'de',\n  'passar',\n  'roupas',\n  'liquidificador',\n  'turbo',\n  'fritadeira',\n  'PRODUTO',\n  'batedeira',\n  'planetária',\n  'caixa',\n  'de',\n  'som',\n  'bluetooth',\n  'aspirador',\n  'de',\n  'pó',\n  'vertical',\n  'e',\n  'cafeteira',\n  'elétrica',\n  '😍',\n  'se',\n  'inscreve',\n  'agora',\n  'no',\n  'nosso',\n  'site',\n  'https',\n  'tco',\n  '7nnub2pxp3',\n  'https',\n  'tco',\n  'rdzo46fw6g'],\n ['lembrando',\n  'aqui',\n  'que',\n  'quebrei',\n  'o',\n  'botão',\n  'da',\n  'minha',\n  'PRODUTO',\n  'justo',\n  'o',\n  'do',\n  'temporizador',\n  'tóxica',\n  'demais'],\n ['odeio',\n  'essa',\n  'sensação',\n  'de',\n  'estar',\n  'dentro',\n  'de',\n  'uma',\n  'PRODUTO'],\n ['fico',\n  'sozinha',\n  'em',\n  'casa',\n  'por',\n  'menos',\n  'de',\n  '24hrs',\n  'e',\n  'o',\n  'gás',\n  'acaba',\n  'comigo',\n  'fazendo',\n  'o',\n  'jantar',\n  '\\U0001f972',\n  'amém',\n  'PRODUTO'],\n ['fiz', 'pão', 'de', 'queijo', 'na', 'PRODUTO', 'https', 'tco', 'urcryl66co'],\n ['minha', 'mãe', 'vai', 'comprar', 'uma', 'PRODUTO', 'pra', 'mim'],\n ['joaomnnn',\n  'peballa2',\n  'tropa',\n  'da',\n  'PRODUTO',\n  'fritando',\n  'os',\n  'frangos🤡🤡🤡🤡🤡🤡🤡🤡🤡🤡👿👿👿👿👿👿👿👿👿👿👿'],\n ['tenho',\n  '16',\n  'anos',\n  'e',\n  'tô',\n  'feliz',\n  'que',\n  'a',\n  'PRODUTO',\n  'chegou',\n  'isso',\n  'é',\n  'normal',\n  'daqui',\n  'a',\n  'pouco',\n  'eu',\n  'tô',\n  'cheirando',\n  'confort',\n  'no',\n  'mercado',\n  'kkkkkkkk'],\n ['entrei', 'pra', 'seita', 'da', 'PRODUTO'],\n ['andingama',\n  'bolinha',\n  'de',\n  'carne',\n  'na',\n  'PRODUTO',\n  'uns',\n  '15',\n  'minutinhos',\n  'já',\n  'fica',\n  'show'],\n ['eu',\n  'passei',\n  'a',\n  'semana',\n  'comendo',\n  'errado',\n  'tenho',\n  'q',\n  'parar',\n  'de',\n  'comer',\n  'besteira',\n  'eu',\n  'tb',\n  'hm',\n  'bolinha',\n  'de',\n  'queijo',\n  'congelada',\n  '11',\n  'conto',\n  'pra',\n  'botar',\n  'na',\n  'PRODUTO',\n  'pq',\n  'não'],\n ['vitoriaeh',\n  'mano',\n  'carlos',\n  'tinha',\n  'uma',\n  'função',\n  'esse',\n  'final',\n  'de',\n  'semana',\n  'que',\n  'era',\n  'fazer',\n  'linguiça',\n  'na',\n  'PRODUTO',\n  'o',\n  'mlk',\n  'cortou',\n  'uns',\n  'toletao',\n  'e',\n  'eu',\n  'tive',\n  'que',\n  'cortar',\n  'tudo',\n  'de',\n  'novo',\n  'com',\n  'dificuldade',\n  'dps'],\n ['minha',\n  'irmã',\n  'pra',\n  'mim',\n  'pq',\n  'eu',\n  'fiquei',\n  'braba',\n  'com',\n  'ela',\n  'por',\n  'manter',\n  'amizade',\n  'com',\n  'pessoas',\n  'que',\n  'me',\n  'prejudicaram',\n  'ai',\n  'juh',\n  'tu',\n  'é',\n  'exagerada',\n  'tá',\n  'reclamando',\n  'por',\n  'besteira',\n  'agora',\n  'já',\n  'fazem',\n  '72hs',\n  'que',\n  'ela',\n  'tá',\n  'me',\n  'ignorando',\n  'pq',\n  'eu',\n  'não',\n  'mostrei',\n  'a',\n  'foto',\n  'de',\n  'uma',\n  'PRODUTO',\n  'pra',\n  'minha',\n  'mãe',\n  'qdo',\n  'ela',\n  'pediu🙄'],\n ['preferia',\n  'a',\n  'era',\n  'do',\n  'gelo',\n  'do',\n  'que',\n  'o',\n  'aquecimento',\n  'global',\n  'quem',\n  'abriu',\n  'o',\n  'portão',\n  'do',\n  'inferno',\n  'pfv',\n  'fechar',\n  'n',\n  'aguento',\n  'mais',\n  'a',\n  'sensação',\n  'termica',\n  'de',\n  'PRODUTO',\n  'cuuuuuuu'],\n ['irllaya',\n  'thiagorobertodc',\n  'tá',\n  'vendo',\n  'eu',\n  'nunca',\n  'te',\n  'critiquei',\n  'PRODUTO',\n  'até',\n  'caneca',\n  'vc',\n  'faz'],\n ['cismei',\n  'que',\n  'preciso',\n  'montar',\n  'um',\n  'computador',\n  'novo',\n  'ter',\n  'uma',\n  'PRODUTO',\n  'e',\n  'comprar',\n  'uma',\n  'planta',\n  'https',\n  'tco',\n  'rrl6nh6azk'],\n ['mahagess', 'adiciono', 'uma', 'PRODUTO', 'por', 'minha', 'conta'],\n ['estou',\n  'sem',\n  'gás',\n  'vou',\n  'jantar',\n  'hambúrguer',\n  'de',\n  'soja',\n  'feito',\n  'na',\n  'PRODUTO',\n  'boa',\n  'noite'],\n ['1903eberhardt',\n  'vou',\n  'fazer',\n  'diferente',\n  'dessa',\n  'mina',\n  'vou',\n  'mandar',\n  'a',\n  'mina',\n  'virar',\n  'de',\n  'costa',\n  'pra',\n  'mim',\n  'e',\n  'vou',\n  'botar',\n  'uma',\n  'PRODUTO',\n  'nela',\n  'e',\n  'fritar',\n  'umas',\n  'batatas'],\n ['adalbertojr97',\n  'kkkkkkkkkkkk',\n  'quem',\n  'precisa',\n  'de',\n  'cama',\n  'PRODUTO',\n  'sofá',\n  'tv'],\n ['comprar', 'uma', 'PRODUTO'],\n ['talitabaena', 'PRODUTO', 'tbm', 'adoro', '🤩'],\n ['nem', 'aquela', 'sobre', 'cozinhar', 'crack', 'numa', 'PRODUTO'],\n ['menines',\n  'sua',\n  'vagina',\n  'não',\n  'foi',\n  'feita',\n  'para',\n  'enfiar',\n  'comida',\n  'é',\n  'um',\n  'órgão',\n  'sexual',\n  'não',\n  'uma',\n  'PRODUTO',\n  'https',\n  'tco',\n  'rwdpcmmfpx'],\n ['eu',\n  'quero',\n  'uma',\n  'PRODUTO',\n  'e',\n  'nem',\n  'é',\n  'meme',\n  '☹️',\n  'https',\n  'tco',\n  'j0nlizt7rr'],\n ['meus',\n  'amores',\n  'fiz',\n  'uns',\n  'legumes',\n  'na',\n  'PRODUTO',\n  'que',\n  'sabor',\n  'https',\n  'tco',\n  'bhzljttnsb'],\n ['não',\n  'existe',\n  'comparador',\n  'de',\n  'PRODUTO',\n  'não',\n  'que',\n  'nem',\n  'aqueles',\n  'de',\n  'celular'],\n ['tô',\n  'querendo',\n  'comprar',\n  'uma',\n  'PRODUTO',\n  'porém',\n  'não',\n  'faço',\n  'de',\n  'qual',\n  'comprar'],\n ['leticia_adr',\n  'amigakkkkk',\n  'eu',\n  'acordei',\n  'procurando',\n  'acessorios',\n  'se',\n  'PRODUTO',\n  'esse',\n  'tweet',\n  'sou',\n  'eu'],\n ['eu', 'me', 'queimei', 'com', 'a', 'PRODUTO', '🤬'],\n ['PRODUTO',\n  'eu',\n  'te',\n  'amo',\n  'faço',\n  'tudo',\n  'nela',\n  'rapidinho',\n  'e',\n  'sem',\n  'esforço',\n  'mt',\n  'bom'],\n ['2021', 'e', 'nego', 'não', 'tem', 'PRODUTO', 'bicho'],\n ['jose_barbero64',\n  'pão',\n  'de',\n  'PRODUTO',\n  'ou',\n  'pão',\n  'na',\n  'chapa',\n  'faça',\n  'sua',\n  'escolha'],\n ['se',\n  'alguém',\n  'duvidar',\n  'do',\n  'aquecimento',\n  'global',\n  'e',\n  'das',\n  'consequências',\n  'das',\n  'queimadas',\n  'manda',\n  'vir',\n  'pra',\n  'goiás',\n  'pra',\n  'experimentar',\n  'como',\n  'é',\n  'estar',\n  'em',\n  'uma',\n  'PRODUTO'],\n ['taahdinoa',\n  'avisa',\n  'que',\n  'ela',\n  'já',\n  'deu',\n  'PRODUTO',\n  'pra',\n  'todo',\n  'mundo'],\n ['dudovisck_',\n  'carai',\n  'vai',\n  'levar',\n  'logo',\n  'a',\n  'PRODUTO',\n  'kkkkkkkkkkkk'],\n ['alguém',\n  'sabe',\n  'se',\n  'pode',\n  'colocar',\n  'papel',\n  'alumínio',\n  'na',\n  'PRODUTO'],\n ['vivendo', 'dentro', 'de', 'uma', 'PRODUTO', 'em', 'reforma'],\n ['só', 'queria', 'ganhar', 'uma', 'PRODUTO', '😪'],\n ['a',\n  'pessoa',\n  'que',\n  'criou',\n  'o',\n  'PRODUTO',\n  'subestimou',\n  'de',\n  'mais',\n  'o',\n  'brasileiro',\n  'https',\n  'tco',\n  'mkwdhlsgt4'],\n ['sentada',\n  'de',\n  'frente',\n  'com',\n  'a',\n  'PRODUTO',\n  'esperando',\n  'ela',\n  'terminar',\n  'de',\n  'fazer',\n  'minha',\n  'janta'],\n ['fui',\n  'na',\n  'havan',\n  'pra',\n  'comprar',\n  'um',\n  'aspirador',\n  'que',\n  'nem',\n  'pra',\n  'mim',\n  'era',\n  'e',\n  'voltei',\n  'de',\n  'lá',\n  'com',\n  'o',\n  'aspirador',\n  'uma',\n  'PRODUTO',\n  'um',\n  'liquidificador',\n  'uma',\n  'batedeira',\n  'um',\n  'espremedor',\n  'de',\n  'fruta',\n  'e',\n  'mais',\n  'umas',\n  'coisinhas',\n  '🙊🙊🙊🙊'],\n ['a',\n  'PRODUTO',\n  'junto',\n  'com',\n  'alfredo',\n  'são',\n  'meus',\n  'melhores',\n  'amigos',\n  'do',\n  'lar',\n  'https',\n  'tco',\n  'brjgko873h'],\n ['quase',\n  'acabando',\n  'o',\n  'almoço',\n  'e',\n  'aí',\n  'notei',\n  'que',\n  'tava',\n  'faltando',\n  'alguma',\n  'coisa…',\n  'coloquei',\n  'a',\n  'batata',\n  'pra',\n  'fritar',\n  'na',\n  'PRODUTO',\n  'e',\n  'esqueci',\n  'de',\n  'ligar',\n  'kkkkkkk'],\n ['nunca',\n  'mais',\n  'asso',\n  'frango',\n  'no',\n  'forno',\n  'pqp',\n  'demora',\n  '3',\n  'séculos',\n  'vai',\n  'ser',\n  'na',\n  'PRODUTO',\n  'mesmo',\n  'fodasse'],\n ['renatobacon',\n  'leilagermano',\n  'a',\n  'santa',\n  'PRODUTO',\n  'tem',\n  'mais',\n  'uma',\n  'função'],\n ['tô',\n  'começando',\n  'a',\n  'amar',\n  'ela',\n  'do',\n  'msm',\n  'jeito',\n  'q',\n  'amo',\n  'PRODUTO'],\n ['minha',\n  'PRODUTO',\n  'queimou',\n  'agora',\n  'quem',\n  'vai',\n  'me',\n  'presentear',\n  'com',\n  'uma',\n  'kkkkk'],\n ['PRODUTO', 'conte', 'comigo', 'p', 'tudo'],\n ['sttiles',\n  'hahaha',\n  'única',\n  'coisa',\n  '“errada”',\n  'que',\n  'comi',\n  'hj',\n  'foi',\n  'batata',\n  'mas',\n  'frita',\n  'na',\n  'PRODUTO'],\n ['tá',\n  'achando',\n  'que',\n  'é',\n  'PRODUTO',\n  'olho',\n  'refogado',\n  'é',\n  'foda',\n  '🤣',\n  'https',\n  'tco',\n  '8eojl1keso'],\n ['ganhei', 'a', 'PRODUTO', 'que', 'eu', 'queria', '🥰'],\n ['fiscal',\n  'aqui',\n  'do',\n  'posto',\n  'perguntou',\n  'quem',\n  'vai',\n  'tomar',\n  'astrazeneca',\n  'e',\n  'agora',\n  'seis',\n  'pessoas',\n  'estão',\n  'concorrendo',\n  'a',\n  'uma',\n  'PRODUTO'],\n ['se',\n  'vc',\n  'quer',\n  'comprar',\n  'uma',\n  'PRODUTO',\n  'pq',\n  'é',\n  'preguiçoso',\n  'e',\n  'facilita',\n  'as',\n  'coisas…',\n  'não',\n  'compre',\n  'por',\n  'que',\n  'vc',\n  'vai',\n  'ficar',\n  'com',\n  'preguiça',\n  'de',\n  'lavar',\n  'e',\n  'vai',\n  'virar',\n  'um',\n  'caos'],\n ['indo',\n  'morar',\n  'sozinha',\n  'e',\n  'levando',\n  'basicamente',\n  'minha',\n  'cachorra',\n  'uma',\n  'samambaia',\n  'e',\n  'uma',\n  'PRODUTO'],\n ['desde',\n  'que',\n  'comprei',\n  'a',\n  'PRODUTO',\n  'nunca',\n  'mais',\n  'passei',\n  'fome',\n  'se',\n  'não',\n  'for',\n  'pros',\n  '100kg',\n  'é',\n  'pq',\n  'deus',\n  'me',\n  'ama'],\n ['goiânia', 'tá', 'dentro', 'de', 'uma', 'PRODUTO'],\n ['coloquei',\n  'o',\n  'negócio',\n  'na',\n  'PRODUTO',\n  'é',\n  'só',\n  'liguei',\n  'o',\n  'botão',\n  'do',\n  'tempo',\n  'e',\n  'ficou',\n  '40',\n  'min',\n  'eu',\n  'achando',\n  'q',\n  'tava',\n  'cozinhando',\n  'o',\n  'troço',\n  'mas',\n  'aí',\n  'quando',\n  'abri',\n  'vi',\n  'que',\n  'não',\n  'liguei',\n  'o',\n  'botão',\n  'de',\n  'graus',\n  '🤡',\n  'sua',\n  'burra',\n  'otaria'],\n ['jocimanrique',\n  'eu',\n  'vi',\n  'o',\n  'recorte',\n  'e',\n  'pensei',\n  'a',\n  'joci',\n  'decorou',\n  'o',\n  'bolo',\n  'com',\n  'flores',\n  'meu',\n  'bolo',\n  'acabou',\n  'de',\n  'sair',\n  'do',\n  'forno',\n  'PRODUTO',\n  'https',\n  'tco',\n  'cnmoiwpixj'],\n ['trago', 'verdades', 'nada', 'feito', 'na', 'PRODUTO', 'fica', 'bom'],\n ['_claumend', 'segundafeira', 'anote', 'aí', 'traz', 'a', 'PRODUTO'],\n ['promoção',\n  'sou',\n  'barato',\n  'fritadeira',\n  'elétrica',\n  'PRODUTO',\n  'com',\n  '49',\n  'off',\n  'de',\n  'r60170',\n  'por',\n  'r30645',\n  'https',\n  'tco',\n  'yvafgpkki4',\n  'ganhedevolta',\n  'vemcomoganhe',\n  'cashback',\n  'cupom',\n  'cupons',\n  'desconto',\n  'cupomdedesconto',\n  'oferta',\n  'promoção'],\n ['boboiola',\n  'meu',\n  'deus',\n  'PRODUTO',\n  'é',\n  'simplesmente',\n  'a',\n  'maior',\n  'maravilha',\n  'do',\n  'mundo',\n  'moderno'],\n ['kzzylmb',\n  'amiga',\n  'minha',\n  'mãe',\n  'tá',\n  'pensando',\n  'em',\n  'comprar',\n  'aquela',\n  'PRODUTO',\n  'porque',\n  'aqui',\n  'em',\n  'catu',\n  'o',\n  'gás',\n  'tá',\n  'quase',\n  '100',\n  'reais',\n  'd'],\n ['fui',\n  'fazer',\n  'filé',\n  'de',\n  'frango',\n  'na',\n  'PRODUTO',\n  'e',\n  'ficou',\n  'com',\n  'gostinho',\n  'de',\n  'frango',\n  'grelhado',\n  'hmm',\n  'vou',\n  'fazer',\n  'smp',\n  'agr',\n  '😋'],\n ['ganhei',\n  'uma',\n  'PRODUTO',\n  'de',\n  'aniversario',\n  'dos',\n  'meus',\n  'pais',\n  'a',\n  'vida',\n  'adulta',\n  'é',\n  'boa',\n  'd'],\n ['abrantesluizz',\n  'minha',\n  'PRODUTO',\n  'tem',\n  'o',\n  'mesmo',\n  'gráfico',\n  'nesse',\n  'calor'],\n ['liguei',\n  'a',\n  'PRODUTO',\n  'pra',\n  'esquentar',\n  'o',\n  'salgado',\n  'dai',\n  '5',\n  'minutos',\n  'tava',\n  'congelado',\n  'coloquei',\n  'mais',\n  '10…',\n  'abri',\n  'congelado…',\n  'dai',\n  'eu',\n  'me',\n  'liguei',\n  'que',\n  'coloquei',\n  'tempo',\n  'mas',\n  'esqueci',\n  'da',\n  'temperatura',\n  'alguem',\n  'por',\n  'favor',\n  'me',\n  'apaga',\n  'hoje'],\n ['disso',\n  'a',\n  'seita',\n  'da',\n  'PRODUTO',\n  'não',\n  'conta',\n  '😢',\n  'https',\n  'tco',\n  'pnrfarqqk4'],\n ['corre',\n  'e',\n  'aproveite',\n  'as',\n  'ofertas',\n  'do',\n  'dia',\n  'clique',\n  'aqui',\n  'para',\n  'comprar',\n  'no',\n  'meu',\n  'site',\n  '👉',\n  'https',\n  'tco',\n  'ccl3ncpnkk',\n  'vem',\n  'aproveitar',\n  'fritadeira',\n  'elétrica',\n  'PRODUTO',\n  'mondial',\n  '4l',\n  'por',\n  'r',\n  '37900',\n  'ou',\n  'em',\n  '8x',\n  'de',\n  'r',\n  '4738',\n  'código',\n  '023324700',\n  '🚛',\n  'frete',\n  'grátis',\n  'exceto',\n  'região',\n  'norte',\n  'entrega',\n  'para',\n  'todo',\n  'brasil',\n  'https',\n  'tco',\n  'mtduuso0xy'],\n ['mãe',\n  'comprei',\n  'uma',\n  'PRODUTO',\n  'perdeu',\n  'de',\n  'ganhar',\n  'pq',\n  'eu',\n  'já',\n  'tinha',\n  'decidido',\n  'te',\n  'dar',\n  'uma',\n  'de',\n  'presente',\n  'https',\n  'tco',\n  'tj5q9pj50i'],\n ['batata',\n  'na',\n  'PRODUTO',\n  'rústica',\n  'como',\n  'o',\n  'povo',\n  'fala',\n  'deu',\n  'certo',\n  'demais',\n  'rainekenvirus',\n  'tava',\n  'no',\n  'suporte'],\n ['depois',\n  'de',\n  'um',\n  'ano',\n  'desejando',\n  'uma',\n  'PRODUTO',\n  'os',\n  'dias',\n  'de',\n  'glória',\n  'chegaram',\n  '🙏🙏🙏'],\n ['ttbemerguy', 'próxima', 'meta', 'depois', 'da', 'PRODUTO', 'kkkk'],\n ['boing', 'vou', 'leva', 'a', 'PRODUTO', 'pro', 'quarto'],\n ['hj',\n  'pra',\n  'variar',\n  'mto',\n  'vegan',\n  'cardápio',\n  'arroz',\n  'com',\n  'abóbora',\n  'feijao',\n  'preto',\n  'soja',\n  'com',\n  'talo',\n  'de',\n  'brocolis',\n  'e',\n  'batatinha',\n  'rustica',\n  'na',\n  'PRODUTO',\n  'suco',\n  'de',\n  'morango',\n  'com',\n  'maracujá',\n  'pra',\n  'dar',\n  'aquele',\n  'up',\n  'go',\n  'vegan'],\n ['sebbycatb0y',\n  'é',\n  'de',\n  'massa',\n  'pronta',\n  'só',\n  'coloquei',\n  'na',\n  'PRODUTO',\n  'vou',\n  'pegar',\n  'a',\n  'caixa',\n  'perae'],\n ['quem',\n  'namora',\n  'comigo',\n  'ganha',\n  'rodízio',\n  'de',\n  'mini',\n  'pizza',\n  'de',\n  'PRODUTO',\n  'depois',\n  'do',\n  'trabalho'],\n ['faz',\n  'tempo',\n  'que',\n  'eu',\n  'não',\n  'sou',\n  'tão',\n  'fã',\n  'de',\n  'comida',\n  'gordurosa',\n  'etc',\n  'e',\n  'depois',\n  'que',\n  'fiz',\n  'os',\n  'furos',\n  'isso',\n  'piorou',\n  'então',\n  'agr',\n  'eu',\n  'tenho',\n  'quase',\n  '_nojo_',\n  'dessas',\n  'coisas',\n  'e',\n  'às',\n  'vzes',\n  'é',\n  'tudo',\n  'que',\n  'tem',\n  'pra',\n  'comer',\n  'aqui',\n  'em',\n  'casa',\n  'só',\n  'hot',\n  'pocket',\n  'salgadinho',\n  'de',\n  'PRODUTO',\n  'e',\n  'coisa',\n  'do',\n  'tipo',\n  'meu',\n  'd'],\n ['no',\n  'episódio',\n  'de',\n  'hoje',\n  'aprendemos',\n  'que',\n  'frango',\n  'na',\n  'PRODUTO',\n  'fica',\n  'duro'],\n ['thatgabyx',\n  'só',\n  'pode',\n  'ser',\n  'fakenews',\n  'ninguém',\n  'ama',\n  'o',\n  'suficiente',\n  'pra',\n  'refogar',\n  'com',\n  'alho',\n  'refogado',\n  'antes',\n  'de',\n  'uma',\n  'mamada',\n  'só',\n  'falta',\n  'dizer',\n  'que',\n  'frita',\n  'a',\n  'picanha',\n  'nessa',\n  'PRODUTO'],\n ['natdafn',\n  'se',\n  'juntar',\n  'pontos',\n  'o',\n  'suficiente',\n  'pode',\n  'trocar',\n  'por',\n  'uma',\n  'PRODUTO'],\n ['qual',\n  'é',\n  'menos',\n  'caro',\n  'fazer',\n  'linguiça',\n  'na',\n  'PRODUTO',\n  'e',\n  'gastar',\n  'energia',\n  'ou',\n  'fazer',\n  'no',\n  'forno',\n  'e',\n  'gastar',\n  'gás'],\n ['sim', 'eu', 'sei', 'cozinhar', 'na', 'PRODUTO'],\n ['acabo', 'de', 'ver', 'uma', 'PRODUTO', 'de', 'brinquedo', 'na', 'shopee'],\n ['esqueci',\n  'o',\n  'hamburger',\n  'dentro',\n  'da',\n  'PRODUTO',\n  'e',\n  'aparentemente',\n  'ocorreu',\n  'uma',\n  'reação',\n  'química',\n  'e',\n  'ele',\n  'virou',\n  'carbono'],\n ['lucascastoldi3',\n  'sim',\n  'eu',\n  'usava',\n  'mas',\n  'o',\n  'mesmo',\n  'que',\n  'recomendou',\n  'papel',\n  'manteiga',\n  'falou',\n  'que',\n  'papel',\n  'alumínio',\n  'diminui',\n  'a',\n  '“expectativa',\n  'de',\n  'vida”',\n  'da',\n  'PRODUTO',\n  '😡',\n  'aquele',\n  'corno'],\n ['revolução', 'industrial', 'foi', 'quando', 'criaram', 'a', 'PRODUTO'],\n ['quero', 'uma', 'PRODUTO'],\n ['o', 'ventilador', 'parecendo', 'uma', 'PRODUTO'],\n ['gente',\n  'eh',\n  'sério',\n  'tu',\n  'bota',\n  'frango',\n  'e',\n  'batata',\n  'dentro',\n  'da',\n  'PRODUTO',\n  'e',\n  'tu',\n  'tem',\n  'um',\n  'almoço',\n  'pronto',\n  'tipo',\n  'não',\n  'faz',\n  'nem',\n  'sentido',\n  'sabe'],\n ['eu',\n  'fiz',\n  'batata',\n  'pela',\n  'primeira',\n  'vez',\n  'na',\n  'PRODUTO',\n  'e',\n  'ficou',\n  'horrivel',\n  'eu',\n  'to',\n  'comendo',\n  'mesmo',\n  'assim',\n  'pq',\n  'a',\n  'energia',\n  'tá',\n  'cara',\n  'e',\n  'tb',\n  'gastou',\n  'batata'],\n ['bateu',\n  'um',\n  'vento',\n  'aqui',\n  'na',\n  'janela',\n  'mas',\n  'ele',\n  'tava',\n  'tão',\n  'quente',\n  'que',\n  'eu',\n  'achei',\n  'que',\n  'estava',\n  'dentro',\n  'de',\n  'uma',\n  'PRODUTO'],\n ['feliz', 'da', 'vida', 'que', 'minha', 'mãe', 'comprou', 'uma', 'PRODUTO'],\n ['ojulcta', 'já', 'esquenta', 'a', 'PRODUTO', 'ai'],\n ['PRODUTO', 'top', '5', 'invenções', 'do', 'ser', 'humano'],\n ['barbosasvitoria',\n  'o',\n  'segredo',\n  'é',\n  'borrifar',\n  'um',\n  'pouco',\n  'de',\n  'óleo',\n  'no',\n  'pastel',\n  'quando',\n  'colocar',\n  'na',\n  'PRODUTO',\n  'aí',\n  'a',\n  'casquinha',\n  'fica',\n  'tri',\n  'boa'],\n ['sdds',\n  'quando',\n  'PRODUTO',\n  'não',\n  'existia',\n  'e',\n  'a',\n  'batata',\n  'frita',\n  'era',\n  'frita'],\n ['eu',\n  'n',\n  'tenho',\n  'palavras',\n  'suficientes',\n  'para',\n  'agradecer',\n  'o',\n  'vídeo',\n  'do',\n  'youtube',\n  'que',\n  'me',\n  'ensinou',\n  'a',\n  'fazer',\n  'ovo',\n  'frito',\n  'na',\n  'PRODUTO',\n  '😩🙏',\n  '160ºc',\n  'por',\n  '7',\n  'min',\n  'na',\n  'mondial',\n  'é',\n  'bom',\n  'passar',\n  'algo',\n  'pro',\n  'ovo',\n  'n',\n  'grudar',\n  'na',\n  'travessa',\n  'uso',\n  'uma',\n  'de',\n  'cerâmica'],\n ['a',\n  'capacidade',\n  'que',\n  'só',\n  'eu',\n  'tenho',\n  'de',\n  'me',\n  'queimar',\n  'numa',\n  'PRODUTO',\n  'pqp'],\n ['nao',\n  'sei',\n  'se',\n  'a',\n  'PRODUTO',\n  'que',\n  'é',\n  'alta',\n  'se',\n  'é',\n  'só',\n  'eco',\n  'do',\n  'corredor',\n  'no',\n  'apartamento',\n  'ou',\n  'se',\n  'eu',\n  'que',\n  'tenho',\n  'audição',\n  'mais',\n  'sensível',\n  'do',\n  'que',\n  'eu',\n  'pensei'],\n ['jocimanrique',\n  'o',\n  'problema',\n  'é',\n  'o',\n  'volume',\n  'da',\n  'PRODUTO',\n  'só',\n  'cabe',\n  'meia',\n  'receita',\n  'de',\n  'resto',\n  'mesma',\n  'receita',\n  'e',\n  'preaquece',\n  'normal'],\n ['qhelldocontra',\n  'queremos',\n  'imagens',\n  'das',\n  'receitas',\n  'feitas',\n  'nessa',\n  'PRODUTO',\n  'pra',\n  'ontem'],\n ['promoção',\n  'oferta',\n  '💵',\n  'por',\n  'r',\n  '31828',\n  '🛒',\n  'link',\n  'https',\n  'tco',\n  'sgekfmbx3u',\n  'fritadeira',\n  'mondial',\n  'sem',\n  'óleo',\n  'PRODUTO',\n  'family',\n  'preta',\n  'iv',\n  'af30i',\n  '35',\n  'litros',\n  'https',\n  'tco',\n  'x613rfsoap'],\n ['eu',\n  'e',\n  'o',\n  'joão',\n  'victor',\n  'é',\n  'um',\n  'casal',\n  'incrível',\n  'pq',\n  'ao',\n  'invés',\n  'de',\n  'pagar',\n  '450',\n  'em',\n  '100g',\n  'de',\n  'pão',\n  'de',\n  'queijo',\n  'na',\n  'padaria…',\n  'pagamos',\n  '450',\n  'em',\n  '300g',\n  'de',\n  'pão',\n  'de',\n  'queijo',\n  'congelado',\n  'no',\n  'mercado',\n  'e',\n  'joguei',\n  'na',\n  'PRODUTO',\n  '…',\n  'compramos',\n  '3',\n  'pacotes',\n  'quase',\n  '1kg',\n  'de',\n  'pão',\n  'de',\n  'queijo',\n  'enfim',\n  'uma',\n  'noite',\n  'feliz',\n  '🥰🥰🥰🥰'],\n ['minha',\n  'mãe',\n  'comprou',\n  'um',\n  'aparelho',\n  'pra',\n  'cortar',\n  'legumes',\n  'e',\n  'coisas',\n  'assim',\n  'e',\n  'tô',\n  'achando',\n  'tudo',\n  'muito',\n  'tecnológico',\n  'mas',\n  'puta',\n  'tbm',\n  'pq',\n  'qnd',\n  'eu',\n  'sair',\n  'de',\n  'casa',\n  'eu',\n  'vou',\n  'ter',\n  'q',\n  'ter',\n  'pq',\n  'vou',\n  'me',\n  'acostumar',\n  'tipo',\n  'a',\n  'PRODUTO',\n  'não',\n  'vejo',\n  'minha',\n  'vida',\n  'sem',\n  'uma'],\n ['vou', 'ali', 'fritar', 'uma', 'linguicinha', 'na', 'PRODUTO'],\n ['thaisassen', 'kkkkkkkkkkkkk', 'amiga', 'não', 'é', 'PRODUTO'],\n ['whyanaclara',\n  'aqui',\n  'não',\n  'tá',\n  'muito',\n  'diferente',\n  'andar',\n  'de',\n  'moto',\n  'na',\n  'rua',\n  'deve',\n  'ser',\n  'tipo',\n  'estar',\n  'dentro',\n  'de',\n  'uma',\n  'PRODUTO',\n  '😊'],\n ['corre',\n  'e',\n  'aproveite',\n  'as',\n  'ofertas',\n  'do',\n  'dia',\n  'clique',\n  'aqui',\n  'para',\n  'comprar',\n  'no',\n  'meu',\n  'site',\n  '👉https',\n  'tco',\n  'r5e5khaxfh',\n  'vem',\n  'aproveitar',\n  'fritadeira',\n  'elétrica',\n  'PRODUTO',\n  'mondial',\n  '4l',\n  'por',\n  'r',\n  '37900',\n  'ou',\n  'em',\n  '8x',\n  'de',\n  'r',\n  '4738',\n  'código',\n  '023324700',\n  '🚛',\n  'frete',\n  'grátis',\n  'exceto',\n  'região',\n  'norte',\n  'entrega',\n  'para',\n  'todo',\n  'brasil',\n  'https',\n  'tco',\n  'dbi4hxqvem'],\n ['comprei', 'uma', 'PRODUTO', 'aaaaaaaaaaaaaaaa'],\n ['receitas',\n  'da',\n  'xxxmamona',\n  'na',\n  'PRODUTO',\n  'é',\n  'isso',\n  'que',\n  'o',\n  'brasil',\n  'precisa',\n  'nem',\n  'existe',\n  'mas',\n  'já',\n  'quero',\n  'https',\n  'tco',\n  'wuuszcyhs5'],\n ['thatagabyx', 'isso', 'é', 'uma', 'buceta', 'ou', 'uma', 'PRODUTO'],\n ['não',\n  'animo',\n  'fazer',\n  'essas',\n  'coisas',\n  'sozinha',\n  'mas',\n  'vou',\n  'fazer',\n  'uma',\n  'porção',\n  'de',\n  'batatas',\n  'fritas',\n  'com',\n  'um',\n  'queijinho',\n  'e',\n  'uma',\n  'carninha',\n  'by',\n  'PRODUTO',\n  '…'],\n ['não',\n  'quer',\n  'usar',\n  'PRODUTO',\n  'prefere',\n  'comer',\n  'fritura',\n  'besuntada',\n  'de',\n  'óleo',\n  'come',\n  'diabo',\n  'tô',\n  'nem',\n  'aí',\n  'pro',\n  'cê',\n  'não'],\n ['fiz',\n  'uma',\n  'berinjela',\n  'com',\n  'queijo',\n  'e',\n  'tomate',\n  'cereja',\n  'na',\n  'PRODUTO',\n  'pqp',\n  'ficou',\n  'delicinha'],\n ['PRODUTO',\n  'só',\n  'é',\n  'boa',\n  'pq',\n  'não',\n  'suja',\n  'o',\n  'fogao',\n  'a',\n  'melhor',\n  'invenção',\n  'pro',\n  'vagabundo'],\n ['dicionário', 'do', 'meu', 'pai', 'free', 'willy', '=', 'PRODUTO'],\n ['a', 'guria', 'disse', 'que', 'faz', 'strogonoff', 'usando', 'PRODUTO'],\n ['compre',\n  'uma',\n  'PRODUTO',\n  'pra',\n  'fazer',\n  'alimentos',\n  'mais',\n  'saudáveis',\n  'café',\n  'da',\n  'manhã',\n  'nuggests',\n  'batata',\n  'frita',\n  'linguiça',\n  'e',\n  'uma',\n  'coquinha',\n  'gelada',\n  'pra',\n  'acompanhar'],\n ['thatagabyx',\n  'alho',\n  'refogado',\n  'é',\n  'melhor',\n  'socar',\n  'alho',\n  'na',\n  'PRODUTO',\n  'enrolado',\n  'no',\n  'papel',\n  'alumínio',\n  'com',\n  'azeite',\n  'e',\n  'sal',\n  'grosso'],\n ['se',\n  'ligar',\n  'ao',\n  'mesmo',\n  'tempo',\n  'a',\n  'central',\n  'de',\n  'ar',\n  'uma',\n  'PRODUTO',\n  'e',\n  'essa',\n  'cafeteira',\n  'dolce',\n  'gusto',\n  'a',\n  'sua',\n  'casa',\n  'se',\n  'transforma',\n  'no',\n  'reator',\n  'nuclear',\n  'de',\n  'chernobyl'],\n ['PRODUTO',\n  'é',\n  'uma',\n  'benção',\n  'né',\n  'almocei',\n  'mandioquinha',\n  'e',\n  'batata',\n  'frita',\n  'hoje',\n  'e',\n  'tô',\n  'feliz',\n  'demais'],\n ['se',\n  'a',\n  'alfa',\n  'romeu',\n  'não',\n  'renovar',\n  'com',\n  'o',\n  'giovinazzi',\n  'eu',\n  'sou',\n  'uma',\n  'PRODUTO',\n  'po'],\n ['jonatan_pach', 'ela', 'te', 'tocou', 'pela', 'PRODUTO', 'amigo', '😪'],\n ['comprei', 'uma', 'PRODUTO', 'nunca', 'fui', 'triste'],\n ['me',\n  'alimentando',\n  'só',\n  'de',\n  'coisas',\n  'que',\n  'dá',\n  'pra',\n  'fazer',\n  'na',\n  'PRODUTO'],\n ['queimei', 'a', 'linguica', 'na', 'PRODUTO', '😐'],\n ['fofinho',\n  'mijou',\n  'na',\n  'cara',\n  'com',\n  'essa',\n  'PRODUTO',\n  'de',\n  '8',\n  'litros',\n  '😁😍'],\n ['fritadeira',\n  'elétrica',\n  'sem',\n  'óleo',\n  'PRODUTO',\n  'nell',\n  'smart',\n  'preta',\n  '24l',\n  'com',\n  'timer',\n  '✨por',\n  'r',\n  '25900',\n  'ps',\n  'magazineffaele',\n  'é',\n  'o',\n  'próprio',\n  'magazine',\n  'luiza',\n  'tem',\n  'esse',\n  'nome',\n  'porque',\n  'sou',\n  'uma',\n  'parceira',\n  'do',\n  'magalu',\n  'mas',\n  'é',\n  'vendido',\n  'e',\n  'entregue',\n  'por',\n  'eles',\n  'linkhttps',\n  'tco',\n  '6u8xllya0y',\n  'https',\n  'tco',\n  'fzoqvvwaga'],\n ['se',\n  'a',\n  'xxxmamona',\n  'comprar',\n  'PRODUTO',\n  'eu',\n  'e',\n  'lepintuiter',\n  'compramos',\n  'também'],\n ['emellymota',\n  'PRODUTO',\n  'é',\n  'vida',\n  'ainda',\n  'mais',\n  'com',\n  'o',\n  'gás',\n  'valendo',\n  'ouro',\n  'kkkkk'],\n ['eu',\n  'não',\n  'quero',\n  'comprar',\n  'nada',\n  'pra',\n  'casa',\n  'de',\n  'baixo',\n  'vou',\n  'comprar',\n  'tudo',\n  'novo',\n  'pra',\n  'casa',\n  'nova',\n  'mas',\n  'tive',\n  'que',\n  'comprar',\n  'minha',\n  'PRODUTO',\n  'agora',\n  '🥺🙌🏽✨🥳'],\n ['ai',\n  'eu',\n  'sou',\n  'uma',\n  'negação',\n  'p',\n  'fzr',\n  'as',\n  'coisa',\n  'nessa',\n  'PRODUTO',\n  'se',\n  'n',\n  'queira',\n  'fica',\n  'cru',\n  'que',\n  'odio',\n  'kkkkkkkk'],\n ['me', 'queimei', 'na', 'PRODUTO'],\n ['mandraberry',\n  'com',\n  'fé',\n  'porque',\n  'eu',\n  'só',\n  'faço',\n  'arroz',\n  'macarrão',\n  'e',\n  'coisas',\n  'na',\n  'PRODUTO',\n  'e',\n  'salada',\n  'melhor',\n  'parte',\n  'amanda'],\n ['lynconnteixeira',\n  '“mas',\n  'fritou',\n  'no',\n  'óleo',\n  'ou',\n  'na',\n  'PRODUTO',\n  'isso',\n  'moça”'],\n ['tô', 'muitooo', 'empolgado', 'com', 'minha', 'PRODUTO'],\n ['silvarion_',\n  'thatagabyx',\n  'amigo',\n  'estamos',\n  'falando',\n  'de',\n  'buceta',\n  'não',\n  'de',\n  'uma',\n  'PRODUTO',\n  'hahahahahhaha'],\n ['pow',\n  'lembrei',\n  'de',\n  'um',\n  'imporaten',\n  'a',\n  'cesta',\n  'da',\n  'PRODUTO',\n  'chatinho',\n  'tb'],\n ['tentando',\n  'fazer',\n  'torresmo',\n  'na',\n  'PRODUTO',\n  'acho',\n  'que',\n  'estou',\n  'vivendo',\n  'perigosamente'],\n ['eu', 'preciso', 'parar', 'de', 'ser', 'PRODUTO', 'das', 'ideia'],\n ['joaovictor_bs',\n  'juro',\n  'q',\n  'n',\n  'lembro',\n  'como',\n  'era',\n  'a',\n  'vida',\n  'sem',\n  'PRODUTO'],\n ['eu', 'feliz', 'da', 'vida', 'pq', 'comprei', 'minha', 'PRODUTO'],\n ['carolzinhar010', 'compra', 'uma', 'PRODUTO'],\n ['se',\n  'alguém',\n  'sentir',\n  'no',\n  'coração',\n  'e',\n  'quiser',\n  'me',\n  'dar',\n  'de',\n  'presente',\n  'um',\n  'aspirador',\n  'de',\n  'pó',\n  'um',\n  'liquidificador',\n  'ou',\n  'uma',\n  'PRODUTO',\n  'estou',\n  'aceitando'],\n ['annaborgess',\n  'PRODUTO',\n  'eh',\n  'foda',\n  'simplesmente',\n  'a',\n  'maior',\n  'invencao',\n  'da',\n  'historia'],\n ['e',\n  'chromavka',\n  'que',\n  'escolheria',\n  'brócolis',\n  'na',\n  'PRODUTO',\n  'tem',\n  'cabimento',\n  'https',\n  'tco',\n  '5rv434c1xj'],\n ['estou', 'morando', 'em', 'brasilia', 'ou', 'em', 'uma', 'PRODUTO'],\n ['queria',\n  'agradecer',\n  'ao',\n  'ser',\n  'humano',\n  'que',\n  'inventou',\n  'a',\n  'PRODUTO',\n  'pois',\n  'otimizou',\n  'tanto',\n  'o',\n  'meu',\n  'tempo',\n  '🤧❤️'],\n ['PRODUTO',\n  'filha',\n  'da',\n  'puta',\n  'prega',\n  'os',\n  'trem',\n  'tudo',\n  'vai',\n  'toma',\n  'no',\n  'cu']]"
     },
     "execution_count": 206,
     "metadata": {},
     "output_type": "execute_result"
    }
   ],
   "source": [
    "i=0\r\n",
    "y = []\r\n",
    "while i < 300:\r\n",
    "   x = lista_dos_tweets[i]\r\n",
    "   x = x[0].lower()\r\n",
    "   x = x.replace('air fryer', 'PRODUTO ')\r\n",
    "   x = cleanup3(cleanup2(cleanup(x)))\r\n",
    "   x=x.split()\r\n",
    "   y.append(x)\r\n",
    "   i+=1\r\n",
    "y\r\n"
   ]
  },
  {
   "cell_type": "code",
   "execution_count": 207,
   "metadata": {},
   "outputs": [
    {
     "data": {
      "text/plain": "(0.5568936877076412, 0.4431063122923588)"
     },
     "execution_count": 207,
     "metadata": {},
     "output_type": "execute_result"
    }
   ],
   "source": [
    "probR = len(serie_tweets_relevantes)/len(palavras)\r\n",
    "probN = len(serie_tweets_nao_relevantes)/len(palavras)\r\n",
    "probR, probN"
   ]
  },
  {
   "cell_type": "code",
   "execution_count": 208,
   "metadata": {},
   "outputs": [],
   "source": [
    "i = 0\n",
    "listaR=[]\n",
    "while i < 300:\n",
    "    p = y[i]\n",
    "    probFraseDadoR = 1\n",
    "    for n in p:\n",
    "        probFraseDadoR = probFraseDadoR * (tabela_tweets_relevantes_relativa[i]+1)\n",
    "    listaR.append(probFraseDadoR)\n",
    "    i+=1"
   ]
  },
  {
   "cell_type": "code",
   "execution_count": 209,
   "metadata": {},
   "outputs": [],
   "source": [
    "i = 0\n",
    "listaN=[]\n",
    "while i < 300:\n",
    "    p = y[i]\n",
    "    probFraseDadoN = 1\n",
    "    for n in p:\n",
    "        probFraseDadoN = probFraseDadoN * tabela_tweets_nao_relevantes_relativa[i]\n",
    "    listaN.append(probFraseDadoN)\n",
    "    i+=1"
   ]
  },
  {
   "cell_type": "code",
   "execution_count": 210,
   "metadata": {},
   "outputs": [],
   "source": [
    "i = 0\n",
    "listax=[]\n",
    "while i < 300:\n",
    "    probRDadoFrase = listaR[i] * probR\n",
    "    listax.append(probRDadoFrase)\n",
    "    i+=1"
   ]
  },
  {
   "cell_type": "code",
   "execution_count": 211,
   "metadata": {},
   "outputs": [],
   "source": [
    "i = 0\n",
    "listan=[]\n",
    "while i < 300:\n",
    "    probNDadoFrase = listaN[i] * probN\n",
    "    listan.append(probNDadoFrase)\n",
    "    i+=1"
   ]
  },
  {
   "cell_type": "markdown",
   "metadata": {},
   "source": [
    "___\n",
    "### Verificando a performance do Classificador\n",
    "\n",
    "Agora você deve testar o seu classificador com a base de Testes."
   ]
  },
  {
   "cell_type": "code",
   "execution_count": 212,
   "metadata": {},
   "outputs": [],
   "source": [
    "test = test.Teste.apply(str)\n",
    "test = test.to_list()"
   ]
  },
  {
   "cell_type": "code",
   "execution_count": 217,
   "metadata": {},
   "outputs": [],
   "source": [
    "lista_dos_tweets2 = []\n",
    "lista_tweet2 = []\n",
    "for tweet in test:\n",
    "  lista_tweet2.append(tweet)\n",
    "  lista_dos_tweets2.append(lista_tweet2)\n",
    "  lista_tweet2 = []"
   ]
  },
  {
   "cell_type": "code",
   "execution_count": 216,
   "metadata": {},
   "outputs": [],
   "source": [
    "i=0\n",
    "y = []\n",
    "while i < 200:\n",
    "   x = lista_dos_tweets2[i]\n",
    "   x = x[0].lower()\n",
    "   x = x.replace('air fryer', 'PRODUTO ')\n",
    "   x = cleanup3(cleanup2(cleanup(x)))\n",
    "   x=x.split()\n",
    "   y.append(x)\n",
    "   i+=1"
   ]
  },
  {
   "cell_type": "code",
   "execution_count": null,
   "metadata": {},
   "outputs": [],
   "source": []
  },
  {
   "cell_type": "code",
   "execution_count": null,
   "metadata": {},
   "outputs": [],
   "source": []
  },
  {
   "cell_type": "markdown",
   "metadata": {},
   "source": [
    "___\n",
    "### Concluindo"
   ]
  },
  {
   "cell_type": "code",
   "execution_count": null,
   "metadata": {},
   "outputs": [],
   "source": []
  },
  {
   "cell_type": "code",
   "execution_count": null,
   "metadata": {},
   "outputs": [],
   "source": []
  },
  {
   "cell_type": "code",
   "execution_count": null,
   "metadata": {},
   "outputs": [],
   "source": []
  },
  {
   "cell_type": "markdown",
   "metadata": {},
   "source": [
    "___\n",
    "### Qualidade do Classificador a partir de novas separações dos tweets entre Treinamento e Teste\n",
    "\n",
    "Caso for fazer esse item do Projeto"
   ]
  },
  {
   "cell_type": "code",
   "execution_count": null,
   "metadata": {},
   "outputs": [],
   "source": []
  },
  {
   "cell_type": "code",
   "execution_count": null,
   "metadata": {},
   "outputs": [],
   "source": []
  },
  {
   "cell_type": "code",
   "execution_count": null,
   "metadata": {},
   "outputs": [],
   "source": []
  },
  {
   "attachments": {},
   "cell_type": "markdown",
   "metadata": {},
   "source": [
    "___\n",
    "## Aperfeiçoamento:\n",
    "\n",
    "Trabalhos que conseguirem pelo menos conceito B vão evoluir em conceito dependendo da quantidade de itens avançados:\n",
    "\n",
    "* IMPLEMENTOU outras limpezas e transformações que não afetem a qualidade da informação contida nos tweets. Ex: stemming, lemmatization, stopwords\n",
    "* CORRIGIU separação de espaços entre palavras e emojis ou entre emojis e emojis\n",
    "* CRIOU categorias intermediárias de relevância baseadas na probabilidade: ex.: muito relevante, relevante, neutro, irrelevante, muito irrelevante. Pelo menos quatro categorias, com adição de mais tweets na base, conforme enunciado. (OBRIGATÓRIO PARA TRIOS, sem contar como item avançado)\n",
    "* EXPLICOU porquê não pode usar o próprio classificador para gerar mais amostras de treinamento\n",
    "* PROPÔS diferentes cenários para Naïve Bayes fora do contexto do projeto\n",
    "* SUGERIU e EXPLICOU melhorias reais com indicações concretas de como implementar (indicar como fazer e indicar material de pesquisa)\n",
    "* FEZ o item 6. Qualidade do Classificador a partir de novas separações dos tweets entre Treinamento e Teste descrito no enunciado do projeto (OBRIGATÓRIO para conceitos A ou A+)"
   ]
  },
  {
   "cell_type": "markdown",
   "metadata": {},
   "source": [
    "___\n",
    "## Referências"
   ]
  },
  {
   "cell_type": "markdown",
   "metadata": {},
   "source": [
    "[Naive Bayes and Text Classification](https://arxiv.org/pdf/1410.5329.pdf)  **Mais completo**\n",
    "\n",
    "[A practical explanation of a Naive Bayes Classifier](https://monkeylearn.com/blog/practical-explanation-naive-bayes-classifier/) **Mais simples**"
   ]
  },
  {
   "cell_type": "code",
   "execution_count": null,
   "metadata": {},
   "outputs": [],
   "source": []
  }
 ],
 "metadata": {
  "interpreter": {
   "hash": "51b9ad24d63439ac1595c0936db43b926a873ce9029c5f9bea069af26a7b72f1"
  },
  "kernelspec": {
   "display_name": "Python 3.8.5 64-bit ('base': conda)",
   "name": "python3"
  },
  "language_info": {
   "codemirror_mode": {
    "name": "ipython",
    "version": 3
   },
   "file_extension": ".py",
   "mimetype": "text/x-python",
   "name": "python",
   "nbconvert_exporter": "python",
   "pygments_lexer": "ipython3",
   "version": "3.8.5"
  },
  "metadata": {
   "interpreter": {
    "hash": "cb912411e23237fadbf4a5d0e899a2744866961a2205d2742a20610e6052bb20"
   }
  }
 },
 "nbformat": 4,
 "nbformat_minor": 4
}