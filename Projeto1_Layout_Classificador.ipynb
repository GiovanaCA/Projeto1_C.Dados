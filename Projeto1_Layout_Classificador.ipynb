{
 "cells": [
  {
   "cell_type": "markdown",
   "metadata": {},
   "source": [
    "# Projeto 1 - Ciência dos Dados"
   ]
  },
  {
   "cell_type": "markdown",
   "metadata": {},
   "source": [
    "Nome: Guilherme dos Santos Martins\n",
    "\n",
    "Nome: Giovana Cassoni Andrade"
   ]
  },
  {
   "cell_type": "markdown",
   "metadata": {},
   "source": [
    "Atenção: Serão permitidos grupos de três pessoas, mas com uma rubrica mais exigente. Grupos deste tamanho precisarão fazer um questionário de avaliação de trabalho em equipe"
   ]
  },
  {
   "cell_type": "markdown",
   "metadata": {},
   "source": [
    "___\n",
    "Carregando algumas bibliotecas:"
   ]
  },
  {
   "cell_type": "code",
   "execution_count": 1148,
   "metadata": {},
   "outputs": [],
   "source": [
    "%matplotlib inline\n",
    "# !pip install emoji\n",
    "import pandas as pd\n",
    "import matplotlib.pyplot as plt\n",
    "import numpy as np\n",
    "import os\n",
    "import emoji\n",
    "from emoji import UNICODE_EMOJI"
   ]
  },
  {
   "cell_type": "markdown",
   "metadata": {},
   "source": [
    "Mostrando o diretório"
   ]
  },
  {
   "cell_type": "code",
   "execution_count": 1149,
   "metadata": {
    "scrolled": false
   },
   "outputs": [
    {
     "name": "stdout",
     "output_type": "stream",
     "text": [
      "Esperamos trabalhar no diretório\n",
      "/Users/giovanaandrade/Documents/Insper/Ciência dos Dados/Projeto 1/Projeto1_C.Dados\n"
     ]
    }
   ],
   "source": [
    "print('Esperamos trabalhar no diretório')\r\n",
    "print(os.getcwd())"
   ]
  },
  {
   "cell_type": "markdown",
   "metadata": {},
   "source": [
    "Carregando a base de dados com os tweets classificados como relevantes e não relevantes:"
   ]
  },
  {
   "cell_type": "code",
   "execution_count": 1150,
   "metadata": {},
   "outputs": [],
   "source": [
    "filename = 'Air Fryer.xlsx'"
   ]
  },
  {
   "cell_type": "markdown",
   "metadata": {},
   "source": [
    "Dados do Treinamento"
   ]
  },
  {
   "cell_type": "code",
   "execution_count": 1151,
   "metadata": {},
   "outputs": [
    {
     "data": {
      "text/html": "<div>\n<style scoped>\n    .dataframe tbody tr th:only-of-type {\n        vertical-align: middle;\n    }\n\n    .dataframe tbody tr th {\n        vertical-align: top;\n    }\n\n    .dataframe thead th {\n        text-align: right;\n    }\n</style>\n<table border=\"1\" class=\"dataframe\">\n  <thead>\n    <tr style=\"text-align: right;\">\n      <th></th>\n      <th>Treinamento</th>\n      <th>Relevância</th>\n    </tr>\n  </thead>\n  <tbody>\n    <tr>\n      <th>0</th>\n      <td>air fryer pra canhoto</td>\n      <td>1</td>\n    </tr>\n    <tr>\n      <th>1</th>\n      <td>@vanessapeitos @daizenbvc o franky conseguiria...</td>\n      <td>0</td>\n    </tr>\n    <tr>\n      <th>2</th>\n      <td>adoro poder aplicar meus conhecimentos de enge...</td>\n      <td>1</td>\n    </tr>\n    <tr>\n      <th>3</th>\n      <td>@leilodecornohu1 \"amigo estamos falando de buc...</td>\n      <td>0</td>\n    </tr>\n    <tr>\n      <th>4</th>\n      <td>se eu n mandar isso aqui na dm de alguma esqui...</td>\n      <td>0</td>\n    </tr>\n  </tbody>\n</table>\n</div>",
      "text/plain": "                                         Treinamento  Relevância\n0                              air fryer pra canhoto           1\n1  @vanessapeitos @daizenbvc o franky conseguiria...           0\n2  adoro poder aplicar meus conhecimentos de enge...           1\n3  @leilodecornohu1 \"amigo estamos falando de buc...           0\n4  se eu n mandar isso aqui na dm de alguma esqui...           0"
     },
     "execution_count": 1151,
     "metadata": {},
     "output_type": "execute_result"
    }
   ],
   "source": [
    "train = pd.read_excel(filename)\r\n",
    "train.head(5)"
   ]
  },
  {
   "cell_type": "markdown",
   "metadata": {},
   "source": [
    "Tweets do treinamento"
   ]
  },
  {
   "cell_type": "code",
   "execution_count": 1152,
   "metadata": {},
   "outputs": [
    {
     "data": {
      "text/plain": "0                                  air fryer pra canhoto\n1      @vanessapeitos @daizenbvc o franky conseguiria...\n2      adoro poder aplicar meus conhecimentos de enge...\n3      @leilodecornohu1 \"amigo estamos falando de buc...\n4      se eu n mandar isso aqui na dm de alguma esqui...\n                             ...                        \n295    @annaborgess air fryer eh foda simplesmente a ...\n296    e @chromavka que escolheria brócolis na air fr...\n297        estou morando em brasilia ou em uma air fryer\n298    queria agradecer ao ser humano que inventou a ...\n299    air fryer filha da puta, prega os trem tudo va...\nName: Treinamento, Length: 300, dtype: object"
     },
     "execution_count": 1152,
     "metadata": {},
     "output_type": "execute_result"
    }
   ],
   "source": [
    "train.Treinamento"
   ]
  },
  {
   "cell_type": "markdown",
   "metadata": {},
   "source": [
    "Probabilidades iniciais"
   ]
  },
  {
   "cell_type": "code",
   "execution_count": 1153,
   "metadata": {},
   "outputs": [
    {
     "data": {
      "text/plain": "(0.58, 0.42)"
     },
     "execution_count": 1153,
     "metadata": {},
     "output_type": "execute_result"
    }
   ],
   "source": [
    "probN = train.Relevância.value_counts(True)[0]\n",
    "probR = train.Relevância.value_counts(True)[1]\n",
    "probR, probN"
   ]
  },
  {
   "cell_type": "markdown",
   "metadata": {},
   "source": [
    "Dados do Teste"
   ]
  },
  {
   "cell_type": "code",
   "execution_count": 1154,
   "metadata": {},
   "outputs": [
    {
     "data": {
      "text/html": "<div>\n<style scoped>\n    .dataframe tbody tr th:only-of-type {\n        vertical-align: middle;\n    }\n\n    .dataframe tbody tr th {\n        vertical-align: top;\n    }\n\n    .dataframe thead th {\n        text-align: right;\n    }\n</style>\n<table border=\"1\" class=\"dataframe\">\n  <thead>\n    <tr style=\"text-align: right;\">\n      <th></th>\n      <th>Teste</th>\n      <th>Relevância</th>\n    </tr>\n  </thead>\n  <tbody>\n    <tr>\n      <th>0</th>\n      <td>@poetatulio @tatyene_mendes isso é uma xota ou...</td>\n      <td>0</td>\n    </tr>\n    <tr>\n      <th>1</th>\n      <td>comprei uma air fryer p minha mãe, o bagulho caro</td>\n      <td>0</td>\n    </tr>\n    <tr>\n      <th>2</th>\n      <td>usando air fryer como se não houvesse o amanhã</td>\n      <td>1</td>\n    </tr>\n    <tr>\n      <th>3</th>\n      <td>minha mãe comprou uma air fryer e já ama mais ...</td>\n      <td>1</td>\n    </tr>\n    <tr>\n      <th>4</th>\n      <td>repita comigo: churrasco na air fryer não existe!</td>\n      <td>0</td>\n    </tr>\n  </tbody>\n</table>\n</div>",
      "text/plain": "                                               Teste  Relevância\n0  @poetatulio @tatyene_mendes isso é uma xota ou...           0\n1  comprei uma air fryer p minha mãe, o bagulho caro           0\n2     usando air fryer como se não houvesse o amanhã           1\n3  minha mãe comprou uma air fryer e já ama mais ...           1\n4  repita comigo: churrasco na air fryer não existe!           0"
     },
     "execution_count": 1154,
     "metadata": {},
     "output_type": "execute_result"
    }
   ],
   "source": [
    "test = pd.read_excel(filename, sheet_name = 'Teste')\r\n",
    "test.head(5)"
   ]
  },
  {
   "cell_type": "markdown",
   "metadata": {},
   "source": [
    "___\n",
    "## Classificador automático de sentimento\n"
   ]
  },
  {
   "cell_type": "markdown",
   "metadata": {},
   "source": [
    "Faça aqui uma descrição do seu produto e o que considerou como relevante ou não relevante na classificação dos tweets.\n",
    "\n",
    "ESCREVA AQUI..."
   ]
  },
  {
   "cell_type": "markdown",
   "metadata": {},
   "source": [
    "___\n",
    "### Montando um Classificador Naive-Bayes\n",
    "\n",
    "Considerando apenas as mensagens da planilha Treinamento, ensine  seu classificador."
   ]
  },
  {
   "cell_type": "markdown",
   "metadata": {},
   "source": [
    "Criando as funções de cleanup:"
   ]
  },
  {
   "cell_type": "code",
   "execution_count": 1155,
   "metadata": {},
   "outputs": [],
   "source": [
    "import re \n",
    "\n",
    "def cleanup(text):\n",
    "    punctuation = '[@!-.:?;]'\n",
    "    pattern = re.compile(punctuation)\n",
    "    text_subbed = re.sub(pattern, '', text)\n",
    "    return text_subbed"
   ]
  },
  {
   "cell_type": "code",
   "execution_count": 1156,
   "metadata": {},
   "outputs": [],
   "source": [
    "def cleanup2(text):\r\n",
    "    paragrafo = '\\n'\r\n",
    "    pattern = re.compile(paragrafo)\r\n",
    "    text_subbed = re.sub(pattern, ' ', text)\r\n",
    "    return text_subbed"
   ]
  },
  {
   "cell_type": "code",
   "execution_count": 1157,
   "metadata": {},
   "outputs": [],
   "source": [
    "def cleanup3(text):\r\n",
    "    punctuation = '\\/'\r\n",
    "    pattern = re.compile(punctuation)\r\n",
    "    text_subbed = re.sub(pattern, ' ', text)\r\n",
    "    return text_subbed"
   ]
  },
  {
   "cell_type": "markdown",
   "metadata": {},
   "source": [
    "Separando os tweets pela classificação da relevância"
   ]
  },
  {
   "cell_type": "code",
   "execution_count": 1158,
   "metadata": {},
   "outputs": [],
   "source": [
    "trainR = train.loc[train['Relevância'] == 1,:]\r\n",
    "trainN = train.loc[train['Relevância'] == 0,:]"
   ]
  },
  {
   "cell_type": "markdown",
   "metadata": {},
   "source": [
    "Transformando os tweets relevantes em string e adicionando a uma lista"
   ]
  },
  {
   "cell_type": "code",
   "execution_count": 1159,
   "metadata": {},
   "outputs": [],
   "source": [
    "trainR = trainR.Treinamento.apply(str)\r\n",
    "trainR = trainR.to_list()"
   ]
  },
  {
   "cell_type": "markdown",
   "metadata": {},
   "source": [
    "Transformando os tweets não relevantes em string e adicionando a uma lista"
   ]
  },
  {
   "cell_type": "code",
   "execution_count": 1160,
   "metadata": {},
   "outputs": [],
   "source": [
    "trainN = trainN.Treinamento.apply(str)\n",
    "trainN = trainN.to_list()"
   ]
  },
  {
   "cell_type": "markdown",
   "metadata": {},
   "source": [
    "Fazendo o cleanup em ambas as listas de tweets e o split"
   ]
  },
  {
   "cell_type": "code",
   "execution_count": 1161,
   "metadata": {},
   "outputs": [],
   "source": [
    "stringR = \" \"\r\n",
    "for i in trainR:\r\n",
    "    stringR = stringR + i + ' '\r\n",
    "stringR = stringR.lower()\r\n",
    "stringR = stringR.replace('air fryer', 'PRODUTO ')\r\n",
    "stringR = cleanup3(cleanup2(cleanup(stringR)))\r\n",
    "palavrasR = stringR.split()"
   ]
  },
  {
   "cell_type": "code",
   "execution_count": 1162,
   "metadata": {},
   "outputs": [],
   "source": [
    "stringN = \" \"\n",
    "for i in trainN:\n",
    "    stringN = stringN + i + ' '\n",
    "stringN = stringN.lower()\n",
    "stringN = stringN.replace('air fryer', 'PRODUTO ')\n",
    "stringN = cleanup3(cleanup2(cleanup(stringN)))\n",
    "palavrasN = stringN.split()"
   ]
  },
  {
   "cell_type": "markdown",
   "metadata": {},
   "source": [
    "Criando duas Series, uma com todas as palavras dos tweets relevantes e outra com todas as palavras dos tweets não relevantes"
   ]
  },
  {
   "cell_type": "code",
   "execution_count": 1163,
   "metadata": {},
   "outputs": [],
   "source": [
    "serie_tweets_relevantes = pd.Series(palavrasR)\n",
    "# serie_tweets_relevantes.head(10)"
   ]
  },
  {
   "cell_type": "code",
   "execution_count": 1164,
   "metadata": {},
   "outputs": [],
   "source": [
    "serie_tweets_nao_relevantes = pd.Series(palavrasN)\r\n",
    "# serie_tweets_nao_relevantes.head(10)"
   ]
  },
  {
   "cell_type": "markdown",
   "metadata": {},
   "source": [
    "# Porque tem essa linha abaixo? Para entender"
   ]
  },
  {
   "cell_type": "code",
   "execution_count": 1165,
   "metadata": {},
   "outputs": [],
   "source": [
    "lista_tweets_relevantes = serie_tweets_relevantes.to_list()\n",
    "lista_tweets_nao_relevantes = serie_tweets_nao_relevantes.to_list()"
   ]
  },
  {
   "cell_type": "markdown",
   "metadata": {},
   "source": [
    "Contagem de cada uma das palavras de ambas as Series"
   ]
  },
  {
   "cell_type": "code",
   "execution_count": 1166,
   "metadata": {},
   "outputs": [],
   "source": [
    "tabela_tweets_relevantes = serie_tweets_relevantes.value_counts()\n",
    "# tabela_tweets_relevantes"
   ]
  },
  {
   "cell_type": "code",
   "execution_count": 1167,
   "metadata": {},
   "outputs": [],
   "source": [
    "tabela_tweets_nao_relevantes = serie_tweets_nao_relevantes.value_counts()\r\n",
    "# tabela_tweets_nao_relevantes"
   ]
  },
  {
   "cell_type": "markdown",
   "metadata": {},
   "source": [
    "Contagem dos valores relativos de ambas as Series"
   ]
  },
  {
   "cell_type": "code",
   "execution_count": 1168,
   "metadata": {},
   "outputs": [],
   "source": [
    "tabela_tweets_relevantes_relativa = serie_tweets_relevantes.value_counts(True)\n",
    "# tabela_tweets_relevantes_relativa"
   ]
  },
  {
   "cell_type": "code",
   "execution_count": 1169,
   "metadata": {},
   "outputs": [],
   "source": [
    "tabela_tweets_nao_relevantes_relativa = serie_tweets_nao_relevantes.value_counts(True)\r\n",
    "# tabela_tweets_nao_relevantes_relativa"
   ]
  },
  {
   "cell_type": "markdown",
   "metadata": {},
   "source": [
    "Transformando a tabela original Treinamento em string e lista para ter todos os tweets, não importando a classificação de relevância"
   ]
  },
  {
   "cell_type": "code",
   "execution_count": 1170,
   "metadata": {},
   "outputs": [],
   "source": [
    "train_str = train.Treinamento.apply(str)\n",
    "train = train_str.to_list()\n",
    "# train"
   ]
  },
  {
   "cell_type": "markdown",
   "metadata": {},
   "source": [
    "Fazendo o cleanup e split de todos os tweets"
   ]
  },
  {
   "cell_type": "code",
   "execution_count": 1171,
   "metadata": {},
   "outputs": [],
   "source": [
    "string = \" \"\n",
    "for i in train:\n",
    "    string = string + i + ' '\n",
    "string = string.lower()\n",
    "string = string.replace('air fryer', 'PRODUTO ')\n",
    "string = cleanup3(cleanup2(cleanup(string)))\n",
    "palavras = string.split()\n",
    "# palavras"
   ]
  },
  {
   "cell_type": "markdown",
   "metadata": {},
   "source": [
    "Criando a Series com todas as palavras de todos os tweets"
   ]
  },
  {
   "cell_type": "code",
   "execution_count": 1172,
   "metadata": {},
   "outputs": [],
   "source": [
    "tabela_tweets = pd.Series(palavras)\n",
    "# tabela_tweets"
   ]
  },
  {
   "cell_type": "code",
   "execution_count": 1173,
   "metadata": {},
   "outputs": [],
   "source": [
    "# tabela_tweets.to_frame()"
   ]
  },
  {
   "cell_type": "code",
   "execution_count": 1174,
   "metadata": {},
   "outputs": [],
   "source": [
    "lista_dos_tweets = []\n",
    "lista_tweet = []\n",
    "for tweet in train:\n",
    "  lista_tweet.append(tweet)\n",
    "  lista_dos_tweets.append(lista_tweet)\n",
    "  lista_tweet = []\n",
    "# lista_dos_tweets\n"
   ]
  },
  {
   "cell_type": "code",
   "execution_count": 1175,
   "metadata": {},
   "outputs": [],
   "source": [
    "palavras_nao_repetidas = []\r\n",
    "for i in palavras:\r\n",
    "    if i not in palavras_nao_repetidas:\r\n",
    "        palavras_nao_repetidas.append(i)\r\n",
    "tabela_nao_repetidas = pd.Series(palavras_nao_repetidas)\r\n",
    "# tabela_nao_repetidas"
   ]
  },
  {
   "cell_type": "code",
   "execution_count": 1176,
   "metadata": {},
   "outputs": [],
   "source": [
    "i = 0\n",
    "y = []\n",
    "while i < 300:\n",
    "   x = lista_dos_tweets[i]\n",
    "   x = x[0].lower()\n",
    "   x = x.replace('air fryer', 'PRODUTO ')\n",
    "   x = cleanup3(cleanup2(cleanup(x)))\n",
    "   x=x.split()\n",
    "   y.append(x)\n",
    "   i+=1\n",
    "# y"
   ]
  },
  {
   "cell_type": "code",
   "execution_count": 1177,
   "metadata": {},
   "outputs": [],
   "source": [
    "i = 0\n",
    "listaR = []\n",
    "while i < 300:\n",
    "    p = y[i]\n",
    "    probFraseDadoR = 1\n",
    "    for n in p:\n",
    "        if n in tabela_tweets_relevantes:\n",
    "            probFraseDadoR = probFraseDadoR * ((tabela_tweets_relevantes[n]+1)/(len(tabela_tweets_relevantes)+len(tabela_nao_repetidas)))\n",
    "        else:\n",
    "            probFraseDadoR = probFraseDadoR * (1/(len(tabela_tweets_relevantes)+len(tabela_nao_repetidas)))\n",
    "\n",
    "    listaR.append(probFraseDadoR)\n",
    "    i+=1\n",
    "# listaR"
   ]
  },
  {
   "cell_type": "code",
   "execution_count": 1178,
   "metadata": {},
   "outputs": [],
   "source": [
    "i = 0\n",
    "listaN = []\n",
    "while i < 300:\n",
    "    p = y[i]\n",
    "    probFraseDadoN = 1\n",
    "    for n in p:\n",
    "        if n in tabela_tweets_nao_relevantes:\n",
    "            probFraseDadoN = probFraseDadoN * ((tabela_tweets_nao_relevantes[n]+1)/(len(tabela_tweets_nao_relevantes)+len(tabela_nao_repetidas)))\n",
    "        else:\n",
    "            probFraseDadoN = probFraseDadoN * (1/(len(tabela_tweets_nao_relevantes)+len(tabela_nao_repetidas)))\n",
    "\n",
    "    listaN.append(probFraseDadoN)\n",
    "    i+=1\n",
    "# listaN"
   ]
  },
  {
   "cell_type": "code",
   "execution_count": 1179,
   "metadata": {},
   "outputs": [],
   "source": [
    "i = 0\n",
    "listar = []\n",
    "while i < 300:\n",
    "    probRDadoFrase = listaR[i] * probR\n",
    "    listar.append(probRDadoFrase)\n",
    "    i+=1\n",
    "# listar"
   ]
  },
  {
   "cell_type": "code",
   "execution_count": 1180,
   "metadata": {},
   "outputs": [],
   "source": [
    "i = 0\n",
    "listan = []\n",
    "while i < 300:\n",
    "    probNDadoFrase = listaN[i] * probN\n",
    "    listan.append(probNDadoFrase)\n",
    "    i+=1\n",
    "# listan"
   ]
  },
  {
   "cell_type": "code",
   "execution_count": 1181,
   "metadata": {},
   "outputs": [],
   "source": [
    "i = 0\n",
    "relevancia = []\n",
    "while i < 300:\n",
    "    if listar[i]>listan[i]:\n",
    "        relevancia.append(1)\n",
    "    else:\n",
    "        relevancia.append(0)\n",
    "    i+=1\n",
    "# relevancia\n"
   ]
  },
  {
   "cell_type": "code",
   "execution_count": 1182,
   "metadata": {},
   "outputs": [],
   "source": [
    "def relevante(lista_de_tweet):\n",
    "    lista_dos_tweets2 = []\n",
    "    lista_tweet2 = []\n",
    "    for tweet in lista_de_tweet:\n",
    "        lista_tweet2.append(tweet)\n",
    "        lista_dos_tweets2.append(lista_tweet2)\n",
    "        lista_tweet2 = []\n",
    "\n",
    "    i = 0\n",
    "    y1 = []\n",
    "    while i < 200:\n",
    "        x = lista_dos_tweets2[i]\n",
    "        x = x[0].lower()\n",
    "        x = x.replace('air fryer', 'PRODUTO ')\n",
    "        x = cleanup3(cleanup2(cleanup(x)))\n",
    "        x=x.split()\n",
    "        y1.append(x)\n",
    "        i+=1\n",
    "        \n",
    "    i = 0\n",
    "    listaR = []\n",
    "    while i < 200:        \n",
    "        p = y1[i]\n",
    "        probFraseDadoR = 1\n",
    "        for n in p:\n",
    "            if n in tabela_tweets_relevantes:\n",
    "                probFraseDadoR = probFraseDadoR * ((tabela_tweets_relevantes[n]+1)/(len(tabela_tweets_relevantes)+len(tabela_nao_repetidas)))\n",
    "            else:\n",
    "                probFraseDadoR = probFraseDadoR * (1/(len(tabela_tweets_relevantes)+len(tabela_nao_repetidas)))\n",
    "\n",
    "        listaR.append(probFraseDadoR)\n",
    "        i+=1\n",
    "\n",
    "    i = 0\n",
    "    listaN = []\n",
    "    while i < 200:       \n",
    "        p = y1[i]\n",
    "        probFraseDadoN = 1\n",
    "        for n in p:\n",
    "            if n in tabela_tweets_nao_relevantes:\n",
    "                probFraseDadoN = probFraseDadoN * ((tabela_tweets_nao_relevantes[n]+1)/(len(tabela_tweets_nao_relevantes)+len(tabela_nao_repetidas)))\n",
    "            else:\n",
    "                probFraseDadoN = probFraseDadoN * (1/(len(tabela_tweets_nao_relevantes)+len(tabela_nao_repetidas)))\n",
    "\n",
    "        listaN.append(probFraseDadoN)\n",
    "        i+=1\n",
    "\n",
    "    i = 0\n",
    "    listar = []\n",
    "    while i < 200:        \n",
    "        probRDadoFrase = listaR[i] * probR\n",
    "        listar.append(probRDadoFrase)\n",
    "        i+=1\n",
    "\n",
    "    i = 0\n",
    "    listan = []\n",
    "    while i < 200:\n",
    "        probNDadoFrase = listaN[i] * probN\n",
    "        listan.append(probNDadoFrase)\n",
    "        i+=1\n",
    "\n",
    "    i = 0\n",
    "    relevancia = []\n",
    "    while i < 200:        \n",
    "        if listar[i]>listan[i]:\n",
    "            relevancia.append(1)\n",
    "        else:\n",
    "            relevancia.append(0)\n",
    "        i+=1\n",
    "    return relevancia"
   ]
  },
  {
   "cell_type": "code",
   "execution_count": 1183,
   "metadata": {},
   "outputs": [],
   "source": [
    "train1 = pd.read_excel(filename)\n",
    "train2 = train1.Treinamento.apply(str)\n",
    "train3 = train2.to_list()"
   ]
  },
  {
   "cell_type": "code",
   "execution_count": 1184,
   "metadata": {},
   "outputs": [],
   "source": [
    "x1 = relevante(train3)\n",
    "v1 = pd.Series(x1)\n",
    "vreal1 = train1.Relevância.to_list()"
   ]
  },
  {
   "cell_type": "code",
   "execution_count": 1185,
   "metadata": {},
   "outputs": [
    {
     "data": {
      "text/plain": "0      verdadeiro positivo\n1      verdadeiro negativo\n2      verdadeiro positivo\n3      verdadeiro negativo\n4      verdadeiro negativo\n              ...         \n195    verdadeiro positivo\n196    verdadeiro positivo\n197    verdadeiro positivo\n198    verdadeiro negativo\n199    verdadeiro negativo\nLength: 200, dtype: object"
     },
     "execution_count": 1185,
     "metadata": {},
     "output_type": "execute_result"
    }
   ],
   "source": [
    "lista_porcentagens1 = [0] * len(x1)\n",
    "i = 0\n",
    "while i < len(x1):\n",
    "    if x1[i] == vreal1[i] and x1[i] == 0:\n",
    "        lista_porcentagens1[i] = 'verdadeiro negativo'\n",
    "    if x1[i] == vreal1[i] and x1[i] == 1:\n",
    "        lista_porcentagens1[i] = 'verdadeiro positivo'\n",
    "    if x1[i] != vreal1[i] and x1[i] == 0:\n",
    "        lista_porcentagens1[i] = 'falso negativo'\n",
    "    if x1[i] != vreal1[i] and x1[i] == 1:\n",
    "        lista_porcentagens1[i] = 'falso positivo'\n",
    "    i += 1\n",
    "\n",
    "porcentagens1 = pd.Series(lista_porcentagens1)\n",
    "porcentagens1"
   ]
  },
  {
   "cell_type": "code",
   "execution_count": 1186,
   "metadata": {},
   "outputs": [
    {
     "data": {
      "text/plain": "verdadeiro positivo    59.0\nverdadeiro negativo    37.0\nfalso positivo          4.0\ndtype: float64"
     },
     "execution_count": 1186,
     "metadata": {},
     "output_type": "execute_result"
    }
   ],
   "source": [
    "porcentagens1.value_counts(True) * 100"
   ]
  },
  {
   "cell_type": "code",
   "execution_count": 1187,
   "metadata": {},
   "outputs": [
    {
     "data": {
      "text/plain": "'100.0 %'"
     },
     "execution_count": 1187,
     "metadata": {},
     "output_type": "execute_result"
    }
   ],
   "source": [
    "acuracia1 = 58.333333 + 41.666667\n",
    "acuracia1 = str(acuracia1) + ' %'\n",
    "acuracia1"
   ]
  },
  {
   "cell_type": "markdown",
   "metadata": {},
   "source": [
    "___\n",
    "### Verificando a performance do Classificador\n",
    "\n",
    "Agora você deve testar o seu classificador com a base de Testes."
   ]
  },
  {
   "cell_type": "code",
   "execution_count": 1188,
   "metadata": {},
   "outputs": [],
   "source": [
    "test1 = test.Teste.apply(str)\n",
    "test2 = test1.to_list()"
   ]
  },
  {
   "cell_type": "code",
   "execution_count": 1189,
   "metadata": {},
   "outputs": [],
   "source": [
    "x = relevante(test2)\n",
    "v = pd.Series(x)\n",
    "vreal = test.Relevância.to_list()"
   ]
  },
  {
   "cell_type": "code",
   "execution_count": 1190,
   "metadata": {},
   "outputs": [
    {
     "data": {
      "text/plain": "0      verdadeiro negativo\n1           falso positivo\n2      verdadeiro positivo\n3      verdadeiro positivo\n4           falso positivo\n              ...         \n195    verdadeiro positivo\n196    verdadeiro positivo\n197         falso positivo\n198         falso positivo\n199         falso positivo\nLength: 200, dtype: object"
     },
     "execution_count": 1190,
     "metadata": {},
     "output_type": "execute_result"
    }
   ],
   "source": [
    "lista_porcentagens = [0] * len(x)\n",
    "i = 0\n",
    "while i < len(x):\n",
    "    if x[i] == vreal[i] and x[i] == 0:\n",
    "        lista_porcentagens[i] = 'verdadeiro negativo'\n",
    "    if x[i] == vreal[i] and x[i] == 1:\n",
    "        lista_porcentagens[i] = 'verdadeiro positivo'\n",
    "    if x[i] != vreal[i] and x[i] == 0:\n",
    "        lista_porcentagens[i] = 'falso negativo'\n",
    "    if x[i] != vreal[i] and x[i] == 1:\n",
    "        lista_porcentagens[i] = 'falso positivo'\n",
    "    i += 1\n",
    "\n",
    "porcentagens = pd.Series(lista_porcentagens)\n",
    "porcentagens"
   ]
  },
  {
   "cell_type": "markdown",
   "metadata": {},
   "source": [
    "Extraindo as seguintes contagens:\n",
    "\n",
    "- Porcentagem de verdadeiros positivos\n",
    "- Porcentagem de falsos positivos\n",
    "- Porcentagem de verdadeiros negativos\n",
    "- Porcentagem de falsos negativos"
   ]
  },
  {
   "cell_type": "code",
   "execution_count": 1191,
   "metadata": {},
   "outputs": [
    {
     "data": {
      "text/plain": "verdadeiro positivo    48.5\nfalso positivo         31.0\nverdadeiro negativo    15.0\nfalso negativo          5.5\ndtype: float64"
     },
     "execution_count": 1191,
     "metadata": {},
     "output_type": "execute_result"
    }
   ],
   "source": [
    "porcentagens.value_counts(True) * 100"
   ]
  },
  {
   "cell_type": "markdown",
   "metadata": {},
   "source": [
    "Mensagens corretamente classificadas: Acurácia"
   ]
  },
  {
   "cell_type": "code",
   "execution_count": 1192,
   "metadata": {},
   "outputs": [
    {
     "data": {
      "text/plain": "'63.5 %'"
     },
     "execution_count": 1192,
     "metadata": {},
     "output_type": "execute_result"
    }
   ],
   "source": [
    "acuracia = 48.5 + 15.0\n",
    "acuracia = str(acuracia) + ' %'\n",
    "acuracia"
   ]
  },
  {
   "cell_type": "markdown",
   "metadata": {},
   "source": [
    "___\n",
    "### Concluindo"
   ]
  },
  {
   "cell_type": "markdown",
   "metadata": {},
   "source": [
    "Após o classificador ser utilizado, pode-se ver que ele obteve uma performance mediana, com uma acurácia de 63.5 % quando utilizado na planilha do excel de teste."
   ]
  },
  {
   "cell_type": "code",
   "execution_count": null,
   "metadata": {},
   "outputs": [],
   "source": []
  },
  {
   "cell_type": "markdown",
   "metadata": {},
   "source": [
    "___\n",
    "### Qualidade do Classificador a partir de novas separações dos tweets entre Treinamento e Teste\n",
    "\n",
    "Caso for fazer esse item do Projeto"
   ]
  },
  {
   "cell_type": "code",
   "execution_count": null,
   "metadata": {},
   "outputs": [],
   "source": []
  },
  {
   "cell_type": "code",
   "execution_count": null,
   "metadata": {},
   "outputs": [],
   "source": []
  },
  {
   "cell_type": "code",
   "execution_count": null,
   "metadata": {},
   "outputs": [],
   "source": []
  },
  {
   "attachments": {},
   "cell_type": "markdown",
   "metadata": {},
   "source": [
    "___\n",
    "## Aperfeiçoamento:\n",
    "\n",
    "Trabalhos que conseguirem pelo menos conceito B vão evoluir em conceito dependendo da quantidade de itens avançados:\n",
    "\n",
    "* IMPLEMENTOU outras limpezas e transformações que não afetem a qualidade da informação contida nos tweets. Ex: stemming, lemmatization, stopwords\n",
    "* CORRIGIU separação de espaços entre palavras e emojis ou entre emojis e emojis\n",
    "* CRIOU categorias intermediárias de relevância baseadas na probabilidade: ex.: muito relevante, relevante, neutro, irrelevante, muito irrelevante. Pelo menos quatro categorias, com adição de mais tweets na base, conforme enunciado. (OBRIGATÓRIO PARA TRIOS, sem contar como item avançado)\n",
    "* EXPLICOU porquê não pode usar o próprio classificador para gerar mais amostras de treinamento\n",
    "* PROPÔS diferentes cenários para Naïve Bayes fora do contexto do projeto\n",
    "* SUGERIU e EXPLICOU melhorias reais com indicações concretas de como implementar (indicar como fazer e indicar material de pesquisa)\n",
    "* FEZ o item 6. Qualidade do Classificador a partir de novas separações dos tweets entre Treinamento e Teste descrito no enunciado do projeto (OBRIGATÓRIO para conceitos A ou A+)"
   ]
  },
  {
   "cell_type": "markdown",
   "metadata": {},
   "source": [
    "___\n",
    "## Referências"
   ]
  },
  {
   "cell_type": "markdown",
   "metadata": {},
   "source": [
    "[Naive Bayes and Text Classification](https://arxiv.org/pdf/1410.5329.pdf)  **Mais completo**\n",
    "\n",
    "[A practical explanation of a Naive Bayes Classifier](https://monkeylearn.com/blog/practical-explanation-naive-bayes-classifier/) **Mais simples**"
   ]
  },
  {
   "cell_type": "code",
   "execution_count": null,
   "metadata": {},
   "outputs": [],
   "source": []
  }
 ],
 "metadata": {
  "interpreter": {
   "hash": "51b9ad24d63439ac1595c0936db43b926a873ce9029c5f9bea069af26a7b72f1"
  },
  "kernelspec": {
   "display_name": "Python 3.8.5 64-bit ('base': conda)",
   "name": "python385jvsc74a57bd0cb912411e23237fadbf4a5d0e899a2744866961a2205d2742a20610e6052bb20"
  },
  "language_info": {
   "codemirror_mode": {
    "name": "ipython",
    "version": 3
   },
   "file_extension": ".py",
   "mimetype": "text/x-python",
   "name": "python",
   "nbconvert_exporter": "python",
   "pygments_lexer": "ipython3",
   "version": "3.8.5"
  },
  "metadata": {
   "interpreter": {
    "hash": "cb912411e23237fadbf4a5d0e899a2744866961a2205d2742a20610e6052bb20"
   }
  }
 },
 "nbformat": 4,
 "nbformat_minor": 4
}