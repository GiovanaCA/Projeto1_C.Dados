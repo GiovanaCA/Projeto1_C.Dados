{
 "cells": [
  {
   "cell_type": "markdown",
   "source": [
    "# Projeto 1 - Ciência dos Dados"
   ],
   "metadata": {}
  },
  {
   "cell_type": "markdown",
   "source": [
    "Nome: Guilherme Martins\r\n",
    "\r\n",
    "Nome: Giovana Cassoni"
   ],
   "metadata": {}
  },
  {
   "cell_type": "markdown",
   "source": [
    "Atenção: Serão permitidos grupos de três pessoas, mas com uma rubrica mais exigente. Grupos deste tamanho precisarão fazer um questionário de avaliação de trabalho em equipe"
   ],
   "metadata": {}
  },
  {
   "cell_type": "markdown",
   "source": [
    "___\n",
    "Carregando algumas bibliotecas:"
   ],
   "metadata": {}
  },
  {
   "cell_type": "code",
   "execution_count": 683,
   "source": [
    "%matplotlib inline\r\n",
    "import pandas as pd\r\n",
    "import matplotlib.pyplot as plt\r\n",
    "import numpy as np\r\n",
    "import os\r\n",
    "import emoji\r\n",
    "from emoji import UNICODE_EMOJI\r\n"
   ],
   "outputs": [],
   "metadata": {}
  },
  {
   "cell_type": "code",
   "execution_count": 684,
   "source": [
    "print('Esperamos trabalhar no diretório')\r\n",
    "print(os.getcwd())"
   ],
   "outputs": [
    {
     "output_type": "stream",
     "name": "stdout",
     "text": [
      "Esperamos trabalhar no diretório\n",
      "c:\\Users\\guilh\\OneDrive\\Área de Trabalho\\Nova pasta (2)\\cd\\Projeto1_C.Dados-1\n"
     ]
    }
   ],
   "metadata": {
    "scrolled": false
   }
  },
  {
   "cell_type": "markdown",
   "source": [
    "Carregando a base de dados com os tweets classificados como relevantes e não relevantes:"
   ],
   "metadata": {}
  },
  {
   "cell_type": "code",
   "execution_count": 685,
   "source": [
    "filename = 'Air Fryer.xlsx'"
   ],
   "outputs": [],
   "metadata": {}
  },
  {
   "cell_type": "code",
   "execution_count": 686,
   "source": [
    "train = pd.read_excel(filename)\r\n",
    "train.head(5)"
   ],
   "outputs": [
    {
     "output_type": "execute_result",
     "data": {
      "text/html": [
       "<div>\n",
       "<style scoped>\n",
       "    .dataframe tbody tr th:only-of-type {\n",
       "        vertical-align: middle;\n",
       "    }\n",
       "\n",
       "    .dataframe tbody tr th {\n",
       "        vertical-align: top;\n",
       "    }\n",
       "\n",
       "    .dataframe thead th {\n",
       "        text-align: right;\n",
       "    }\n",
       "</style>\n",
       "<table border=\"1\" class=\"dataframe\">\n",
       "  <thead>\n",
       "    <tr style=\"text-align: right;\">\n",
       "      <th></th>\n",
       "      <th>Treinamento</th>\n",
       "      <th>Relevância</th>\n",
       "    </tr>\n",
       "  </thead>\n",
       "  <tbody>\n",
       "    <tr>\n",
       "      <th>0</th>\n",
       "      <td>air fryer pra canhoto</td>\n",
       "      <td>1</td>\n",
       "    </tr>\n",
       "    <tr>\n",
       "      <th>1</th>\n",
       "      <td>@vanessapeitos @daizenbvc o franky conseguiria...</td>\n",
       "      <td>0</td>\n",
       "    </tr>\n",
       "    <tr>\n",
       "      <th>2</th>\n",
       "      <td>adoro poder aplicar meus conhecimentos de enge...</td>\n",
       "      <td>1</td>\n",
       "    </tr>\n",
       "    <tr>\n",
       "      <th>3</th>\n",
       "      <td>@leilodecornohu1 \"amigo estamos falando de buc...</td>\n",
       "      <td>0</td>\n",
       "    </tr>\n",
       "    <tr>\n",
       "      <th>4</th>\n",
       "      <td>se eu n mandar isso aqui na dm de alguma esqui...</td>\n",
       "      <td>0</td>\n",
       "    </tr>\n",
       "  </tbody>\n",
       "</table>\n",
       "</div>"
      ],
      "text/plain": [
       "                                         Treinamento  Relevância\n",
       "0                              air fryer pra canhoto           1\n",
       "1  @vanessapeitos @daizenbvc o franky conseguiria...           0\n",
       "2  adoro poder aplicar meus conhecimentos de enge...           1\n",
       "3  @leilodecornohu1 \"amigo estamos falando de buc...           0\n",
       "4  se eu n mandar isso aqui na dm de alguma esqui...           0"
      ]
     },
     "metadata": {},
     "execution_count": 686
    }
   ],
   "metadata": {}
  },
  {
   "cell_type": "code",
   "execution_count": 687,
   "source": [
    "probN = train.Relevância.value_counts(True)[0]\r\n",
    "probR = train.Relevância.value_counts(True)[1]\r\n",
    "train.Treinamento"
   ],
   "outputs": [
    {
     "output_type": "execute_result",
     "data": {
      "text/plain": [
       "0                                  air fryer pra canhoto\n",
       "1      @vanessapeitos @daizenbvc o franky conseguiria...\n",
       "2      adoro poder aplicar meus conhecimentos de enge...\n",
       "3      @leilodecornohu1 \"amigo estamos falando de buc...\n",
       "4      se eu n mandar isso aqui na dm de alguma esqui...\n",
       "                             ...                        \n",
       "295    @annaborgess air fryer eh foda simplesmente a ...\n",
       "296    e @chromavka que escolheria brócolis na air fr...\n",
       "297        estou morando em brasilia ou em uma air fryer\n",
       "298    queria agradecer ao ser humano que inventou a ...\n",
       "299    air fryer filha da puta, prega os trem tudo va...\n",
       "Name: Treinamento, Length: 300, dtype: object"
      ]
     },
     "metadata": {},
     "execution_count": 687
    }
   ],
   "metadata": {}
  },
  {
   "cell_type": "code",
   "execution_count": 688,
   "source": [
    "test = pd.read_excel(filename, sheet_name = 'Teste')\r\n",
    "test.head(5)"
   ],
   "outputs": [
    {
     "output_type": "execute_result",
     "data": {
      "text/html": [
       "<div>\n",
       "<style scoped>\n",
       "    .dataframe tbody tr th:only-of-type {\n",
       "        vertical-align: middle;\n",
       "    }\n",
       "\n",
       "    .dataframe tbody tr th {\n",
       "        vertical-align: top;\n",
       "    }\n",
       "\n",
       "    .dataframe thead th {\n",
       "        text-align: right;\n",
       "    }\n",
       "</style>\n",
       "<table border=\"1\" class=\"dataframe\">\n",
       "  <thead>\n",
       "    <tr style=\"text-align: right;\">\n",
       "      <th></th>\n",
       "      <th>Teste</th>\n",
       "      <th>Relevância</th>\n",
       "    </tr>\n",
       "  </thead>\n",
       "  <tbody>\n",
       "    <tr>\n",
       "      <th>0</th>\n",
       "      <td>@poetatulio @tatyene_mendes isso é uma xota ou...</td>\n",
       "      <td>0</td>\n",
       "    </tr>\n",
       "    <tr>\n",
       "      <th>1</th>\n",
       "      <td>comprei uma air fryer p minha mãe, o bagulho caro</td>\n",
       "      <td>0</td>\n",
       "    </tr>\n",
       "    <tr>\n",
       "      <th>2</th>\n",
       "      <td>usando air fryer como se não houvesse o amanhã</td>\n",
       "      <td>1</td>\n",
       "    </tr>\n",
       "    <tr>\n",
       "      <th>3</th>\n",
       "      <td>minha mãe comprou uma air fryer e já ama mais ...</td>\n",
       "      <td>1</td>\n",
       "    </tr>\n",
       "    <tr>\n",
       "      <th>4</th>\n",
       "      <td>repita comigo: churrasco na air fryer não existe!</td>\n",
       "      <td>0</td>\n",
       "    </tr>\n",
       "  </tbody>\n",
       "</table>\n",
       "</div>"
      ],
      "text/plain": [
       "                                               Teste  Relevância\n",
       "0  @poetatulio @tatyene_mendes isso é uma xota ou...           0\n",
       "1  comprei uma air fryer p minha mãe, o bagulho caro           0\n",
       "2     usando air fryer como se não houvesse o amanhã           1\n",
       "3  minha mãe comprou uma air fryer e já ama mais ...           1\n",
       "4  repita comigo: churrasco na air fryer não existe!           0"
      ]
     },
     "metadata": {},
     "execution_count": 688
    }
   ],
   "metadata": {}
  },
  {
   "cell_type": "markdown",
   "source": [
    "___\n",
    "## Classificador automático de sentimento\n"
   ],
   "metadata": {}
  },
  {
   "cell_type": "markdown",
   "source": [
    "Faça aqui uma descrição do seu produto e o que considerou como relevante ou não relevante na classificação dos tweets.\n",
    "\n",
    "ESCREVA AQUI..."
   ],
   "metadata": {}
  },
  {
   "cell_type": "markdown",
   "source": [
    "___\n",
    "### Montando um Classificador Naive-Bayes\n",
    "\n",
    "Considerando apenas as mensagens da planilha Treinamento, ensine  seu classificador."
   ],
   "metadata": {}
  },
  {
   "cell_type": "code",
   "execution_count": 689,
   "source": [
    "import re \r\n",
    "\r\n",
    "\r\n",
    "def cleanup(text):\r\n",
    "    punctuation = '[@!-.:?;]'\r\n",
    "    pattern = re.compile(punctuation)\r\n",
    "    text_subbed = re.sub(pattern, '', text)\r\n",
    "    return text_subbed"
   ],
   "outputs": [],
   "metadata": {}
  },
  {
   "cell_type": "code",
   "execution_count": 690,
   "source": [
    "def cleanup2(text):\r\n",
    "    paragrafo = '\\n'\r\n",
    "    pattern = re.compile(paragrafo)\r\n",
    "    text_subbed = re.sub(pattern, ' ', text)\r\n",
    "    return text_subbed"
   ],
   "outputs": [],
   "metadata": {}
  },
  {
   "cell_type": "code",
   "execution_count": 691,
   "source": [
    "def cleanup3(text):\r\n",
    "    punctuation = '\\/'\r\n",
    "    pattern = re.compile(punctuation)\r\n",
    "    text_subbed = re.sub(pattern, ' ', text)\r\n",
    "    return text_subbed"
   ],
   "outputs": [],
   "metadata": {}
  },
  {
   "cell_type": "code",
   "execution_count": 692,
   "source": [
    "trainR = train.loc[train['Relevância'] == 1,:]\r\n",
    "trainN = train.loc[train['Relevância'] == 0,:]"
   ],
   "outputs": [],
   "metadata": {}
  },
  {
   "cell_type": "code",
   "execution_count": 693,
   "source": [
    "trainR = trainR.Treinamento.apply(str)\r\n",
    "trainR = trainR.to_list()"
   ],
   "outputs": [],
   "metadata": {}
  },
  {
   "cell_type": "code",
   "execution_count": 694,
   "source": [
    "trainN = trainN.Treinamento.apply(str)\r\n",
    "trainN = trainN.to_list()"
   ],
   "outputs": [],
   "metadata": {}
  },
  {
   "cell_type": "code",
   "execution_count": 695,
   "source": [
    "stringR = \" \"\r\n",
    "for i in trainR:\r\n",
    "    stringR = stringR + i + ' '\r\n",
    "stringR = stringR.lower()\r\n",
    "stringR = stringR.replace('air fryer', 'PRODUTO ')\r\n",
    "stringR = cleanup3(cleanup2(cleanup(stringR)))\r\n",
    "palavrasR = stringR.split()"
   ],
   "outputs": [],
   "metadata": {}
  },
  {
   "cell_type": "code",
   "execution_count": 696,
   "source": [
    "stringN = \" \"\r\n",
    "for i in trainN:\r\n",
    "    stringN = stringN + i + ' '\r\n",
    "stringN = stringN.lower()\r\n",
    "stringN = stringN.replace('air fryer', 'PRODUTO ')\r\n",
    "stringN = cleanup3(cleanup2(cleanup(stringN)))\r\n",
    "palavrasN = stringN.split()"
   ],
   "outputs": [],
   "metadata": {}
  },
  {
   "cell_type": "code",
   "execution_count": 697,
   "source": [
    "serie_tweets_relevantes = pd.Series(palavrasR)\r\n",
    "# serie_tweets_relevantes.head(10)"
   ],
   "outputs": [],
   "metadata": {}
  },
  {
   "cell_type": "code",
   "execution_count": 698,
   "source": [
    "serie_tweets_nao_relevantes = pd.Series(palavrasN)\r\n",
    "# serie_tweets_nao_relevantes.head(10)"
   ],
   "outputs": [],
   "metadata": {}
  },
  {
   "cell_type": "code",
   "execution_count": 699,
   "source": [
    "lista_tweets_relevantes = serie_tweets_relevantes.to_list()\r\n",
    "lista_tweets_nao_relevantes = serie_tweets_nao_relevantes.to_list()"
   ],
   "outputs": [],
   "metadata": {}
  },
  {
   "cell_type": "code",
   "execution_count": 700,
   "source": [
    "tabela_tweets_relevantes = serie_tweets_relevantes.value_counts()\r\n",
    "# tabela_tweets_relevantes"
   ],
   "outputs": [],
   "metadata": {}
  },
  {
   "cell_type": "code",
   "execution_count": 701,
   "source": [
    "tabela_tweets_nao_relevantes = serie_tweets_nao_relevantes.value_counts()\r\n",
    "# tabela_tweets_nao_relevantes"
   ],
   "outputs": [],
   "metadata": {}
  },
  {
   "cell_type": "code",
   "execution_count": 702,
   "source": [
    "tabela_tweets_relevantes_relativa = serie_tweets_relevantes.value_counts(True)\r\n",
    "# tabela_tweets_relevantes_relativa"
   ],
   "outputs": [],
   "metadata": {}
  },
  {
   "cell_type": "code",
   "execution_count": 703,
   "source": [
    "tabela_tweets_nao_relevantes_relativa = serie_tweets_nao_relevantes.value_counts(True)\r\n",
    "# tabela_tweets_nao_relevantes_relativa"
   ],
   "outputs": [],
   "metadata": {}
  },
  {
   "cell_type": "code",
   "execution_count": 704,
   "source": [
    "train_str = train.Treinamento.apply(str)\r\n",
    "train = train_str.to_list()\r\n",
    "# train"
   ],
   "outputs": [],
   "metadata": {}
  },
  {
   "cell_type": "code",
   "execution_count": 705,
   "source": [
    "string = \" \"\r\n",
    "for i in train:\r\n",
    "    string = string + i + ' '\r\n",
    "string = string.lower()\r\n",
    "string = string.replace('air fryer', 'PRODUTO ')\r\n",
    "string = cleanup3(cleanup2(cleanup(string)))\r\n",
    "palavras = string.split()\r\n",
    "# palavras"
   ],
   "outputs": [],
   "metadata": {}
  },
  {
   "cell_type": "code",
   "execution_count": 706,
   "source": [
    "tabela_tweets = pd.Series(palavras)\r\n",
    "# tabela_tweets\r\n"
   ],
   "outputs": [],
   "metadata": {}
  },
  {
   "cell_type": "code",
   "execution_count": 707,
   "source": [
    "# tabela_tweets.to_frame()"
   ],
   "outputs": [],
   "metadata": {}
  },
  {
   "cell_type": "code",
   "execution_count": 708,
   "source": [
    "lista_dos_tweets = []\r\n",
    "lista_tweet = []\r\n",
    "for tweet in train:\r\n",
    "  lista_tweet.append(tweet)\r\n",
    "  lista_dos_tweets.append(lista_tweet)\r\n",
    "  lista_tweet = []\r\n",
    "# lista_dos_tweets\r\n"
   ],
   "outputs": [],
   "metadata": {}
  },
  {
   "cell_type": "code",
   "execution_count": 709,
   "source": [
    "string = \" \"\r\n",
    "for i in train:\r\n",
    "    string = string + i + ' '\r\n",
    "string = string.lower()\r\n",
    "string = string.replace('air fryer', 'PRODUTO ')\r\n",
    "string = cleanup3(cleanup2(cleanup(string)))\r\n",
    "palavras = string.split()\r\n",
    "# palavras\r\n"
   ],
   "outputs": [],
   "metadata": {}
  },
  {
   "cell_type": "code",
   "execution_count": 710,
   "source": [
    "palavras_nao_repetidas = []\r\n",
    "for i in palavras:\r\n",
    "    if i not in palavras_nao_repetidas:\r\n",
    "        palavras_nao_repetidas.append(i)\r\n",
    "tabela_nao_repetidas = pd.Series(palavras_nao_repetidas)\r\n",
    "# tabela_nao_repetidas"
   ],
   "outputs": [],
   "metadata": {}
  },
  {
   "cell_type": "code",
   "execution_count": 711,
   "source": [
    "i=0\r\n",
    "y = []\r\n",
    "while i < 300:\r\n",
    "   x = lista_dos_tweets[i]\r\n",
    "   x = x[0].lower()\r\n",
    "   x = x.replace('air fryer', 'PRODUTO ')\r\n",
    "   x = cleanup3(cleanup2(cleanup(x)))\r\n",
    "   x=x.split()\r\n",
    "   y.append(x)\r\n",
    "   i+=1\r\n",
    "# y\r\n"
   ],
   "outputs": [],
   "metadata": {}
  },
  {
   "cell_type": "code",
   "execution_count": 712,
   "source": [
    "i = 0\r\n",
    "listaR=[]\r\n",
    "while i < 300:\r\n",
    "    p = y[i]\r\n",
    "    probFraseDadoR = 1\r\n",
    "    for n in p:\r\n",
    "        if n in tabela_tweets_relevantes:\r\n",
    "            probFraseDadoR = probFraseDadoR * ((tabela_tweets_relevantes[n]+1)/(len(tabela_tweets_relevantes)+len(tabela_nao_repetidas)))\r\n",
    "        else:\r\n",
    "            probFraseDadoR = probFraseDadoR * (1/(len(tabela_tweets_relevantes)+len(tabela_nao_repetidas)))\r\n",
    "\r\n",
    "    listaR.append(probFraseDadoR)\r\n",
    "    i+=1\r\n",
    "# listaR"
   ],
   "outputs": [],
   "metadata": {}
  },
  {
   "cell_type": "code",
   "execution_count": 713,
   "source": [
    "i = 0\r\n",
    "listaN=[]\r\n",
    "while i < 300:\r\n",
    "    p = y[i]\r\n",
    "    probFraseDadoN = 1\r\n",
    "    for n in p:\r\n",
    "        if n in tabela_tweets_nao_relevantes:\r\n",
    "            probFraseDadoN = probFraseDadoN * ((tabela_tweets_nao_relevantes[n]+1)/(len(tabela_tweets_nao_relevantes)+len(tabela_nao_repetidas)))\r\n",
    "        else:\r\n",
    "            probFraseDadoN = probFraseDadoN * (1/(len(tabela_tweets_nao_relevantes)+len(tabela_nao_repetidas)))\r\n",
    "\r\n",
    "    listaN.append(probFraseDadoN)\r\n",
    "    i+=1\r\n",
    "# listaN"
   ],
   "outputs": [],
   "metadata": {}
  },
  {
   "cell_type": "code",
   "execution_count": 714,
   "source": [
    "i = 0\r\n",
    "listar=[]\r\n",
    "while i < 300:\r\n",
    "    probRDadoFrase = listaR[i] * probR\r\n",
    "    listar.append(probRDadoFrase)\r\n",
    "    i+=1\r\n",
    "# listar"
   ],
   "outputs": [],
   "metadata": {}
  },
  {
   "cell_type": "code",
   "execution_count": 715,
   "source": [
    "i = 0\r\n",
    "listan=[]\r\n",
    "while i < 300:\r\n",
    "    probNDadoFrase = listaN[i] * probN\r\n",
    "    listan.append(probNDadoFrase)\r\n",
    "    i+=1\r\n",
    "# listan"
   ],
   "outputs": [],
   "metadata": {}
  },
  {
   "cell_type": "code",
   "execution_count": 716,
   "source": [
    "i = 0\r\n",
    "relevancia = []\r\n",
    "while i < 300:\r\n",
    "    if listar[i]>listan[i]:\r\n",
    "        relevancia.append('relevante')\r\n",
    "    else:\r\n",
    "        relevancia.append('irrelevante')\r\n",
    "    i+=1\r\n",
    "# relevancia\r\n"
   ],
   "outputs": [],
   "metadata": {}
  },
  {
   "cell_type": "code",
   "execution_count": 717,
   "source": [
    "def relevante(lista_de_tweet):\r\n",
    "    lista_dos_tweets2 = []\r\n",
    "    lista_tweet2 = []\r\n",
    "    for tweet in lista_de_tweet:\r\n",
    "        lista_tweet2.append(tweet)\r\n",
    "        lista_dos_tweets2.append(lista_tweet2)\r\n",
    "        lista_tweet2 = []\r\n",
    "\r\n",
    "    i=0\r\n",
    "    y1 = []\r\n",
    "    while i < 200:\r\n",
    "        x = lista_dos_tweets2[i]\r\n",
    "        x = x[0].lower()\r\n",
    "        x = x.replace('air fryer', 'PRODUTO ')\r\n",
    "        x = cleanup3(cleanup2(cleanup(x)))\r\n",
    "        x=x.split()\r\n",
    "        y1.append(x)\r\n",
    "        i+=1\r\n",
    "        \r\n",
    "    i = 0\r\n",
    "    listaR=[]\r\n",
    "    while i < 200:        \r\n",
    "        p = y1[i]\r\n",
    "        probFraseDadoR = 1\r\n",
    "        for n in p:\r\n",
    "            if n in tabela_tweets_relevantes:\r\n",
    "                probFraseDadoR = probFraseDadoR * ((tabela_tweets_relevantes[n]+1)/(len(tabela_tweets_relevantes)+len(tabela_nao_repetidas)))\r\n",
    "            else:\r\n",
    "                probFraseDadoR = probFraseDadoR * (1/(len(tabela_tweets_relevantes)+len(tabela_nao_repetidas)))\r\n",
    "\r\n",
    "        listaR.append(probFraseDadoR)\r\n",
    "        i+=1\r\n",
    "\r\n",
    "    i = 0\r\n",
    "    listaN=[]\r\n",
    "    while i < 200:       \r\n",
    "        p = y1[i]\r\n",
    "        probFraseDadoN = 1\r\n",
    "        for n in p:\r\n",
    "            if n in tabela_tweets_nao_relevantes:\r\n",
    "                probFraseDadoN = probFraseDadoN * ((tabela_tweets_nao_relevantes[n]+1)/(len(tabela_tweets_nao_relevantes)+len(tabela_nao_repetidas)))\r\n",
    "            else:\r\n",
    "                probFraseDadoN = probFraseDadoN * (1/(len(tabela_tweets_nao_relevantes)+len(tabela_nao_repetidas)))\r\n",
    "\r\n",
    "        listaN.append(probFraseDadoN)\r\n",
    "        i+=1\r\n",
    "\r\n",
    "    i = 0\r\n",
    "    listar=[]\r\n",
    "    while i < 200:        \r\n",
    "        probRDadoFrase = listaR[i] * probR\r\n",
    "        listar.append(probRDadoFrase)\r\n",
    "        i+=1\r\n",
    "\r\n",
    "    i = 0\r\n",
    "    listan=[]\r\n",
    "    while i < 200:\r\n",
    "        probNDadoFrase = listaN[i] * probN\r\n",
    "        listan.append(probNDadoFrase)\r\n",
    "        i+=1\r\n",
    "\r\n",
    "    i = 0\r\n",
    "    relevancia = []\r\n",
    "    while i < 200:        \r\n",
    "        if listar[i]>listan[i]:\r\n",
    "            relevancia.append(1)\r\n",
    "        else:\r\n",
    "            relevancia.append(0)\r\n",
    "        i+=1\r\n",
    "    return relevancia"
   ],
   "outputs": [],
   "metadata": {}
  },
  {
   "cell_type": "markdown",
   "source": [
    "___\n",
    "### Verificando a performance do Classificador\n",
    "\n",
    "Agora você deve testar o seu classificador com a base de Testes."
   ],
   "metadata": {}
  },
  {
   "cell_type": "code",
   "execution_count": 718,
   "source": [
    "test1 = test.Teste.apply(str)\r\n",
    "test2 = test1.to_list()\r\n",
    "\r\n",
    "\r\n",
    "\r\n"
   ],
   "outputs": [],
   "metadata": {}
  },
  {
   "cell_type": "code",
   "execution_count": 725,
   "source": [
    "x=relevante(test2)\r\n",
    "v=pd.Series(x)\r\n",
    "vreal= test.Relevância.to_list()\r\n",
    "listaloca=[0]*len(x)\r\n",
    "i=0\r\n",
    "while i<len(x):\r\n",
    "    if x[i] == vreal[i] and x[i] == 0:\r\n",
    "        listaloca[i] = 'verdadeiro negativo'\r\n",
    "    if x[i] == vreal[i] and x[i] == 1:\r\n",
    "        listaloca[i] = 'verdadeiro positivo'\r\n",
    "\r\n",
    "    if x[i] != vreal[i] and x[i] == 0:\r\n",
    "        listaloca[i] = 'falso negativo'\r\n",
    "\r\n",
    "    if x[i] != vreal[i] and x[i] == 1:\r\n",
    "        listaloca[i] = 'falso positivo'\r\n",
    "\r\n",
    "    i+=1\r\n",
    "porcentagens = pd.Series(listaloca)\r\n",
    "porcentagens.value_counts(True)*100"
   ],
   "outputs": [
    {
     "output_type": "execute_result",
     "data": {
      "text/plain": [
       "verdadeiro positivo    48.5\n",
       "falso positivo         31.0\n",
       "verdadeiro negativo    15.0\n",
       "falso negativo          5.5\n",
       "dtype: float64"
      ]
     },
     "metadata": {},
     "execution_count": 725
    }
   ],
   "metadata": {}
  },
  {
   "cell_type": "code",
   "execution_count": 724,
   "source": [
    "listaloca"
   ],
   "outputs": [
    {
     "output_type": "execute_result",
     "data": {
      "text/plain": [
       "['verdadeiro negativo',\n",
       " 'falso positivo',\n",
       " 'verdadeiro positivo',\n",
       " 'verdadeiro positivo',\n",
       " 'falso positivo',\n",
       " 'verdadeiro positivo',\n",
       " 'falso positivo',\n",
       " 'verdadeiro positivo',\n",
       " 'verdadeiro positivo',\n",
       " 'verdadeiro positivo',\n",
       " 'falso positivo',\n",
       " 'verdadeiro positivo',\n",
       " 'verdadeiro positivo',\n",
       " 'verdadeiro positivo',\n",
       " 'verdadeiro positivo',\n",
       " 'verdadeiro positivo',\n",
       " 'verdadeiro positivo',\n",
       " 'falso positivo',\n",
       " 'verdadeiro positivo',\n",
       " 'verdadeiro positivo',\n",
       " 'falso positivo',\n",
       " 'verdadeiro positivo',\n",
       " 'verdadeiro positivo',\n",
       " 'verdadeiro negativo',\n",
       " 'falso positivo',\n",
       " 'verdadeiro positivo',\n",
       " 'falso positivo',\n",
       " 'verdadeiro positivo',\n",
       " 'falso positivo',\n",
       " 'falso positivo',\n",
       " 'verdadeiro positivo',\n",
       " 'verdadeiro positivo',\n",
       " 'verdadeiro positivo',\n",
       " 'verdadeiro positivo',\n",
       " 'verdadeiro positivo',\n",
       " 'verdadeiro negativo',\n",
       " 'falso positivo',\n",
       " 'falso positivo',\n",
       " 'verdadeiro positivo',\n",
       " 'verdadeiro positivo',\n",
       " 'verdadeiro positivo',\n",
       " 'verdadeiro positivo',\n",
       " 'falso negativo',\n",
       " 'verdadeiro positivo',\n",
       " 'verdadeiro positivo',\n",
       " 'verdadeiro positivo',\n",
       " 'verdadeiro negativo',\n",
       " 'falso positivo',\n",
       " 'verdadeiro negativo',\n",
       " 'verdadeiro positivo',\n",
       " 'verdadeiro positivo',\n",
       " 'verdadeiro positivo',\n",
       " 'verdadeiro negativo',\n",
       " 'falso positivo',\n",
       " 'verdadeiro positivo',\n",
       " 'falso positivo',\n",
       " 'verdadeiro positivo',\n",
       " 'verdadeiro positivo',\n",
       " 'verdadeiro positivo',\n",
       " 'falso positivo',\n",
       " 'falso positivo',\n",
       " 'verdadeiro negativo',\n",
       " 'falso positivo',\n",
       " 'verdadeiro positivo',\n",
       " 'falso negativo',\n",
       " 'falso positivo',\n",
       " 'falso negativo',\n",
       " 'verdadeiro positivo',\n",
       " 'verdadeiro negativo',\n",
       " 'verdadeiro negativo',\n",
       " 'verdadeiro positivo',\n",
       " 'falso negativo',\n",
       " 'verdadeiro positivo',\n",
       " 'verdadeiro positivo',\n",
       " 'verdadeiro negativo',\n",
       " 'falso positivo',\n",
       " 'verdadeiro positivo',\n",
       " 'falso positivo',\n",
       " 'falso negativo',\n",
       " 'verdadeiro positivo',\n",
       " 'verdadeiro positivo',\n",
       " 'falso positivo',\n",
       " 'verdadeiro positivo',\n",
       " 'verdadeiro positivo',\n",
       " 'falso positivo',\n",
       " 'falso positivo',\n",
       " 'falso positivo',\n",
       " 'verdadeiro negativo',\n",
       " 'falso positivo',\n",
       " 'verdadeiro positivo',\n",
       " 'verdadeiro positivo',\n",
       " 'falso positivo',\n",
       " 'verdadeiro positivo',\n",
       " 'verdadeiro positivo',\n",
       " 'verdadeiro positivo',\n",
       " 'verdadeiro negativo',\n",
       " 'verdadeiro positivo',\n",
       " 'falso positivo',\n",
       " 'falso negativo',\n",
       " 'falso positivo',\n",
       " 'falso positivo',\n",
       " 'verdadeiro positivo',\n",
       " 'verdadeiro positivo',\n",
       " 'verdadeiro positivo',\n",
       " 'falso negativo',\n",
       " 'falso positivo',\n",
       " 'verdadeiro negativo',\n",
       " 'verdadeiro positivo',\n",
       " 'verdadeiro negativo',\n",
       " 'verdadeiro negativo',\n",
       " 'verdadeiro positivo',\n",
       " 'falso positivo',\n",
       " 'verdadeiro negativo',\n",
       " 'verdadeiro positivo',\n",
       " 'falso positivo',\n",
       " 'falso negativo',\n",
       " 'falso positivo',\n",
       " 'verdadeiro positivo',\n",
       " 'verdadeiro positivo',\n",
       " 'verdadeiro positivo',\n",
       " 'verdadeiro positivo',\n",
       " 'verdadeiro positivo',\n",
       " 'verdadeiro positivo',\n",
       " 'verdadeiro positivo',\n",
       " 'verdadeiro negativo',\n",
       " 'verdadeiro positivo',\n",
       " 'verdadeiro negativo',\n",
       " 'verdadeiro positivo',\n",
       " 'verdadeiro positivo',\n",
       " 'verdadeiro negativo',\n",
       " 'verdadeiro negativo',\n",
       " 'falso positivo',\n",
       " 'falso positivo',\n",
       " 'verdadeiro positivo',\n",
       " 'verdadeiro positivo',\n",
       " 'falso positivo',\n",
       " 'verdadeiro negativo',\n",
       " 'falso positivo',\n",
       " 'verdadeiro positivo',\n",
       " 'verdadeiro positivo',\n",
       " 'falso positivo',\n",
       " 'falso positivo',\n",
       " 'verdadeiro positivo',\n",
       " 'verdadeiro positivo',\n",
       " 'falso positivo',\n",
       " 'verdadeiro positivo',\n",
       " 'verdadeiro positivo',\n",
       " 'falso positivo',\n",
       " 'verdadeiro positivo',\n",
       " 'verdadeiro positivo',\n",
       " 'verdadeiro negativo',\n",
       " 'verdadeiro positivo',\n",
       " 'falso positivo',\n",
       " 'verdadeiro positivo',\n",
       " 'verdadeiro positivo',\n",
       " 'verdadeiro positivo',\n",
       " 'verdadeiro negativo',\n",
       " 'falso negativo',\n",
       " 'falso positivo',\n",
       " 'verdadeiro positivo',\n",
       " 'falso positivo',\n",
       " 'falso positivo',\n",
       " 'verdadeiro negativo',\n",
       " 'verdadeiro positivo',\n",
       " 'falso positivo',\n",
       " 'verdadeiro positivo',\n",
       " 'falso positivo',\n",
       " 'verdadeiro positivo',\n",
       " 'verdadeiro positivo',\n",
       " 'falso positivo',\n",
       " 'falso positivo',\n",
       " 'verdadeiro negativo',\n",
       " 'falso positivo',\n",
       " 'falso positivo',\n",
       " 'verdadeiro negativo',\n",
       " 'verdadeiro negativo',\n",
       " 'falso positivo',\n",
       " 'falso negativo',\n",
       " 'verdadeiro positivo',\n",
       " 'verdadeiro negativo',\n",
       " 'falso positivo',\n",
       " 'falso positivo',\n",
       " 'verdadeiro positivo',\n",
       " 'verdadeiro positivo',\n",
       " 'falso positivo',\n",
       " 'falso positivo',\n",
       " 'verdadeiro positivo',\n",
       " 'verdadeiro positivo',\n",
       " 'verdadeiro negativo',\n",
       " 'verdadeiro positivo',\n",
       " 'falso positivo',\n",
       " 'falso positivo',\n",
       " 'verdadeiro negativo',\n",
       " 'falso negativo',\n",
       " 'verdadeiro positivo',\n",
       " 'verdadeiro positivo',\n",
       " 'verdadeiro positivo',\n",
       " 'falso positivo',\n",
       " 'falso positivo',\n",
       " 'falso positivo']"
      ]
     },
     "metadata": {},
     "execution_count": 724
    }
   ],
   "metadata": {}
  },
  {
   "cell_type": "code",
   "execution_count": null,
   "source": [],
   "outputs": [],
   "metadata": {}
  },
  {
   "cell_type": "code",
   "execution_count": null,
   "source": [],
   "outputs": [],
   "metadata": {}
  },
  {
   "cell_type": "markdown",
   "source": [
    "___\n",
    "### Concluindo"
   ],
   "metadata": {}
  },
  {
   "cell_type": "code",
   "execution_count": null,
   "source": [],
   "outputs": [],
   "metadata": {}
  },
  {
   "cell_type": "code",
   "execution_count": null,
   "source": [],
   "outputs": [],
   "metadata": {}
  },
  {
   "cell_type": "code",
   "execution_count": null,
   "source": [],
   "outputs": [],
   "metadata": {}
  },
  {
   "cell_type": "markdown",
   "source": [
    "___\n",
    "### Qualidade do Classificador a partir de novas separações dos tweets entre Treinamento e Teste\n",
    "\n",
    "Caso for fazer esse item do Projeto"
   ],
   "metadata": {}
  },
  {
   "cell_type": "code",
   "execution_count": null,
   "source": [],
   "outputs": [],
   "metadata": {}
  },
  {
   "cell_type": "code",
   "execution_count": null,
   "source": [],
   "outputs": [],
   "metadata": {}
  },
  {
   "cell_type": "code",
   "execution_count": null,
   "source": [],
   "outputs": [],
   "metadata": {}
  },
  {
   "cell_type": "markdown",
   "source": [
    "___\n",
    "## Aperfeiçoamento:\n",
    "\n",
    "Trabalhos que conseguirem pelo menos conceito B vão evoluir em conceito dependendo da quantidade de itens avançados:\n",
    "\n",
    "* IMPLEMENTOU outras limpezas e transformações que não afetem a qualidade da informação contida nos tweets. Ex: stemming, lemmatization, stopwords\n",
    "* CORRIGIU separação de espaços entre palavras e emojis ou entre emojis e emojis\n",
    "* CRIOU categorias intermediárias de relevância baseadas na probabilidade: ex.: muito relevante, relevante, neutro, irrelevante, muito irrelevante. Pelo menos quatro categorias, com adição de mais tweets na base, conforme enunciado. (OBRIGATÓRIO PARA TRIOS, sem contar como item avançado)\n",
    "* EXPLICOU porquê não pode usar o próprio classificador para gerar mais amostras de treinamento\n",
    "* PROPÔS diferentes cenários para Naïve Bayes fora do contexto do projeto\n",
    "* SUGERIU e EXPLICOU melhorias reais com indicações concretas de como implementar (indicar como fazer e indicar material de pesquisa)\n",
    "* FEZ o item 6. Qualidade do Classificador a partir de novas separações dos tweets entre Treinamento e Teste descrito no enunciado do projeto (OBRIGATÓRIO para conceitos A ou A+)"
   ],
   "metadata": {},
   "attachments": {}
  },
  {
   "cell_type": "markdown",
   "source": [
    "___\n",
    "## Referências"
   ],
   "metadata": {}
  },
  {
   "cell_type": "markdown",
   "source": [
    "[Naive Bayes and Text Classification](https://arxiv.org/pdf/1410.5329.pdf)  **Mais completo**\n",
    "\n",
    "[A practical explanation of a Naive Bayes Classifier](https://monkeylearn.com/blog/practical-explanation-naive-bayes-classifier/) **Mais simples**"
   ],
   "metadata": {}
  },
  {
   "cell_type": "code",
   "execution_count": null,
   "source": [],
   "outputs": [],
   "metadata": {}
  }
 ],
 "metadata": {
  "interpreter": {
   "hash": "51b9ad24d63439ac1595c0936db43b926a873ce9029c5f9bea069af26a7b72f1"
  },
  "kernelspec": {
   "name": "python3",
   "display_name": "Python 3.8.5 64-bit ('base': conda)"
  },
  "language_info": {
   "codemirror_mode": {
    "name": "ipython",
    "version": 3
   },
   "file_extension": ".py",
   "mimetype": "text/x-python",
   "name": "python",
   "nbconvert_exporter": "python",
   "pygments_lexer": "ipython3",
   "version": "3.8.5"
  },
  "metadata": {
   "interpreter": {
    "hash": "cb912411e23237fadbf4a5d0e899a2744866961a2205d2742a20610e6052bb20"
   }
  }
 },
 "nbformat": 4,
 "nbformat_minor": 4
}